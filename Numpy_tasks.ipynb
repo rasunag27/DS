{
  "cells": [
    {
      "cell_type": "markdown",
      "metadata": {
        "id": "MtOeeYDNbUL7"
      },
      "source": [
        "# Numpy\n",
        "\n"
      ]
    },
    {
      "cell_type": "markdown",
      "metadata": {
        "id": "h8UAu76RbUMC"
      },
      "source": [
        "#### 1. Import the numpy package under the name `np` (★☆☆) \n",
        "(**hint**: import … as …)"
      ]
    },
    {
      "cell_type": "code",
      "execution_count": 45,
      "metadata": {
        "collapsed": true,
        "id": "dctM-6EhbUMD"
      },
      "outputs": [],
      "source": [
        "import numpy as np"
      ]
    },
    {
      "cell_type": "markdown",
      "metadata": {
        "id": "UCZ3KzcdbUME"
      },
      "source": [
        "#### 2. Print the numpy version and the configuration (★☆☆) \n",
        "(**hint**: np.\\_\\_version\\_\\_, np.show\\_config)"
      ]
    },
    {
      "cell_type": "code",
      "execution_count": 46,
      "metadata": {
        "id": "aLNBJ5IzbUME",
        "colab": {
          "base_uri": "https://localhost:8080/"
        },
        "outputId": "fe69dbfe-fc94-462e-8e87-7020acb3a49d"
      },
      "outputs": [
        {
          "output_type": "stream",
          "name": "stdout",
          "text": [
            "1.21.5\n",
            "blas_mkl_info:\n",
            "  NOT AVAILABLE\n",
            "blis_info:\n",
            "  NOT AVAILABLE\n",
            "openblas_info:\n",
            "    libraries = ['openblas', 'openblas']\n",
            "    library_dirs = ['/usr/local/lib']\n",
            "    language = c\n",
            "    define_macros = [('HAVE_CBLAS', None)]\n",
            "    runtime_library_dirs = ['/usr/local/lib']\n",
            "blas_opt_info:\n",
            "    libraries = ['openblas', 'openblas']\n",
            "    library_dirs = ['/usr/local/lib']\n",
            "    language = c\n",
            "    define_macros = [('HAVE_CBLAS', None)]\n",
            "    runtime_library_dirs = ['/usr/local/lib']\n",
            "lapack_mkl_info:\n",
            "  NOT AVAILABLE\n",
            "openblas_lapack_info:\n",
            "    libraries = ['openblas', 'openblas']\n",
            "    library_dirs = ['/usr/local/lib']\n",
            "    language = c\n",
            "    define_macros = [('HAVE_CBLAS', None)]\n",
            "    runtime_library_dirs = ['/usr/local/lib']\n",
            "lapack_opt_info:\n",
            "    libraries = ['openblas', 'openblas']\n",
            "    library_dirs = ['/usr/local/lib']\n",
            "    language = c\n",
            "    define_macros = [('HAVE_CBLAS', None)]\n",
            "    runtime_library_dirs = ['/usr/local/lib']\n",
            "Supported SIMD extensions in this NumPy install:\n",
            "    baseline = SSE,SSE2,SSE3\n",
            "    found = SSSE3,SSE41,POPCNT,SSE42,AVX,F16C,FMA3,AVX2\n",
            "    not found = AVX512F,AVX512CD,AVX512_KNL,AVX512_KNM,AVX512_SKX,AVX512_CLX,AVX512_CNL,AVX512_ICL\n",
            "None\n"
          ]
        }
      ],
      "source": [
        "print(np.__version__)\n",
        "print(np.show_config())"
      ]
    },
    {
      "cell_type": "markdown",
      "metadata": {
        "id": "uL3JznVfbUMF"
      },
      "source": [
        "#### 3. Create a null vector of size 10 (★☆☆) \n",
        "(**hint**: np.zeros)"
      ]
    },
    {
      "cell_type": "code",
      "execution_count": 47,
      "metadata": {
        "id": "HS0UXTGnbUMF",
        "colab": {
          "base_uri": "https://localhost:8080/"
        },
        "outputId": "82c5ee75-7324-47e5-f950-948a0e1a3860"
      },
      "outputs": [
        {
          "output_type": "execute_result",
          "data": {
            "text/plain": [
              "array([0., 0., 0., 0., 0., 0., 0., 0., 0., 0.])"
            ]
          },
          "metadata": {},
          "execution_count": 47
        }
      ],
      "source": [
        "a = np.zeros(10)\n",
        "a"
      ]
    },
    {
      "cell_type": "markdown",
      "metadata": {
        "id": "USGJ2pIvbUMG"
      },
      "source": [
        "#### 4.  How to find the memory size of any array (★☆☆) \n",
        "(**hint**: size, itemsize)"
      ]
    },
    {
      "cell_type": "code",
      "execution_count": 48,
      "metadata": {
        "id": "7ha6sCPrbUMG",
        "colab": {
          "base_uri": "https://localhost:8080/"
        },
        "outputId": "db49dc55-db8d-467f-c3be-15e67e3e1c8a"
      },
      "outputs": [
        {
          "output_type": "stream",
          "name": "stdout",
          "text": [
            "Size of array:  4\n",
            "Memory size of array elements in bytes:  8\n",
            "Memory size of array:  32\n"
          ]
        }
      ],
      "source": [
        "a = np.array([10,30,25,15])\n",
        "\n",
        "print('Size of array: ',a.size)\n",
        "print('Memory size of array elements in bytes: ',a.itemsize)\n",
        "print('Memory size of array: ',a.size*a.itemsize)"
      ]
    },
    {
      "cell_type": "markdown",
      "metadata": {
        "id": "YVd-EruVbUMH"
      },
      "source": [
        "#### 5.  How to get the documentation of the numpy add function from the command line? (★☆☆) \n",
        "(**hint**: np.info)"
      ]
    },
    {
      "cell_type": "code",
      "execution_count": 49,
      "metadata": {
        "collapsed": true,
        "id": "sRYNEnJnbUMH",
        "colab": {
          "base_uri": "https://localhost:8080/"
        },
        "outputId": "c22636e0-0954-4559-d038-7fb6bd03f622"
      },
      "outputs": [
        {
          "output_type": "stream",
          "name": "stdout",
          "text": [
            "None\n"
          ]
        }
      ],
      "source": [
        "print(np.info(np.add))"
      ]
    },
    {
      "cell_type": "markdown",
      "metadata": {
        "id": "H1dnkXc2bUMI"
      },
      "source": [
        "#### 6.  Create a null vector of size 10 but the fifth value which is 1 (★☆☆) \n",
        "(**hint**: array\\[4\\])"
      ]
    },
    {
      "cell_type": "code",
      "execution_count": 50,
      "metadata": {
        "id": "vqcULBJubUMI",
        "colab": {
          "base_uri": "https://localhost:8080/"
        },
        "outputId": "c88461e8-2bb3-41dc-cbef-f639aab227d4"
      },
      "outputs": [
        {
          "output_type": "stream",
          "name": "stdout",
          "text": [
            "[0. 0. 0. 0. 1. 0. 0. 0. 0. 0.]\n"
          ]
        }
      ],
      "source": [
        "a = np.zeros(10)\n",
        "a[4] = 1\n",
        "print(a)"
      ]
    },
    {
      "cell_type": "markdown",
      "metadata": {
        "id": "lxiVIHymbUMI"
      },
      "source": [
        "#### 7.  Create a vector with values ranging from 10 to 49 (★☆☆) \n",
        "(**hint**: np.arange)"
      ]
    },
    {
      "cell_type": "code",
      "execution_count": 51,
      "metadata": {
        "id": "6sOVQPhDbUMJ",
        "colab": {
          "base_uri": "https://localhost:8080/"
        },
        "outputId": "645f9474-db9e-4372-c148-60dba13e634d"
      },
      "outputs": [
        {
          "output_type": "execute_result",
          "data": {
            "text/plain": [
              "array([10, 11, 12, 13, 14, 15, 16, 17, 18, 19, 20, 21, 22, 23, 24, 25, 26,\n",
              "       27, 28, 29, 30, 31, 32, 33, 34, 35, 36, 37, 38, 39, 40, 41, 42, 43,\n",
              "       44, 45, 46, 47, 48])"
            ]
          },
          "metadata": {},
          "execution_count": 51
        }
      ],
      "source": [
        "np.arange(10, 49, 1)"
      ]
    },
    {
      "cell_type": "markdown",
      "metadata": {
        "id": "ebLqdFS9bUMJ"
      },
      "source": [
        "#### 8.  Reverse a vector (first element becomes last) (★☆☆) \n",
        "(**hint**: array\\[::-1\\])"
      ]
    },
    {
      "cell_type": "code",
      "execution_count": 52,
      "metadata": {
        "id": "VFehqUu6bUMK",
        "colab": {
          "base_uri": "https://localhost:8080/"
        },
        "outputId": "c830a34c-8370-4141-fd13-c5324ae4f4a6"
      },
      "outputs": [
        {
          "output_type": "stream",
          "name": "stdout",
          "text": [
            "[5 4 3 2 1]\n"
          ]
        }
      ],
      "source": [
        "a = np.array([1, 2, 3, 4, 5])\n",
        "print(a[::-1])"
      ]
    },
    {
      "cell_type": "markdown",
      "metadata": {
        "id": "D3IsW5CNbUMK"
      },
      "source": [
        "#### 9.  Create a 3x3 matrix with values ranging from 0 to 8 (★☆☆) \n",
        "(**hint**: reshape)"
      ]
    },
    {
      "cell_type": "code",
      "execution_count": 53,
      "metadata": {
        "id": "w0rBSUdHbUMK",
        "colab": {
          "base_uri": "https://localhost:8080/"
        },
        "outputId": "a256a100-df84-4eb9-b8bd-bc76eacb5ffe"
      },
      "outputs": [
        {
          "output_type": "stream",
          "name": "stdout",
          "text": [
            "[[0 1 2]\n",
            " [3 4 5]\n",
            " [6 7 8]]\n"
          ]
        }
      ],
      "source": [
        "x =  np.arange(0, 9).reshape(3,3)\n",
        "print(x)"
      ]
    },
    {
      "cell_type": "markdown",
      "metadata": {
        "id": "TQvBHZRbbUML"
      },
      "source": [
        "#### 10. Find indices of non-zero elements from \\[1,2,0,0,4,0\\] (★☆☆) \n",
        "(**hint**: np.nonzero)"
      ]
    },
    {
      "cell_type": "code",
      "execution_count": 54,
      "metadata": {
        "id": "O2vVRTI2bUML",
        "colab": {
          "base_uri": "https://localhost:8080/"
        },
        "outputId": "2cd0c9c6-4f44-49b3-fd25-d4b4e32c3034"
      },
      "outputs": [
        {
          "output_type": "stream",
          "name": "stdout",
          "text": [
            "(array([0, 1, 4]),)\n"
          ]
        }
      ],
      "source": [
        "a = [1,2,0,0,4,0]\n",
        "print(np.nonzero(a))"
      ]
    },
    {
      "cell_type": "markdown",
      "metadata": {
        "id": "Kzs9qsR3bUML"
      },
      "source": [
        "#### 11. Create a 3x3 identity matrix (★☆☆) \n",
        "(**hint**: np.eye)"
      ]
    },
    {
      "cell_type": "code",
      "execution_count": 55,
      "metadata": {
        "id": "MArj77MnbUMM",
        "colab": {
          "base_uri": "https://localhost:8080/"
        },
        "outputId": "2c7b684a-be80-4c6e-a3ae-a9bf4182be31"
      },
      "outputs": [
        {
          "output_type": "execute_result",
          "data": {
            "text/plain": [
              "array([[1., 0., 0.],\n",
              "       [0., 1., 0.],\n",
              "       [0., 0., 1.]])"
            ]
          },
          "metadata": {},
          "execution_count": 55
        }
      ],
      "source": [
        "a = np.eye(3,3)\n",
        "a"
      ]
    },
    {
      "cell_type": "markdown",
      "metadata": {
        "id": "qYJxVyaebUMM"
      },
      "source": [
        "#### 12. Create a 3x3x3 array with random values (★☆☆) \n",
        "(**hint**: np.random.random)"
      ]
    },
    {
      "cell_type": "code",
      "execution_count": 56,
      "metadata": {
        "collapsed": true,
        "id": "8SsGn83GbUMM",
        "colab": {
          "base_uri": "https://localhost:8080/"
        },
        "outputId": "5491d8c4-d58e-497a-f9a9-e7841508ae62"
      },
      "outputs": [
        {
          "output_type": "stream",
          "name": "stdout",
          "text": [
            "[[[0.13744043 0.46854353 0.65354126]\n",
            "  [0.75078572 0.91660494 0.50230669]\n",
            "  [0.84130626 0.85410914 0.94480711]]\n",
            "\n",
            " [[0.18070985 0.36180046 0.33377349]\n",
            "  [0.00370927 0.04814377 0.56102322]\n",
            "  [0.32024446 0.69625777 0.35134324]]\n",
            "\n",
            " [[0.35694851 0.91546334 0.26479579]\n",
            "  [0.81474264 0.29100183 0.92782116]\n",
            "  [0.75257815 0.71491506 0.87793647]]]\n"
          ]
        }
      ],
      "source": [
        "a = np.random.random((3,3,3))\n",
        "print(a)"
      ]
    },
    {
      "cell_type": "markdown",
      "metadata": {
        "id": "MHvDuzNKbUMM"
      },
      "source": [
        "#### 13. Create a 10x10 array with random values and find the minimum and maximum values (★☆☆) \n",
        "(**hint**: min, max)"
      ]
    },
    {
      "cell_type": "code",
      "execution_count": 57,
      "metadata": {
        "id": "F9rcb9b8bUMM",
        "colab": {
          "base_uri": "https://localhost:8080/"
        },
        "outputId": "59d73763-fbb1-45dc-f0b9-c2f49e7ee94d"
      },
      "outputs": [
        {
          "output_type": "stream",
          "name": "stdout",
          "text": [
            "[[0.15912623 0.00248087 0.12298342 0.36367513 0.99152466]\n",
            " [0.5861811  0.46913498 0.21964334 0.9745332  0.01775699]\n",
            " [0.91195357 0.92771315 0.83976732 0.04980389 0.75676172]\n",
            " [0.92148016 0.58366755 0.03964736 0.93611499 0.16126176]\n",
            " [0.48631108 0.21514783 0.18969354 0.10416054 0.70668438]]\n",
            "Max value of a is:  0.9915246628662342\n",
            "Min value of a is:  0.002480873320104826\n"
          ]
        }
      ],
      "source": [
        "a = np.random.random((5,5))\n",
        "print(a)\n",
        "amax, amin = a.max(), a.min()\n",
        "print('Max value of a is: ',amax)\n",
        "print('Min value of a is: ',amin)"
      ]
    },
    {
      "cell_type": "markdown",
      "metadata": {
        "id": "CfaLAiFDbUMN"
      },
      "source": [
        "#### 14. Create a random vector of size 30 and find the mean value (★☆☆) \n",
        "(**hint**: mean)"
      ]
    },
    {
      "cell_type": "code",
      "execution_count": 58,
      "metadata": {
        "id": "JKEtDP7KbUMN",
        "colab": {
          "base_uri": "https://localhost:8080/"
        },
        "outputId": "b82eee26-d7fe-4e57-bd4d-829d532f73e0"
      },
      "outputs": [
        {
          "output_type": "stream",
          "name": "stdout",
          "text": [
            "[0.95157003 0.65926626 0.5413524  0.38650165 0.78221914 0.71461761\n",
            " 0.88814054 0.12302571 0.39997633 0.67390314 0.98565224 0.66736962\n",
            " 0.94201644 0.45349969 0.47435211 0.0362844  0.44768786 0.01276411\n",
            " 0.31059275 0.26792124 0.34287017 0.30976747 0.92549591 0.85904374\n",
            " 0.97759165 0.79118888 0.78763143 0.21676986 0.37264755 0.42015221]\n",
            "Mean value of a is:  0.5573957378068294\n"
          ]
        }
      ],
      "source": [
        "a = np.random.random(30)\n",
        "print(a)\n",
        "print('Mean value of a is: ',np.mean(a))"
      ]
    },
    {
      "cell_type": "markdown",
      "metadata": {
        "id": "3ckXdtHFbUMN"
      },
      "source": [
        "#### 15. Create a 2d array with 1 on the border and 0 inside (★☆☆) \n",
        "(**hint**: array\\[1:-1, 1:-1\\])"
      ]
    },
    {
      "cell_type": "code",
      "execution_count": 59,
      "metadata": {
        "id": "OteyI_vbbUMN",
        "colab": {
          "base_uri": "https://localhost:8080/"
        },
        "outputId": "3958b365-af44-424c-e84d-2a46cab62c91"
      },
      "outputs": [
        {
          "output_type": "stream",
          "name": "stdout",
          "text": [
            "[[1. 1. 1. 1. 1.]\n",
            " [1. 0. 0. 0. 1.]\n",
            " [1. 0. 0. 0. 1.]\n",
            " [1. 0. 0. 0. 1.]\n",
            " [1. 1. 1. 1. 1.]]\n"
          ]
        }
      ],
      "source": [
        "a = np.ones((5,5))\n",
        "a[1:-1, 1:-1] = 0\n",
        "print(a)"
      ]
    },
    {
      "cell_type": "markdown",
      "metadata": {
        "id": "blhnoMshbUMN"
      },
      "source": [
        "#### 16. How to add a border (filled with 0's) around an existing array? (★☆☆) \n",
        "(**hint**: np.pad)"
      ]
    },
    {
      "cell_type": "code",
      "execution_count": 60,
      "metadata": {
        "id": "o2cPzkn1bUMO",
        "colab": {
          "base_uri": "https://localhost:8080/"
        },
        "outputId": "3872d3ac-2666-48ff-9a39-454fe79df484"
      },
      "outputs": [
        {
          "output_type": "stream",
          "name": "stdout",
          "text": [
            "[[0. 0. 0. 0. 0. 0. 0.]\n",
            " [0. 1. 1. 1. 1. 1. 0.]\n",
            " [0. 1. 1. 1. 1. 1. 0.]\n",
            " [0. 1. 1. 1. 1. 1. 0.]\n",
            " [0. 1. 1. 1. 1. 1. 0.]\n",
            " [0. 1. 1. 1. 1. 1. 0.]\n",
            " [0. 0. 0. 0. 0. 0. 0.]]\n"
          ]
        }
      ],
      "source": [
        "a = np.ones((5,5))\n",
        "a = np.pad(a, pad_width=1, mode='constant', constant_values=0)\n",
        "print(a)"
      ]
    },
    {
      "cell_type": "markdown",
      "metadata": {
        "id": "6pCf3t_SbUMO"
      },
      "source": [
        "#### 17. What is the result of the following expression? (★☆☆) \n",
        "(**hint**: NaN = not a number, inf = infinity)"
      ]
    },
    {
      "cell_type": "markdown",
      "metadata": {
        "id": "l5cp1zKdbUMO"
      },
      "source": [
        "```python\n",
        "0 * np.nan\n",
        "np.nan == np.nan\n",
        "np.inf > np.nan\n",
        "np.nan - np.nan\n",
        "0.3 == 3 * 0.1\n",
        "```"
      ]
    },
    {
      "cell_type": "code",
      "execution_count": 61,
      "metadata": {
        "id": "g0dVitx1bUMO",
        "colab": {
          "base_uri": "https://localhost:8080/"
        },
        "outputId": "c94fbd49-b902-4c34-cbdd-300eb40b52c7"
      },
      "outputs": [
        {
          "output_type": "stream",
          "name": "stdout",
          "text": [
            "nan False False nan False\n"
          ]
        }
      ],
      "source": [
        "print(0*np.nan, np.nan == np.nan, np.inf > np.nan, np.nan - np.nan, 0.3 == 3 * 0.1)"
      ]
    },
    {
      "cell_type": "markdown",
      "metadata": {
        "id": "Z8vnLV1bbUMP"
      },
      "source": [
        "#### 18. Create a 5x5 matrix with values 1,2,3,4 just below the diagonal (★☆☆) \n",
        "(**hint**: np.diag)"
      ]
    },
    {
      "cell_type": "code",
      "execution_count": 62,
      "metadata": {
        "id": "RDy_M-NmbUMP",
        "colab": {
          "base_uri": "https://localhost:8080/"
        },
        "outputId": "45009f3d-2330-4e9a-a54e-f28421df0237"
      },
      "outputs": [
        {
          "output_type": "stream",
          "name": "stdout",
          "text": [
            "[[0 0 0 0 0]\n",
            " [1 0 0 0 0]\n",
            " [0 2 0 0 0]\n",
            " [0 0 3 0 0]\n",
            " [0 0 0 4 0]]\n"
          ]
        }
      ],
      "source": [
        "a = np.diag(1+np.arange(4), k = -1)\n",
        "print(a)"
      ]
    },
    {
      "cell_type": "markdown",
      "metadata": {
        "id": "vAEXQ6wobUMP"
      },
      "source": [
        "#### 19. Create a 8x8 matrix and fill it with a checkerboard pattern (★☆☆) \n",
        "(**hint**: array\\[::2\\])"
      ]
    },
    {
      "cell_type": "code",
      "execution_count": 63,
      "metadata": {
        "id": "yfg2c01VbUMP",
        "colab": {
          "base_uri": "https://localhost:8080/"
        },
        "outputId": "0cb82338-4b64-4800-eaec-b760bb77a38f"
      },
      "outputs": [
        {
          "output_type": "stream",
          "name": "stdout",
          "text": [
            "[[0 1 0 1 0 1 0 1]\n",
            " [1 0 1 0 1 0 1 0]\n",
            " [0 1 0 1 0 1 0 1]\n",
            " [1 0 1 0 1 0 1 0]\n",
            " [0 1 0 1 0 1 0 1]\n",
            " [1 0 1 0 1 0 1 0]\n",
            " [0 1 0 1 0 1 0 1]\n",
            " [1 0 1 0 1 0 1 0]]\n"
          ]
        }
      ],
      "source": [
        "a = np.zeros ((8,8), dtype=int)\n",
        "a[1::2, ::2]= 1\n",
        "a[::2, 1::2] = 1\n",
        "print(a)"
      ]
    },
    {
      "cell_type": "markdown",
      "metadata": {
        "id": "uVxaf1jMbUMP"
      },
      "source": [
        "#### 20. Consider a (6,7,8) shape array, what is the index (x,y,z) of the 100th element? \n",
        "(**hint**: np.unravel_index)"
      ]
    },
    {
      "cell_type": "code",
      "execution_count": 64,
      "metadata": {
        "id": "yK-GzISLbUMQ",
        "colab": {
          "base_uri": "https://localhost:8080/"
        },
        "outputId": "d2725d67-b600-4f9d-b8bf-74c576d7f57e"
      },
      "outputs": [
        {
          "output_type": "stream",
          "name": "stdout",
          "text": [
            "(1, 5, 4)\n"
          ]
        }
      ],
      "source": [
        "print(np.unravel_index(100, (6,7,8)))"
      ]
    },
    {
      "cell_type": "markdown",
      "metadata": {
        "id": "5gyQikkvbUMQ"
      },
      "source": [
        "#### 21. Create a checkerboard 8x8 matrix using the tile function (★☆☆) \n",
        "(**hint**: np.tile)"
      ]
    },
    {
      "cell_type": "code",
      "execution_count": 65,
      "metadata": {
        "id": "tpI1oCdcbUMQ",
        "colab": {
          "base_uri": "https://localhost:8080/"
        },
        "outputId": "f816eda0-8236-41d7-ed4b-13c089d21a3c"
      },
      "outputs": [
        {
          "output_type": "stream",
          "name": "stdout",
          "text": [
            "[[0 1 0 1 0 1 0 1]\n",
            " [1 0 1 0 1 0 1 0]\n",
            " [0 1 0 1 0 1 0 1]\n",
            " [1 0 1 0 1 0 1 0]\n",
            " [0 1 0 1 0 1 0 1]\n",
            " [1 0 1 0 1 0 1 0]\n",
            " [0 1 0 1 0 1 0 1]\n",
            " [1 0 1 0 1 0 1 0]]\n"
          ]
        }
      ],
      "source": [
        "a = np.array([[0,1], [1,0]])\n",
        "a = np.tile(a,(4,4))\n",
        "print (a)"
      ]
    },
    {
      "cell_type": "markdown",
      "metadata": {
        "id": "TdTY_ApYbUMQ"
      },
      "source": [
        "#### 22. Normalize a 5x5 random matrix (★☆☆) \n",
        "(**hint**: (x - min) / (max - min))"
      ]
    },
    {
      "cell_type": "code",
      "execution_count": 66,
      "metadata": {
        "id": "EVriL3svbUMR",
        "colab": {
          "base_uri": "https://localhost:8080/"
        },
        "outputId": "2ec54779-a43c-46d5-9561-ee597d659704"
      },
      "outputs": [
        {
          "output_type": "stream",
          "name": "stdout",
          "text": [
            "[[0.58912784 0.23461516 0.11271817 0.         0.54830254]\n",
            " [0.56770964 0.17317921 0.12946115 0.69299949 0.32136559]\n",
            " [0.08807061 0.4791981  0.50043364 0.26991801 0.65970273]\n",
            " [0.79038323 1.         0.35690014 0.72404485 0.95290192]\n",
            " [0.46653053 0.42883534 0.93834913 0.7741553  0.21620006]]\n"
          ]
        }
      ],
      "source": [
        "a = np.random.random((5,5))\n",
        "amax, amin = a.max(), a.min()\n",
        "a = (a-amin)/(amax-amin)\n",
        "print(a)"
      ]
    },
    {
      "cell_type": "markdown",
      "metadata": {
        "id": "G2SVVfdpbUMR"
      },
      "source": [
        "#### 23. Create a custom dtype that describes a color as four unsigned bytes (RGBA) (★☆☆) \n",
        "(**hint**: np.dtype)"
      ]
    },
    {
      "cell_type": "code",
      "execution_count": 67,
      "metadata": {
        "collapsed": true,
        "id": "SWJFQTCBbUMR",
        "colab": {
          "base_uri": "https://localhost:8080/"
        },
        "outputId": "fa2c09af-1ded-4a64-ff5c-60283e7b2fe5"
      },
      "outputs": [
        {
          "output_type": "stream",
          "name": "stdout",
          "text": [
            "[('r', 'u1'), ('g', 'u1'), ('b', 'u1'), ('a', 'u1')]\n"
          ]
        },
        {
          "output_type": "stream",
          "name": "stderr",
          "text": [
            "/usr/local/lib/python3.7/dist-packages/ipykernel_launcher.py:4: FutureWarning: Passing (type, 1) or '1type' as a synonym of type is deprecated; in a future version of numpy, it will be understood as (type, (1,)) / '(1,)type'.\n",
            "  after removing the cwd from sys.path.\n"
          ]
        }
      ],
      "source": [
        "color = np.dtype([(\"r\", np.ubyte, 1),\n",
        "                  (\"g\", np.ubyte, 1),\n",
        "                  (\"b\", np.ubyte, 1),\n",
        "                  (\"a\", np.ubyte, 1)])\n",
        "print(color)"
      ]
    },
    {
      "cell_type": "markdown",
      "metadata": {
        "id": "z1GJJoPLbUMR"
      },
      "source": [
        "#### 24. Multiply a 5x3 matrix by a 3x2 matrix (real matrix product) (★☆☆) \n",
        "(**hint**: np.dot | @)"
      ]
    },
    {
      "cell_type": "code",
      "execution_count": 68,
      "metadata": {
        "id": "UGc5lDgVbUMR",
        "colab": {
          "base_uri": "https://localhost:8080/"
        },
        "outputId": "38791156-427a-4c0b-b92b-03875571c5e5"
      },
      "outputs": [
        {
          "output_type": "stream",
          "name": "stdout",
          "text": [
            "[[3. 3.]\n",
            " [3. 3.]\n",
            " [3. 3.]\n",
            " [3. 3.]\n",
            " [3. 3.]]\n"
          ]
        }
      ],
      "source": [
        "a= np.dot(np.ones((5,3)), np.ones((3,2)))\n",
        "print(a)"
      ]
    },
    {
      "cell_type": "markdown",
      "metadata": {
        "id": "2xEUa-DCbUMR"
      },
      "source": [
        "#### 25. Given a 1D array, negate all elements which are between 3 and 8, in place. (★☆☆) \n",
        "(**hint**: >, <=)"
      ]
    },
    {
      "cell_type": "code",
      "execution_count": 69,
      "metadata": {
        "id": "xIegLO-TbUMS",
        "colab": {
          "base_uri": "https://localhost:8080/"
        },
        "outputId": "45e9a4f1-8f7b-47c4-c666-1ed64dd23ee0"
      },
      "outputs": [
        {
          "output_type": "stream",
          "name": "stdout",
          "text": [
            "[ 0  1  2  3 -4 -5 -6 -7 -8  9 10]\n"
          ]
        }
      ],
      "source": [
        "a = np.arange(11)\n",
        "a[(3 < a) & (a <= 8)] *= -1\n",
        "print(a)"
      ]
    },
    {
      "cell_type": "markdown",
      "metadata": {
        "id": "R0XAPv62bUMS"
      },
      "source": [
        "#### 26. What is the output of the following script? (★☆☆) \n",
        "(**hint**: np.sum)"
      ]
    },
    {
      "cell_type": "markdown",
      "metadata": {
        "id": "5z7OcK5DbUMS"
      },
      "source": [
        "```python\n",
        "# Author: Jake VanderPlas\n",
        "\n",
        "print(sum(range(5),-1))\n",
        "from numpy import *\n",
        "print(sum(range(5),-1))\n",
        "```"
      ]
    },
    {
      "cell_type": "code",
      "execution_count": 70,
      "metadata": {
        "id": "4PNOUlFdbUMS",
        "colab": {
          "base_uri": "https://localhost:8080/"
        },
        "outputId": "46f248ae-59cb-4a6f-d7b3-dd863763d211"
      },
      "outputs": [
        {
          "output_type": "stream",
          "name": "stdout",
          "text": [
            "10\n",
            "10\n"
          ]
        }
      ],
      "source": [
        "print(sum(range(5),-1))\n",
        "from numpy import *\n",
        "print(sum(range(5),-1))"
      ]
    },
    {
      "cell_type": "markdown",
      "metadata": {
        "id": "jFBclxMYbUMS"
      },
      "source": [
        "#### 27. Consider an integer vector Z, which of these expressions are legal? (★☆☆)"
      ]
    },
    {
      "cell_type": "markdown",
      "metadata": {
        "id": "TtQilvqNbUMT"
      },
      "source": [
        "```python\n",
        "Z**Z\n",
        "2 << Z >> 2\n",
        "Z <- Z\n",
        "1j*Z\n",
        "Z/1/1\n",
        "Z<Z>Z\n",
        "```"
      ]
    },
    {
      "cell_type": "code",
      "execution_count": 71,
      "metadata": {
        "id": "0pVep14BbUMT",
        "colab": {
          "base_uri": "https://localhost:8080/"
        },
        "outputId": "b99a19c7-9d13-4919-8fbb-37311687dab7"
      },
      "outputs": [
        {
          "output_type": "stream",
          "name": "stdout",
          "text": [
            "3125\n",
            "16\n",
            "False\n",
            "5j\n",
            "5.0\n",
            "False\n"
          ]
        }
      ],
      "source": [
        "Z = 5\n",
        "print(Z**Z)\n",
        "print(2 << Z >> 2)\n",
        "print(Z <- Z)\n",
        "print(1j*Z)\n",
        "print(Z/1/1)\n",
        "print(Z<Z>Z)"
      ]
    },
    {
      "cell_type": "markdown",
      "metadata": {
        "id": "OJFtrirubUMT"
      },
      "source": [
        "#### 28. What are the result of the following expressions?"
      ]
    },
    {
      "cell_type": "markdown",
      "metadata": {
        "id": "Lsv7coKwbUMT"
      },
      "source": [
        "```python\n",
        "np.array(0) / np.array(0)\n",
        "np.array(0) // np.array(0)\n",
        "np.array([np.nan]).astype(int).astype(float)\n",
        "```"
      ]
    },
    {
      "cell_type": "code",
      "execution_count": 72,
      "metadata": {
        "id": "qhpntHcnbUMT",
        "colab": {
          "base_uri": "https://localhost:8080/"
        },
        "outputId": "15833dbf-3b63-45e0-9104-f39937752118"
      },
      "outputs": [
        {
          "output_type": "stream",
          "name": "stdout",
          "text": [
            "nan\n",
            "0\n",
            "[-9.22337204e+18]\n"
          ]
        },
        {
          "output_type": "stream",
          "name": "stderr",
          "text": [
            "/usr/local/lib/python3.7/dist-packages/ipykernel_launcher.py:1: RuntimeWarning: invalid value encountered in true_divide\n",
            "  \"\"\"Entry point for launching an IPython kernel.\n",
            "/usr/local/lib/python3.7/dist-packages/ipykernel_launcher.py:2: RuntimeWarning: divide by zero encountered in floor_divide\n",
            "  \n"
          ]
        }
      ],
      "source": [
        "print(np.array(0) / np.array(0))\n",
        "print(np.array(0) // np.array(0))\n",
        "print(np.array([np.nan]).astype(int).astype(float))"
      ]
    },
    {
      "cell_type": "markdown",
      "metadata": {
        "id": "kEKAkPaobUMU"
      },
      "source": [
        "#### 29. How to round away from zero a float array ? (★☆☆) \n",
        "(**hint**: np.uniform, np.copysign, np.ceil, np.abs)"
      ]
    },
    {
      "cell_type": "code",
      "execution_count": 73,
      "metadata": {
        "id": "JHo0tBp4bUMU",
        "colab": {
          "base_uri": "https://localhost:8080/"
        },
        "outputId": "0338fbe2-ac05-4e39-9957-b4cef7cab90d"
      },
      "outputs": [
        {
          "output_type": "stream",
          "name": "stdout",
          "text": [
            "[ 8.  6.  1.  2. -9. -6. 10.  1. 10.  9.]\n"
          ]
        }
      ],
      "source": [
        "Z = np.random.uniform(-10,+10,10)\n",
        "print(np.copysign(np.ceil(np.abs(Z)), Z))"
      ]
    },
    {
      "cell_type": "markdown",
      "metadata": {
        "id": "x2RJnVKjbUMU"
      },
      "source": [
        "#### 30. How to find common values between two arrays? (★☆☆) \n",
        "(**hint**: np.intersect1d)"
      ]
    },
    {
      "cell_type": "code",
      "execution_count": 74,
      "metadata": {
        "id": "2s1BqDKQbUMU",
        "colab": {
          "base_uri": "https://localhost:8080/"
        },
        "outputId": "49f6ff9a-b2f1-4f54-cb2b-6497ebec862a"
      },
      "outputs": [
        {
          "output_type": "stream",
          "name": "stdout",
          "text": [
            "[1 4 5 8]\n"
          ]
        }
      ],
      "source": [
        "Z1 = np.random.randint(0,10,10)\n",
        "Z2 = np.random.randint(0,10,10)\n",
        "print(np.intersect1d(Z1,Z2))"
      ]
    },
    {
      "cell_type": "markdown",
      "metadata": {
        "id": "o_kYZ3ImbUMU"
      },
      "source": [
        "#### 31. How to ignore all numpy warnings (not recommended)? (★☆☆) \n",
        "(**hint**: np.seterr, np.errstate)"
      ]
    },
    {
      "cell_type": "code",
      "execution_count": 75,
      "metadata": {
        "id": "ZRGspWwfbUMU"
      },
      "outputs": [],
      "source": [
        "# Suicide mode on\n",
        "defaults = np.seterr(all=\"ignore\")\n",
        "Z = np.ones(1) / 0\n",
        "\n",
        "# Back to sanity\n",
        "_ = np.seterr(**defaults)\n",
        "\n",
        "#An equivalent way, with a context manager:\n",
        "\n",
        "with np.errstate(divide='ignore'):\n",
        "    Z = np.ones(1) / 0"
      ]
    },
    {
      "cell_type": "markdown",
      "metadata": {
        "id": "72S68OwybUMV"
      },
      "source": [
        "#### 32. Is the following expressions true? (★☆☆) \n",
        "(**hint**: imaginary number)"
      ]
    },
    {
      "cell_type": "markdown",
      "metadata": {
        "id": "xeRCbg_vbUMV"
      },
      "source": [
        "```python\n",
        "np.sqrt(-1) == np.emath.sqrt(-1)\n",
        "```"
      ]
    },
    {
      "cell_type": "code",
      "execution_count": 76,
      "metadata": {
        "id": "LkaHmJ5xbUMV",
        "colab": {
          "base_uri": "https://localhost:8080/"
        },
        "outputId": "38eb98b2-a7a1-4fac-f2b9-e34df0b489eb"
      },
      "outputs": [
        {
          "output_type": "stream",
          "name": "stderr",
          "text": [
            "/usr/local/lib/python3.7/dist-packages/ipykernel_launcher.py:1: RuntimeWarning: invalid value encountered in sqrt\n",
            "  \"\"\"Entry point for launching an IPython kernel.\n"
          ]
        },
        {
          "output_type": "execute_result",
          "data": {
            "text/plain": [
              "False"
            ]
          },
          "metadata": {},
          "execution_count": 76
        }
      ],
      "source": [
        "np.sqrt(-1) == np.emath.sqrt(-1)"
      ]
    },
    {
      "cell_type": "markdown",
      "metadata": {
        "id": "epiVptCGbUMV"
      },
      "source": [
        "#### 33. How to get the dates of yesterday, today and tomorrow? (★☆☆) \n",
        "(**hint**: np.datetime64, np.timedelta64)"
      ]
    },
    {
      "cell_type": "code",
      "execution_count": 77,
      "metadata": {
        "collapsed": true,
        "id": "nT71jGlqbUMV",
        "colab": {
          "base_uri": "https://localhost:8080/"
        },
        "outputId": "e54b67e2-d691-4fed-c7e1-3c93acc21ef4"
      },
      "outputs": [
        {
          "output_type": "stream",
          "name": "stdout",
          "text": [
            "2022-02-19 2022-02-20 2022-02-21\n"
          ]
        }
      ],
      "source": [
        "yesterday = np.datetime64('today', 'D') - np.timedelta64(1, 'D')\n",
        "today     = np.datetime64('today', 'D')\n",
        "tomorrow  = np.datetime64('today', 'D') + np.timedelta64(1, 'D')\n",
        "\n",
        "print(yesterday, today, tomorrow)"
      ]
    },
    {
      "cell_type": "markdown",
      "metadata": {
        "id": "5Ny11iYgbUMW"
      },
      "source": [
        "#### 34. How to get all the dates corresponding to the month of July 2016? (★★☆) \n",
        "(**hint**: np.arange(dtype=datetime64\\['D'\\]))"
      ]
    },
    {
      "cell_type": "code",
      "execution_count": 78,
      "metadata": {
        "id": "KUsZUtIwbUMW",
        "colab": {
          "base_uri": "https://localhost:8080/"
        },
        "outputId": "b4212ac5-0c84-4888-8d48-21215104f97a"
      },
      "outputs": [
        {
          "output_type": "stream",
          "name": "stdout",
          "text": [
            "['2016-07-01' '2016-07-02' '2016-07-03' '2016-07-04' '2016-07-05'\n",
            " '2016-07-06' '2016-07-07' '2016-07-08' '2016-07-09' '2016-07-10'\n",
            " '2016-07-11' '2016-07-12' '2016-07-13' '2016-07-14' '2016-07-15'\n",
            " '2016-07-16' '2016-07-17' '2016-07-18' '2016-07-19' '2016-07-20'\n",
            " '2016-07-21' '2016-07-22' '2016-07-23' '2016-07-24' '2016-07-25'\n",
            " '2016-07-26' '2016-07-27' '2016-07-28' '2016-07-29' '2016-07-30'\n",
            " '2016-07-31']\n"
          ]
        }
      ],
      "source": [
        "a = np.arange('2016-07', '2016-08', dtype='datetime64[D]')\n",
        "print(a)"
      ]
    },
    {
      "cell_type": "markdown",
      "metadata": {
        "id": "9slq70NkbUMW"
      },
      "source": [
        "#### 35. How to compute ((A+B)\\*(-A/2)) in place (without copy)? (★★☆) \n",
        "(**hint**: np.add(out=), np.negative(out=), np.multiply(out=), np.divide(out=))"
      ]
    },
    {
      "cell_type": "code",
      "execution_count": 79,
      "metadata": {
        "id": "oj-TaAlobUMW",
        "colab": {
          "base_uri": "https://localhost:8080/"
        },
        "outputId": "c73fb791-8f54-4ff1-d3eb-b2556f910d25"
      },
      "outputs": [
        {
          "output_type": "execute_result",
          "data": {
            "text/plain": [
              "array([-1.5, -1.5, -1.5])"
            ]
          },
          "metadata": {},
          "execution_count": 79
        }
      ],
      "source": [
        "A = np.ones(3)*1\n",
        "B = np.ones(3)*2\n",
        "C = np.ones(3)*3\n",
        "np.add(A,B,out=B)\n",
        "np.divide(A,2,out=A)\n",
        "np.negative(A,out=A)\n",
        "np.multiply(A,B,out=A)"
      ]
    },
    {
      "cell_type": "markdown",
      "metadata": {
        "id": "HBj4Zp4abUMW"
      },
      "source": [
        "#### 36. Extract the integer part of a random array using 5 different methods (★★☆) \n",
        "(**hint**: %, np.floor, np.ceil, astype, np.trunc)"
      ]
    },
    {
      "cell_type": "code",
      "execution_count": 80,
      "metadata": {
        "id": "R0JL8FyNbUMW",
        "colab": {
          "base_uri": "https://localhost:8080/"
        },
        "outputId": "6e44db03-2af3-4c6a-8fac-61b3bfd8ee08"
      },
      "outputs": [
        {
          "output_type": "stream",
          "name": "stdout",
          "text": [
            "[1. 8. 4. 2. 7. 5. 4. 3. 3. 4.]\n",
            "[1. 8. 4. 2. 7. 5. 4. 3. 3. 4.]\n",
            "[1. 8. 4. 2. 7. 5. 4. 3. 3. 4.]\n",
            "[1 8 4 2 7 5 4 3 3 4]\n",
            "[1. 8. 4. 2. 7. 5. 4. 3. 3. 4.]\n"
          ]
        }
      ],
      "source": [
        "a = np.random.uniform(0,10,10)\n",
        "\n",
        "print (a - a%1)\n",
        "print (np.floor(a))\n",
        "print (np.ceil(a)-1)\n",
        "print (a.astype(int))\n",
        "print (np.trunc(a))"
      ]
    },
    {
      "cell_type": "markdown",
      "metadata": {
        "id": "Xsh7B87ibUMW"
      },
      "source": [
        "#### 37. Create a 5x5 matrix with row values ranging from 0 to 4 (★★☆) \n",
        "(**hint**: np.arange)"
      ]
    },
    {
      "cell_type": "code",
      "execution_count": 81,
      "metadata": {
        "id": "3UJ6oZA_bUMX",
        "colab": {
          "base_uri": "https://localhost:8080/"
        },
        "outputId": "272382c2-0303-4e3e-b53f-e9fdeeee29d4"
      },
      "outputs": [
        {
          "output_type": "stream",
          "name": "stdout",
          "text": [
            "[[0. 1. 2. 3. 4.]\n",
            " [0. 1. 2. 3. 4.]\n",
            " [0. 1. 2. 3. 4.]\n",
            " [0. 1. 2. 3. 4.]\n",
            " [0. 1. 2. 3. 4.]]\n"
          ]
        }
      ],
      "source": [
        "a = np.zeros((5,5))\n",
        "a += np.arange(5)\n",
        "print(a)"
      ]
    },
    {
      "cell_type": "markdown",
      "metadata": {
        "id": "cdyY97wHbUMX"
      },
      "source": [
        "#### 38. Consider a generator function that generates 10 integers and use it to build an array (★☆☆) \n",
        "(**hint**: np.fromiter)"
      ]
    },
    {
      "cell_type": "code",
      "execution_count": 82,
      "metadata": {
        "id": "ch_Nu84QbUMX",
        "colab": {
          "base_uri": "https://localhost:8080/"
        },
        "outputId": "1629bfd6-55f2-469c-afbe-92b65c79d8a0"
      },
      "outputs": [
        {
          "output_type": "stream",
          "name": "stdout",
          "text": [
            "[0. 1. 2. 3. 4. 5. 6. 7. 8. 9.]\n"
          ]
        }
      ],
      "source": [
        "iterable = (x for x in range(10))\n",
        "a = np.fromiter(iterable, float)\n",
        "print(a)"
      ]
    },
    {
      "cell_type": "markdown",
      "metadata": {
        "id": "AWexGh9IbUMX"
      },
      "source": [
        "#### 39. Create a vector of size 10 with values ranging from 0 to 1, both excluded (★★☆) \n",
        "(**hint**: np.linspace)"
      ]
    },
    {
      "cell_type": "code",
      "execution_count": 83,
      "metadata": {
        "id": "KSBia7V9bUMX",
        "colab": {
          "base_uri": "https://localhost:8080/"
        },
        "outputId": "05695a5f-fc70-484a-e542-49c6a488272c"
      },
      "outputs": [
        {
          "output_type": "stream",
          "name": "stdout",
          "text": [
            "[0.09090909 0.18181818 0.27272727 0.36363636 0.45454545 0.54545455\n",
            " 0.63636364 0.72727273 0.81818182 0.90909091]\n"
          ]
        }
      ],
      "source": [
        "a = np.linspace(0,1,11,endpoint=False)[1:]\n",
        "print(a)"
      ]
    },
    {
      "cell_type": "markdown",
      "metadata": {
        "id": "NpOV8ntQbUMX"
      },
      "source": [
        "#### 40. Create a random vector of size 10 and sort it (★★☆) \n",
        "(**hint**: sort)"
      ]
    },
    {
      "cell_type": "code",
      "execution_count": 84,
      "metadata": {
        "id": "HwPWs9WhbUMY",
        "colab": {
          "base_uri": "https://localhost:8080/"
        },
        "outputId": "1f21c0f1-93cf-43bf-d8e1-89e9a6cce093"
      },
      "outputs": [
        {
          "output_type": "stream",
          "name": "stdout",
          "text": [
            "[0.11009228 0.23920623 0.41418418 0.53894575 0.55393436 0.7744063\n",
            " 0.82142831 0.84190812 0.87023381 0.92592836]\n"
          ]
        }
      ],
      "source": [
        "a = np.random.random(10)\n",
        "a.sort()\n",
        "print(a)"
      ]
    },
    {
      "cell_type": "markdown",
      "metadata": {
        "id": "OelPEfo5bUMY"
      },
      "source": [
        "#### 41. How to sum a small array faster than np.sum? (★★☆) \n",
        "(**hint**: np.add.reduce)"
      ]
    },
    {
      "cell_type": "code",
      "execution_count": 85,
      "metadata": {
        "id": "CuiAndgcbUMY",
        "colab": {
          "base_uri": "https://localhost:8080/"
        },
        "outputId": "1a5dc5ce-4dc3-480b-b24b-c3c360880403"
      },
      "outputs": [
        {
          "output_type": "execute_result",
          "data": {
            "text/plain": [
              "4.805510489342712"
            ]
          },
          "metadata": {},
          "execution_count": 85
        }
      ],
      "source": [
        "a = np.random.random(10)\n",
        "np.add.reduce(a)"
      ]
    },
    {
      "cell_type": "markdown",
      "metadata": {
        "id": "m11a-p8sbUMY"
      },
      "source": [
        "#### 42. Consider two random array A and B, check if they are equal (★★☆) \n",
        "(**hint**: np.allclose, np.array\\_equal)"
      ]
    },
    {
      "cell_type": "code",
      "execution_count": 86,
      "metadata": {
        "id": "GaivnAPPbUMY",
        "colab": {
          "base_uri": "https://localhost:8080/"
        },
        "outputId": "68e7b868-08cd-442d-915d-c6901089299c"
      },
      "outputs": [
        {
          "output_type": "stream",
          "name": "stdout",
          "text": [
            "False\n",
            "False\n"
          ]
        }
      ],
      "source": [
        "a = np.random.randint(0,5,10)\n",
        "b = np.random.randint(0,5,10)\n",
        "\n",
        "equal = np.allclose(a,b)\n",
        "print(equal)\n",
        "\n",
        "equal = np.array_equal(a,b)\n",
        "print(equal)"
      ]
    },
    {
      "cell_type": "markdown",
      "metadata": {
        "id": "kJfCnZrpbUMY"
      },
      "source": [
        "#### 43. Make an array immutable (read-only) (★★☆) \n",
        "(**hint**: flags.writeable)"
      ]
    },
    {
      "cell_type": "code",
      "execution_count": 87,
      "metadata": {
        "id": "hlCh-gtTbUMY"
      },
      "outputs": [],
      "source": [
        "Z = np.zeros(10)\n",
        "Z.flags.writeable = False\n",
        "#Z[0] = 1"
      ]
    },
    {
      "cell_type": "markdown",
      "metadata": {
        "id": "7VC8fYe4bUMY"
      },
      "source": [
        "#### 44. Consider a random 10x2 matrix representing cartesian coordinates, convert them to polar coordinates (★★☆) \n",
        "(**hint**: np.sqrt, np.arctan2)"
      ]
    },
    {
      "cell_type": "code",
      "execution_count": 88,
      "metadata": {
        "id": "NTmhhWRJbUMZ",
        "colab": {
          "base_uri": "https://localhost:8080/"
        },
        "outputId": "8970e790-2202-42d9-d047-7d5d7997e2b6"
      },
      "outputs": [
        {
          "output_type": "stream",
          "name": "stdout",
          "text": [
            "[0.841204   0.7749253  1.13515453 0.2308761  0.6073948  0.19453349\n",
            " 0.62532981 0.78149572 0.75288461 0.80486574]\n",
            "[0.55220054 0.60751636 0.82330114 0.2872307  1.07130924 0.07443489\n",
            " 1.34883342 1.22123169 0.84011517 1.30610623]\n"
          ]
        }
      ],
      "source": [
        "Z = np.random.random((10,2))\n",
        "X,Y = Z[:,0], Z[:,1]\n",
        "R = np.sqrt(X**2+Y**2)\n",
        "T = np.arctan2(Y,X)\n",
        "print(R)\n",
        "print(T)"
      ]
    },
    {
      "cell_type": "markdown",
      "metadata": {
        "id": "TN22PNzQbUMZ"
      },
      "source": [
        "#### 45. Create random vector of size 10 and replace the maximum value by 0 (★★☆) \n",
        "(**hint**: argmax)"
      ]
    },
    {
      "cell_type": "code",
      "execution_count": 89,
      "metadata": {
        "id": "XYUTnZ1lbUMZ",
        "colab": {
          "base_uri": "https://localhost:8080/"
        },
        "outputId": "6fd6772a-e75f-4ab6-b21b-ef272c269aac"
      },
      "outputs": [
        {
          "output_type": "execute_result",
          "data": {
            "text/plain": [
              "array([0.11269442, 0.00429168, 0.0926387 , 0.56274843, 0.        ,\n",
              "       0.00140119, 0.11941911, 0.07068874, 0.24596272, 0.54546062])"
            ]
          },
          "metadata": {},
          "execution_count": 89
        }
      ],
      "source": [
        "a = np.random.random(10)\n",
        "a[a.argmax()] = 0\n",
        "a"
      ]
    },
    {
      "cell_type": "markdown",
      "metadata": {
        "id": "YLJHY0FfbUMZ"
      },
      "source": [
        "#### 46. Create a structured array with `x` and `y` coordinates covering the \\[0,1\\]x\\[0,1\\] area (★★☆) \n",
        "(**hint**: np.meshgrid)"
      ]
    },
    {
      "cell_type": "code",
      "execution_count": 90,
      "metadata": {
        "id": "ToHbAHVBbUMZ",
        "colab": {
          "base_uri": "https://localhost:8080/"
        },
        "outputId": "749c7dd5-7cad-4ad2-d047-83c6949ffed9"
      },
      "outputs": [
        {
          "output_type": "stream",
          "name": "stdout",
          "text": [
            "[[(0.  , 0.  ) (0.25, 0.  ) (0.5 , 0.  ) (0.75, 0.  ) (1.  , 0.  )]\n",
            " [(0.  , 0.25) (0.25, 0.25) (0.5 , 0.25) (0.75, 0.25) (1.  , 0.25)]\n",
            " [(0.  , 0.5 ) (0.25, 0.5 ) (0.5 , 0.5 ) (0.75, 0.5 ) (1.  , 0.5 )]\n",
            " [(0.  , 0.75) (0.25, 0.75) (0.5 , 0.75) (0.75, 0.75) (1.  , 0.75)]\n",
            " [(0.  , 1.  ) (0.25, 1.  ) (0.5 , 1.  ) (0.75, 1.  ) (1.  , 1.  )]]\n"
          ]
        }
      ],
      "source": [
        "Z = np.zeros((5,5), [('x',float),('y',float)])\n",
        "Z['x'], Z['y'] = np.meshgrid(np.linspace(0,1,5), np.linspace(0,1,5))\n",
        "print(Z)"
      ]
    },
    {
      "cell_type": "markdown",
      "metadata": {
        "id": "dbSfScaybUMZ"
      },
      "source": [
        "####  47. Given two arrays, X and Y, construct the Cauchy matrix C (Cij =1/(xi - yj)) \n",
        "(**hint**: np.subtract.outer)"
      ]
    },
    {
      "cell_type": "code",
      "execution_count": 91,
      "metadata": {
        "id": "WDG4ginIbUMZ",
        "colab": {
          "base_uri": "https://localhost:8080/"
        },
        "outputId": "b97fde82-1cc1-455b-b9a9-41be16d832b2"
      },
      "outputs": [
        {
          "output_type": "stream",
          "name": "stdout",
          "text": [
            "3638.163637117973\n"
          ]
        }
      ],
      "source": [
        "X = np.arange(8)\n",
        "Y = X + 0.5\n",
        "C = 1.0 / np.subtract.outer(X, Y)\n",
        "print(np.linalg.det(C))"
      ]
    },
    {
      "cell_type": "markdown",
      "metadata": {
        "id": "kCpp56uebUMa"
      },
      "source": [
        "#### 48. Print the minimum and maximum representable value for each numpy scalar type (★★☆) \n",
        "(**hint**: np.iinfo, np.finfo, eps)"
      ]
    },
    {
      "cell_type": "code",
      "execution_count": 92,
      "metadata": {
        "id": "tBHWnJWfbUMa",
        "colab": {
          "base_uri": "https://localhost:8080/"
        },
        "outputId": "6c10dd84-9ad4-44d4-bdf2-fb5feaa53460"
      },
      "outputs": [
        {
          "output_type": "stream",
          "name": "stdout",
          "text": [
            "-128\n",
            "127\n",
            "-2147483648\n",
            "2147483647\n",
            "-9223372036854775808\n",
            "9223372036854775807\n",
            "-3.4028235e+38\n",
            "3.4028235e+38\n",
            "1.1920929e-07\n",
            "-1.7976931348623157e+308\n",
            "1.7976931348623157e+308\n",
            "2.220446049250313e-16\n"
          ]
        }
      ],
      "source": [
        "for dtype in [np.int8, np.int32, np.int64]:\n",
        "   print(np.iinfo(dtype).min)\n",
        "   print(np.iinfo(dtype).max)\n",
        "for dtype in [np.float32, np.float64]:\n",
        "   print(np.finfo(dtype).min)\n",
        "   print(np.finfo(dtype).max)\n",
        "   print(np.finfo(dtype).eps)"
      ]
    },
    {
      "cell_type": "markdown",
      "metadata": {
        "id": "1csaVMgKbUMa"
      },
      "source": [
        "#### 49. How to print all the values of an array? (★★☆) \n",
        "(**hint**: np.set\\_printoptions)"
      ]
    },
    {
      "cell_type": "code",
      "execution_count": 93,
      "metadata": {
        "id": "YjhtGGbWbUMa",
        "colab": {
          "base_uri": "https://localhost:8080/"
        },
        "outputId": "2da9b061-0034-484b-abb0-11632e1eabb8"
      },
      "outputs": [
        {
          "output_type": "stream",
          "name": "stdout",
          "text": [
            "[[0. 0. 0. 0. 0.]\n",
            " [0. 0. 0. 0. 0.]\n",
            " [0. 0. 0. 0. 0.]\n",
            " [0. 0. 0. 0. 0.]\n",
            " [0. 0. 0. 0. 0.]]\n"
          ]
        }
      ],
      "source": [
        "import sys\n",
        "np.set_printoptions(threshold=sys.maxsize)\n",
        "Z = np.zeros((5,5))\n",
        "print(Z)"
      ]
    },
    {
      "cell_type": "markdown",
      "metadata": {
        "id": "a-dKTs-vbUMa"
      },
      "source": [
        "#### 50. How to find the closest value (to a given scalar) in a vector? (★★☆) \n",
        "(**hint**: argmin)"
      ]
    },
    {
      "cell_type": "code",
      "execution_count": 94,
      "metadata": {
        "id": "75D8jxqfbUMa",
        "colab": {
          "base_uri": "https://localhost:8080/"
        },
        "outputId": "4d9cbf5b-549b-420b-fb83-180eaf32083a"
      },
      "outputs": [
        {
          "output_type": "stream",
          "name": "stdout",
          "text": [
            "62\n"
          ]
        }
      ],
      "source": [
        "Z = np.arange(100)\n",
        "v = np.random.uniform(0,100)\n",
        "index = (np.abs(Z-v)).argmin()\n",
        "print(Z[index])"
      ]
    },
    {
      "cell_type": "markdown",
      "metadata": {
        "id": "e22Hbw60bUMa"
      },
      "source": [
        "#### 51. Create a structured array representing a position (x,y) and a color (r,g,b) (★★☆) \n",
        "(**hint**: dtype)"
      ]
    },
    {
      "cell_type": "code",
      "execution_count": 95,
      "metadata": {
        "id": "dJeieci0bUMb",
        "colab": {
          "base_uri": "https://localhost:8080/"
        },
        "outputId": "646f53c3-3976-4d30-ffe3-e2ccada0920a"
      },
      "outputs": [
        {
          "output_type": "stream",
          "name": "stdout",
          "text": [
            "[((0., 0.), (0., 0., 0.)) ((0., 0.), (0., 0., 0.))\n",
            " ((0., 0.), (0., 0., 0.)) ((0., 0.), (0., 0., 0.))\n",
            " ((0., 0.), (0., 0., 0.)) ((0., 0.), (0., 0., 0.))\n",
            " ((0., 0.), (0., 0., 0.)) ((0., 0.), (0., 0., 0.))\n",
            " ((0., 0.), (0., 0., 0.)) ((0., 0.), (0., 0., 0.))]\n"
          ]
        },
        {
          "output_type": "stream",
          "name": "stderr",
          "text": [
            "/usr/local/lib/python3.7/dist-packages/ipykernel_launcher.py:5: FutureWarning: Passing (type, 1) or '1type' as a synonym of type is deprecated; in a future version of numpy, it will be understood as (type, (1,)) / '(1,)type'.\n",
            "  \"\"\"\n"
          ]
        }
      ],
      "source": [
        "a = np.zeros(10, [ ('position', [ ('x', float, 1),\n",
        "                                  ('y', float, 1)]),\n",
        "                   ('color',    [ ('r', float, 1),\n",
        "                                  ('g', float, 1),\n",
        "                                  ('b', float, 1)])])\n",
        "print(a)"
      ]
    },
    {
      "cell_type": "markdown",
      "metadata": {
        "id": "VQ7pRUlrbUMb"
      },
      "source": [
        "#### 52. Consider a random vector with shape (100,2) representing coordinates, find point by point distances (★★☆) \n",
        "(**hint**: np.atleast\\_2d, T, np.sqrt)"
      ]
    },
    {
      "cell_type": "code",
      "execution_count": 96,
      "metadata": {
        "id": "uExdXT8dbUMb",
        "colab": {
          "base_uri": "https://localhost:8080/"
        },
        "outputId": "9fc4ea4d-df7a-4be2-ad0a-1b1afb739c18"
      },
      "outputs": [
        {
          "output_type": "stream",
          "name": "stdout",
          "text": [
            "[[0.         0.14883257 0.3287765  0.26854199 0.4994082  0.40820244\n",
            "  0.47196446 0.41602463 0.56436857 0.32899222 0.33899839 0.26338237\n",
            "  0.44167708 0.48821575 0.53478226 0.57446441 0.62775661 0.26059359\n",
            "  0.32411857 0.34759726 0.50083026 0.55166389 0.37525821 0.34071188\n",
            "  0.17657072 0.61956097 0.39385227 0.23156985 0.38533032 0.39648946\n",
            "  0.15627166 0.50965181 0.42616472 0.54822852 0.08959176 0.39346713\n",
            "  0.26495195 0.55562061 0.27731847 0.47891464 0.48449947 0.44753076\n",
            "  0.15667895 0.57005794 0.53475421 0.49103316 0.54005651 0.26976981\n",
            "  0.43796329 0.47210899 0.24220964 0.20492018 0.2573752  0.40774575\n",
            "  0.32824384 0.25124594 0.40528427 0.23409527 0.35134995 0.37355755\n",
            "  0.31257523 0.31626885 0.48896867 0.4963163  0.16498117 0.40032302\n",
            "  0.52918667 0.11393071 0.50274987 0.50270916 0.39674245 0.30332405\n",
            "  0.53134734 0.19839909 0.41514338 0.22149115 0.43193609 0.6006151\n",
            "  0.60786569 0.16225905 0.40726541 0.51456815 0.57114657 0.53750667\n",
            "  0.25648695 0.54834566 0.2972071  0.60192532 0.5376273  0.3927747\n",
            "  0.47197987 0.39985753 0.63158499 0.51825919 0.33936716 0.42988666\n",
            "  0.38564016 0.5620316  0.22761829 0.31969507]\n",
            " [0.14883257 0.         0.40817374 0.14191712 0.52101381 0.35260921\n",
            "  0.33694259 0.39407734 0.47342375 0.47748491 0.48779935 0.35069898\n",
            "  0.50450829 0.51754879 0.54050358 0.42775839 0.64184584 0.32201911\n",
            "  0.41860531 0.22913346 0.37980898 0.47723111 0.24161443 0.3287174\n",
            "  0.30768449 0.59415504 0.52630852 0.13553597 0.29530895 0.53711383\n",
            "  0.30072083 0.57884863 0.5573308  0.46084529 0.20337065 0.39396344\n",
            "  0.39762956 0.45098527 0.27289594 0.35112993 0.4945734  0.59333569\n",
            "  0.24550974 0.45273333 0.38604806 0.36198008 0.64533409 0.39618111\n",
            "  0.39759411 0.33360263 0.38503584 0.35134202 0.10864283 0.36092325\n",
            "  0.47675416 0.11716287 0.2805163  0.35345963 0.49688023 0.52223398\n",
            "  0.36939083 0.17585461 0.53357533 0.34769729 0.14213301 0.48603161\n",
            "  0.63998382 0.05392603 0.47868791 0.64791908 0.4153561  0.36835681\n",
            "  0.39575257 0.30571821 0.54709142 0.33900117 0.57852043 0.74783173\n",
            "  0.66238715 0.26497195 0.54874328 0.59659078 0.51631111 0.42726392\n",
            "  0.254644   0.4015971  0.15994114 0.64542986 0.6859545  0.53648692\n",
            "  0.38819958 0.54853601 0.4920891  0.42236863 0.29579097 0.32481999\n",
            "  0.50832109 0.6356286  0.27009054 0.2645795 ]\n",
            " [0.3287765  0.40817374 0.         0.42389452 0.81392181 0.73408298\n",
            "  0.58014398 0.7445495  0.52353007 0.34623701 0.38123026 0.54672359\n",
            "  0.7287784  0.79880012 0.28704411 0.72525916 0.35005141 0.09055669\n",
            "  0.04602636 0.44745237 0.55710112 0.47366392 0.64434248 0.66897289\n",
            "  0.4146119  0.41611734 0.23444381 0.36135452 0.40447363 0.51755436\n",
            "  0.25444723 0.18111136 0.24856398 0.50258448 0.23935113 0.7188832\n",
            "  0.46219152 0.55256613 0.6056344  0.56115737 0.80474997 0.51488144\n",
            "  0.1731825  0.59973275 0.7163723  0.57447976 0.24853964 0.15929977\n",
            "  0.32281608 0.59354126 0.24311925 0.26849777 0.48316827 0.32182029\n",
            "  0.38959067 0.430457   0.49934879 0.47659921 0.30823529 0.37968827\n",
            "  0.61639213 0.48532702 0.18255095 0.69938213 0.49018438 0.07833103\n",
            "  0.25228502 0.41134286 0.32588036 0.40680086 0.71627314 0.60188162\n",
            "  0.62977845 0.47233091 0.57328678 0.14160165 0.4940671  0.51377534\n",
            "  0.28396711 0.16769779 0.30271572 0.18917018 0.44242691 0.55408185\n",
            "  0.20877391 0.70257663 0.56312024 0.28729003 0.48562991 0.31325709\n",
            "  0.44096279 0.42829676 0.73164581 0.50207287 0.66661848 0.73219972\n",
            "  0.58079055 0.233499   0.147625   0.64429021]\n",
            " [0.26854199 0.14191712 0.42389452 0.         0.64941537 0.4477463\n",
            "  0.20356506 0.50748696 0.33753567 0.58161818 0.59791696 0.49257523\n",
            "  0.64400253 0.64867932 0.47368715 0.31979894 0.57697518 0.33357234\n",
            "  0.448348   0.08751718 0.23829066 0.35019452 0.25379808 0.45065422\n",
            "  0.44088679 0.49801709 0.59370007 0.06261846 0.16689015 0.66502766\n",
            "  0.39932523 0.56997335 0.62155854 0.32690862 0.28722874 0.51791923\n",
            "  0.53079585 0.31044679 0.40137679 0.21181105 0.61914043 0.71417185\n",
            "  0.29873997 0.31090184 0.29689089 0.22343429 0.67228386 0.46286659\n",
            "  0.30147168 0.20515908 0.47580395 0.45129351 0.09473869 0.26294641\n",
            "  0.58996174 0.0287112  0.13948491 0.49124542 0.58945585 0.62719227\n",
            "  0.50932438 0.06187119 0.50344035 0.27563835 0.2778693  0.50061958\n",
            "  0.6738032  0.19575272 0.38996888 0.73632812 0.54530766 0.50927349\n",
            "  0.26292159 0.44550768 0.68120119 0.40122324 0.69773992 0.84151218\n",
            "  0.63438943 0.32507393 0.630676   0.59997786 0.40103776 0.28573117\n",
            "  0.22386925 0.29455795 0.18757092 0.60755408 0.78594491 0.62353471\n",
            "  0.25856858 0.65965771 0.36422418 0.285192   0.40404863 0.37396871\n",
            "  0.64609032 0.62816691 0.27655048 0.3689545 ]\n",
            " [0.4994082  0.52101381 0.81392181 0.64941537 0.         0.26503208\n",
            "  0.79930894 0.17045136 0.98674775 0.62016988 0.5968204  0.27911274\n",
            "  0.14678805 0.02769379 1.03286371 0.81387498 1.12708788 0.75735158\n",
            "  0.79708749 0.73380597 0.86732258 0.99689194 0.50833382 0.20132369\n",
            "  0.41446348 1.10719256 0.78202446 0.65645584 0.81352936 0.50608613\n",
            "  0.57089089 0.9929947  0.81283925 0.97630895 0.58198051 0.13421978\n",
            "  0.41672714 0.95466928 0.24866706 0.82918216 0.04419559 0.58885808\n",
            "  0.65092676 0.94073366 0.7441084  0.8361579  0.97798522 0.70244953\n",
            "  0.91449813 0.7853108  0.62754239 0.58268571 0.5670954  0.87921585\n",
            "  0.57567036 0.62081688 0.77180661 0.36710701 0.67857009 0.63985711\n",
            "  0.19987962 0.65336755 0.98516873 0.68787507 0.37945687 0.87552356\n",
            "  0.9572808  0.47627645 0.99002738 0.79209815 0.10596002 0.21734635\n",
            "  0.84841161 0.34955252 0.44984525 0.68131069 0.59147838 0.84197615\n",
            "  1.09783014 0.64847824 0.74964107 0.98652158 1.03708922 0.9261943\n",
            "  0.74787882 0.79236765 0.5040895  1.09693883 0.76731215 0.72323349\n",
            "  0.90644962 0.62313221 0.91749364 0.93406342 0.26382401 0.41504448\n",
            "  0.38612561 1.03985037 0.72700736 0.29896556]\n",
            " [0.40820244 0.35260921 0.73408298 0.4477463  0.26503208 0.\n",
            "  0.5603769  0.09520305 0.77263513 0.65983227 0.64999675 0.33884617\n",
            "  0.3504839  0.27966451 0.89308447 0.55524479 0.99441816 0.65721005\n",
            "  0.73219047 0.52207846 0.63642198 0.79524645 0.25322357 0.11697776\n",
            "  0.42718186 0.9402806  0.78110453 0.47483136 0.61382461 0.61492996\n",
            "  0.53932952 0.9132803  0.81404003 0.76568191 0.49720772 0.14903168\n",
            "  0.48088562 0.73136787 0.1566742  0.59526728 0.22223214 0.69564463\n",
            "  0.56095375 0.70729557 0.48387385 0.60013772 0.94618839 0.66948341\n",
            "  0.74229808 0.54336105 0.618622   0.57282723 0.35454258 0.70428827\n",
            "  0.63091629 0.41986761 0.54817021 0.41682227 0.70566534 0.69404082\n",
            "  0.27496724 0.43327659 0.87968307 0.42762758 0.24403792 0.80769834\n",
            "  0.9331853  0.32886632 0.8271007  0.84661864 0.1992463  0.29339054\n",
            "  0.60367171 0.37011796 0.58245492 0.62772235 0.69032935 0.92308308\n",
            "  1.00541329 0.56996617 0.77361906 0.92181077 0.84877643 0.70014782\n",
            "  0.60664824 0.53520064 0.27136519 0.99272918 0.84974763 0.75199299\n",
            "  0.7033146  0.6961815  0.66305799 0.71944052 0.07068996 0.15003677\n",
            "  0.51957683 0.96744682 0.61195214 0.09025013]\n",
            " [0.47196446 0.33694259 0.58014398 0.20356506 0.79930894 0.5603769\n",
            "  0.         0.63964109 0.24440092 0.78196177 0.79975547 0.68273328\n",
            "  0.81859489 0.80373851 0.53228596 0.15216406 0.62790537 0.49526535\n",
            "  0.61334465 0.13740465 0.08582889 0.29471715 0.31221869 0.59844766\n",
            "  0.64264196 0.50098482 0.77739928 0.2515362  0.18813937 0.86836778\n",
            "  0.59985476 0.6931832  0.80273358 0.24704282 0.48654825 0.66509992\n",
            "  0.73271642 0.1872043  0.56151991 0.04339464 0.76323066 0.91758011\n",
            "  0.48725503 0.14854626 0.1752807  0.04205408 0.82447627 0.64974903\n",
            "  0.3413237  0.02372234 0.67285091 0.6515462  0.24459289 0.31125224\n",
            "  0.79247635 0.22191552 0.08091549 0.69037291 0.78568823 0.82751306\n",
            "  0.68741518 0.16177859 0.60827345 0.19716413 0.45592937 0.65048158\n",
            "  0.83170972 0.38994494 0.42389717 0.92918964 0.70125813 0.69074668\n",
            "  0.05938393 0.64239186 0.88286821 0.58819155 0.90099616 1.03611029\n",
            "  0.73186161 0.5148287  0.82156562 0.73378338 0.37277565 0.1532542\n",
            "  0.37186615 0.13492666 0.29539793 0.69442042 0.98364848 0.81697872\n",
            "  0.22140745 0.86151446 0.16191777 0.19848476 0.53749768 0.44087914\n",
            "  0.8452597  0.74938256 0.44207693 0.50155005]\n",
            " [0.41602463 0.39407734 0.7445495  0.50748696 0.17045136 0.09520305\n",
            "  0.63964109 0.         0.84066741 0.62479494 0.61017885 0.28427431\n",
            "  0.26114837 0.18446346 0.92936204 0.64524404 1.0284012  0.67477793\n",
            "  0.73676212 0.58752541 0.71192754 0.85767115 0.34039572 0.07595356\n",
            "  0.39451382 0.98821575 0.76233504 0.52528254 0.67427629 0.556577\n",
            "  0.52727758 0.92557496 0.79493096 0.83207423 0.50521526 0.06146461\n",
            "  0.43282667 0.80355274 0.13898498 0.67211271 0.12858134 0.63935213\n",
            "  0.57264179 0.78428845 0.57480654 0.67806222 0.94053747 0.66082292\n",
            "  0.79130659 0.62413236 0.60000358 0.55349003 0.41847052 0.75420513\n",
            "  0.59001546 0.47886817 0.61965735 0.37070706 0.67580317 0.65469651\n",
            "  0.20856285 0.50209576 0.90188254 0.51851874 0.26356709 0.81434129\n",
            "  0.92456799 0.35922228 0.87268646 0.80929222 0.1105349  0.22908293\n",
            "  0.68608032 0.33138927 0.51642791 0.62620087 0.63641969 0.87768842\n",
            "  1.02336947 0.57716691 0.74588438 0.92837424 0.90550818 0.77353022\n",
            "  0.64077757 0.62430762 0.3450983  1.01525339 0.80319148 0.72227805\n",
            "  0.76594601 0.65062149 0.75075572 0.78748457 0.10405241 0.24510082\n",
            "  0.45182256 0.97734445 0.63500231 0.14003766]\n",
            " [0.56436857 0.47342375 0.52353007 0.33753567 0.98674775 0.77263513\n",
            "  0.24440092 0.84066741 0.         0.81346499 0.83999631 0.81656811\n",
            "  0.97777122 0.98621499 0.36032865 0.3682893  0.43718944 0.46230187\n",
            "  0.56687778 0.25345543 0.15925444 0.06893261 0.53973277 0.78718654\n",
            "  0.73964742 0.28375748 0.75341356 0.34193218 0.1804218  0.94100597\n",
            "  0.64497408 0.57449416 0.77099675 0.02100361 0.53835307 0.85464249\n",
            "  0.82498867 0.06410852 0.73890633 0.20105103 0.95572007 0.97147651\n",
            "  0.50685659 0.12833071 0.41328722 0.20423924 0.7363769  0.64434708\n",
            "  0.20404311 0.26791826 0.6963505  0.69095956 0.42226084 0.20209125\n",
            "  0.8388131  0.36602542 0.22596441 0.79845973 0.79830197 0.85654679\n",
            "  0.84256744 0.33953826 0.47641938 0.44126185 0.61393517 0.57441016\n",
            "  0.7525125  0.52498224 0.24844763 0.92236011 0.88283365 0.84062043\n",
            "  0.24195982 0.7599821  0.97228572 0.58969924 0.9522458  1.03106345\n",
            "  0.57858099 0.53309412 0.81406378 0.62549933 0.15001944 0.09522895\n",
            "  0.35326195 0.36144467 0.50142878 0.53277793 0.99299107 0.81782287\n",
            "  0.09381113 0.89908603 0.29832555 0.05323757 0.73662693 0.67044546\n",
            "  0.94885248 0.62297205 0.42734447 0.70077932]\n",
            " [0.32899222 0.47748491 0.34623701 0.58161818 0.62016988 0.65983227\n",
            "  0.78196177 0.62479494 0.81346499 0.         0.03682846 0.3481253\n",
            "  0.49377481 0.5970753  0.63323859 0.89806104 0.69145367 0.36382463\n",
            "  0.30402234 0.64757748 0.79318923 0.77877959 0.69752448 0.55518205\n",
            "  0.23274178 0.75964412 0.18041757 0.53053893 0.65295632 0.18186688\n",
            "  0.18231195 0.47464259 0.20529803 0.79387177 0.29541983 0.5759268\n",
            "  0.20344519 0.82392481 0.50346574 0.78030329 0.62919952 0.16881138\n",
            "  0.30797761 0.8542328  0.86236528 0.79340056 0.38923606 0.18754458\n",
            "  0.63401949 0.78614974 0.11722861 0.13043772 0.58556718 0.61921498\n",
            "  0.05278898 0.57015574 0.70713427 0.25770673 0.06195001 0.04558013\n",
            "  0.43109534 0.63650753 0.51942509 0.82517588 0.45477731 0.36167024\n",
            "  0.36187289 0.44057972 0.66045298 0.18694432 0.54985644 0.41058195\n",
            "  0.84037375 0.29349527 0.24785314 0.228281   0.1480352  0.27413084\n",
            "  0.58526604 0.2809435  0.13064983 0.44320098 0.76669211 0.81433104\n",
            "  0.46022934 0.8721578  0.62297067 0.60670731 0.20869292 0.10345041\n",
            "  0.720994   0.08606607 0.94386686 0.77803331 0.59075473 0.72840007\n",
            "  0.27837254 0.50107203 0.3874168  0.58671921]\n",
            " [0.33899839 0.48779935 0.38123026 0.59791696 0.5968204  0.64999675\n",
            "  0.79975547 0.61017885 0.83999631 0.03682846 0.         0.32953356\n",
            "  0.4668714  0.57302958 0.66802778 0.91190029 0.72747935 0.39506875\n",
            "  0.33959929 0.66676779 0.81430936 0.80713243 0.70120559 0.54247015\n",
            "  0.22390688 0.79333162 0.21546016 0.5490057  0.67660075 0.1452189\n",
            "  0.20084985 0.51146622 0.23892848 0.82064798 0.3144023  0.55928911\n",
            "  0.18147689 0.84843219 0.49332258 0.7998395  0.60790444 0.13542947\n",
            "  0.33326999 0.87680217 0.87374161 0.81279897 0.42405871 0.22207606\n",
            "  0.66378361 0.80298264 0.14652156 0.15064912 0.59637353 0.64773984\n",
            "  0.0211542  0.58496819 0.72629761 0.24003966 0.09585852 0.0445218\n",
            "  0.41192245 0.6511779  0.55558794 0.83482742 0.4542359  0.39827496\n",
            "  0.39613086 0.44797092 0.69275687 0.19930253 0.53075866 0.39110491\n",
            "  0.85854206 0.28059527 0.21193069 0.25927551 0.11493993 0.27518691\n",
            "  0.62209309 0.30691204 0.16032679 0.47990818 0.79733417 0.83774739\n",
            "  0.48722371 0.88587559 0.62862975 0.64345558 0.20489589 0.13244678\n",
            "  0.74705302 0.0617622  0.96147308 0.80329669 0.58189601 0.72548199\n",
            "  0.24529294 0.53776298 0.41575245 0.58007819]\n",
            " [0.26338237 0.35069898 0.54672359 0.49257523 0.27911274 0.33884617\n",
            "  0.68273328 0.28427431 0.81656811 0.3481253  0.32953356 0.\n",
            "  0.18334439 0.25933744 0.78957971 0.7482144  0.87708114 0.50136196\n",
            "  0.52529496 0.57950587 0.73042081 0.81025365 0.47002614 0.2235103\n",
            "  0.13629966 0.88157742 0.50353075 0.47499213 0.63615705 0.27611042\n",
            "  0.29622024 0.72224842 0.53470977 0.80198925 0.32969158 0.23046201\n",
            "  0.14929108 0.79963893 0.18976904 0.70056906 0.28272307 0.35737677\n",
            "  0.39572091 0.8034323  0.69091392 0.71087472 0.69903773 0.42512863\n",
            "  0.70127178 0.67614423 0.34852881 0.3040067  0.43928854 0.67052908\n",
            "  0.30883398 0.46754904 0.63101866 0.09048186 0.40381734 0.37390736\n",
            "  0.08304277 0.52127846 0.72430882 0.64015665 0.23080336 0.60309679\n",
            "  0.67816983 0.29682289 0.76522941 0.52867565 0.2017321  0.06292702\n",
            "  0.74009333 0.07439565 0.24732465 0.40911838 0.35315184 0.5935901\n",
            "  0.82980463 0.38752559 0.47499991 0.71190007 0.83381812 0.77720668\n",
            "  0.51914305 0.72287565 0.4215529  0.83341497 0.51899578 0.44950957\n",
            "  0.72662079 0.366815   0.83006569 0.76754026 0.27839853 0.44700549\n",
            "  0.18849008 0.76651724 0.48135845 0.2890947 ]\n",
            " [0.44167708 0.50450829 0.7287784  0.64400253 0.14678805 0.3504839\n",
            "  0.81859489 0.26114837 0.97777122 0.49377481 0.4668714  0.18334439\n",
            "  0.         0.11927293 0.97223411 0.85920413 1.06035612 0.68469546\n",
            "  0.70555747 0.73138971 0.87650658 0.97771524 0.55889995 0.24707241\n",
            "  0.31479056 1.06123622 0.66453956 0.63688065 0.79862358 0.36408317\n",
            "  0.47608574 0.90243096 0.69376381 0.96472411 0.51243305 0.20181265\n",
            "  0.29327745 0.95444691 0.26160391 0.84243548 0.17679506 0.4457381\n",
            "  0.57893589 0.95048391 0.79424981 0.85130804 0.86740433 0.60061299\n",
            "  0.87698819 0.80827718 0.51917537 0.47732487 0.57532512 0.84466688\n",
            "  0.44585099 0.61675865 0.77756266 0.25629942 0.55437871 0.50820931\n",
            "  0.13522548 0.66166463 0.90729595 0.73947416 0.36664131 0.78266999\n",
            "  0.84417934 0.45288445 0.94436396 0.6570716  0.15145473 0.13941261\n",
            "  0.8727431  0.25730129 0.30481252 0.58973414 0.44977636 0.70053641\n",
            "  1.01097222 0.57083841 0.62441605 0.8893423  1.00711598 0.92919939\n",
            "  0.69813274 0.83548804 0.53304167 1.01585656 0.62635813 0.59715139\n",
            "  0.89091737 0.48667407 0.95343711 0.92687618 0.31959677 0.49329816\n",
            "  0.24236422 0.94491639 0.66372109 0.34751001]\n",
            " [0.48821575 0.51754879 0.79880012 0.64867932 0.02769379 0.27966451\n",
            "  0.80373851 0.18446346 0.98621499 0.5970753  0.57302958 0.25933744\n",
            "  0.11927293 0.         1.0226781  0.82330813 1.11586633 0.7444257\n",
            "  0.78074879 0.73393203 0.86999234 0.99445292 0.51774884 0.2055333\n",
            "  0.39540606 1.0998693  0.76081017 0.65307812 0.81151989 0.47986518\n",
            "  0.55339982 0.97711597 0.79135566 0.97526614 0.56907235 0.14057181\n",
            "  0.39369875 0.95573288 0.24733663 0.83253747 0.06615514 0.56243351\n",
            "  0.63782794 0.94365752 0.75430182 0.83988966 0.9582821  0.6840275\n",
            "  0.90846295 0.79040602 0.60776827 0.5633423  0.56858333 0.87366564\n",
            "  0.55187563 0.6202189  0.77359245 0.34590636 0.65596533 0.61579253\n",
            "  0.18268661 0.65525072 0.97167377 0.69819791 0.37547177 0.85906316\n",
            "  0.93707566 0.471219   0.98259297 0.767476   0.10352619 0.19880772\n",
            "  0.85391592 0.33120983 0.4229252  0.66472207 0.56536712 0.81600471\n",
            "  1.08276445 0.63434084 0.72691804 0.96938284 1.03268013 0.92781476\n",
            "  0.73917315 0.80133036 0.50922891 1.08296844 0.74142988 0.70032002\n",
            "  0.90453151 0.59811558 0.925342   0.9337734  0.27186692 0.42950234\n",
            "  0.35945585 1.02319261 0.71573532 0.30606429]\n",
            " [0.53478226 0.54050358 0.28704411 0.47368715 1.03286371 0.89308447\n",
            "  0.53228596 0.92936204 0.36032865 0.63323859 0.66802778 0.78957971\n",
            "  0.97223411 1.0226781  0.         0.68269849 0.10333552 0.29297389\n",
            "  0.33052907 0.44121745 0.47065851 0.29254952 0.72747728 0.85867303\n",
            "  0.66942181 0.13858529 0.50675587 0.42717016 0.35061204 0.80200706\n",
            "  0.52045038 0.23873364 0.51162233 0.34181338 0.4598948  0.91889469\n",
            "  0.73184505 0.41469498 0.79733053 0.4962806  1.01488856 0.80192276\n",
            "  0.39488371 0.47785405 0.70326409 0.50668962 0.41523838 0.44595172\n",
            "  0.19119049 0.55351492 0.52710227 0.54614842 0.56395665 0.22444533\n",
            "  0.67571856 0.49542996 0.4659928  0.73400662 0.59408827 0.66641685\n",
            "  0.84674752 0.51991722 0.14150591 0.70900999 0.66627312 0.29258015\n",
            "  0.43912739 0.5702011  0.11337282 0.67669926 0.92860071 0.83620774\n",
            "  0.56052522 0.71725364 0.85451339 0.41759922 0.78110942 0.7782196\n",
            "  0.21897262 0.40738722 0.5802614  0.29461558 0.22321043 0.43331327\n",
            "  0.28858772 0.66714782 0.65768917 0.17244929 0.76116378 0.59462326\n",
            "  0.31962317 0.71517355 0.64319046 0.36887738 0.83505215 0.84438612\n",
            "  0.85548812 0.27589332 0.30861607 0.80487106]\n",
            " [0.57446441 0.42775839 0.72525916 0.31979894 0.81387498 0.55524479\n",
            "  0.15216406 0.64524404 0.3682893  0.89806104 0.91190029 0.7482144\n",
            "  0.85920413 0.82330813 0.68269849 0.         0.77655258 0.63809543\n",
            "  0.75600166 0.27780695 0.21697923 0.42860352 0.30561226 0.6205979\n",
            "  0.73298356 0.64222022 0.9118206  0.37816736 0.34023603 0.96394133\n",
            "  0.71640761 0.84446104 0.93878739 0.37656915 0.60593649 0.68283936\n",
            "  0.82204013 0.30464831 0.59768416 0.18649051 0.77357155 1.02103773\n",
            "  0.61755716 0.24527045 0.07310513 0.17667545 0.97173215 0.78171534\n",
            "  0.49230068 0.13396249 0.79492048 0.76839483 0.32053532 0.46311853\n",
            "  0.90224674 0.32816472 0.22900826 0.77225965 0.90866502 0.94349946\n",
            "  0.7365002  0.26186979 0.76034955 0.12821695 0.51768508 0.79759601\n",
            "  0.97750719 0.47525042 0.57278486 1.05608291 0.72571634 0.74391673\n",
            "  0.12724161 0.72058322 0.96919106 0.7199424  1.00601566 1.16095143\n",
            "  0.88397745 0.64430828 0.95043321 0.8840538  0.51020756 0.27332918\n",
            "  0.51652003 0.02616169 0.32872414 0.84622892 1.10417232 0.94327665\n",
            "  0.3667762  0.9733133  0.11537883 0.33206911 0.55151954 0.41370259\n",
            "  0.92445339 0.9009366  0.58305955 0.51812602]\n",
            " [0.62775661 0.64184584 0.35005141 0.57697518 1.12708788 0.99441816\n",
            "  0.62790537 1.0284012  0.43718944 0.69145367 0.72747935 0.87708114\n",
            "  1.06035612 1.11586633 0.10333552 0.77655258 0.         0.37589874\n",
            "  0.38847343 0.54268463 0.56164699 0.36826043 0.83077197 0.95683878\n",
            "  0.75238938 0.16721039 0.5467322  0.53035712 0.45010411 0.86673167\n",
            "  0.59782396 0.2445576  0.54557968 0.42068746 0.54871597 1.01591158\n",
            "  0.80883124 0.49618714 0.89493514 0.59021756 1.11065801 0.85824176\n",
            "  0.48144348 0.56090517 0.80076844 0.59990437 0.41703329 0.50774066\n",
            "  0.28957248 0.64977888 0.59303591 0.61763998 0.66727069 0.32478983\n",
            "  0.73746246 0.5987643  0.56471864 0.81643817 0.64613111 0.72036204\n",
            "  0.93777808 0.62266969 0.17235277 0.80878122 0.76491104 0.33346708\n",
            "  0.44554733 0.66972858 0.2040114  0.70973009 1.02367342 0.92622949\n",
            "  0.65223215 0.80371097 0.92332184 0.48910114 0.83748449 0.80509662\n",
            "  0.17730246 0.49052141 0.6219513  0.2980662  0.28968348 0.51838171\n",
            "  0.38830801 0.76224905 0.76097957 0.12723892 0.79730526 0.63982064\n",
            "  0.4102664  0.76950969 0.72944022 0.45394859 0.93541105 0.94763017\n",
            "  0.92974867 0.26088159 0.40014939 0.90577773]\n",
            " [0.26059359 0.32201911 0.09055669 0.33357234 0.75735158 0.65721005\n",
            "  0.49526535 0.67477793 0.46230187 0.36382463 0.39506875 0.50136196\n",
            "  0.68469546 0.7444257  0.29297389 0.63809543 0.37589874 0.\n",
            "  0.11811741 0.36062461 0.47828297 0.42008044 0.5554366  0.60014393\n",
            "  0.37723027 0.40447264 0.29343396 0.27098607 0.32616504 0.51860982\n",
            "  0.22831236 0.25765672 0.31429787 0.44177483 0.1753933  0.65405262\n",
            "  0.43922363 0.48398225 0.53685107 0.47888937 0.74438537 0.53040781\n",
            "  0.10664133 0.52621784 0.62707992 0.49233269 0.33871193 0.18357075\n",
            "  0.27185665 0.50755992 0.24871459 0.25884763 0.39316402 0.26158251\n",
            "  0.39877551 0.33990046 0.41435319 0.44163046 0.33956071 0.40361061\n",
            "  0.56418616 0.39512673 0.22843629 0.6091629  0.41497557 0.16837138\n",
            "  0.34096985 0.33019626 0.29860581 0.46024996 0.65625792 0.55174714\n",
            "  0.54677892 0.42783899 0.56640556 0.13579436 0.51000153 0.5690669\n",
            "  0.34897953 0.11489235 0.35177758 0.2752109  0.40296873 0.48176199\n",
            "  0.12397951 0.61496463 0.47458648 0.34133455 0.53127589 0.3559527\n",
            "  0.37422025 0.44960347 0.64982087 0.43458129 0.59150553 0.6468164\n",
            "  0.56366472 0.31384245 0.05709132 0.56699368]\n",
            " [0.32411857 0.41860531 0.04602636 0.448348   0.79708749 0.73219047\n",
            "  0.61334465 0.73676212 0.56687778 0.30402234 0.33959929 0.52529496\n",
            "  0.70555747 0.78074879 0.33052907 0.75600166 0.38847343 0.11811741\n",
            "  0.         0.47868235 0.59448363 0.51825976 0.65826946 0.66085522\n",
            "  0.39078485 0.46120547 0.18882748 0.38579761 0.44191635 0.47832862\n",
            "  0.22948844 0.19697736 0.20419308 0.54598585 0.23500964 0.70768622\n",
            "  0.43151303 0.59409007 0.59786847 0.59642538 0.79026274 0.47216791\n",
            "  0.17496209 0.63960633 0.74360012 0.6098395  0.22751993 0.11945643\n",
            "  0.36740154 0.6256702  0.20601989 0.23612367 0.50087354 0.36484784\n",
            "  0.34905098 0.45235233 0.53242954 0.45086232 0.26366179 0.33594829\n",
            "  0.59806529 0.51017981 0.21771518 0.72379793 0.48837829 0.07851205\n",
            "  0.22586763 0.4158516  0.37190503 0.36099985 0.70195562 0.58252196\n",
            "  0.66454513 0.4512072  0.53609911 0.11620338 0.45134776 0.46822798\n",
            "  0.30581456 0.16233889 0.25668936 0.19171366 0.48826787 0.59435761\n",
            "  0.24171694 0.73272743 0.57653068 0.31563043 0.4396036  0.26741932\n",
            "  0.48282145 0.38480069 0.76729623 0.54384133 0.66348348 0.73968934\n",
            "  0.5469783  0.2429666  0.1732182  0.64320632]\n",
            " [0.34759726 0.22913346 0.44745237 0.08751718 0.73380597 0.52207846\n",
            "  0.13740465 0.58752541 0.25345543 0.64757748 0.66676779 0.57950587\n",
            "  0.73138971 0.73393203 0.44121745 0.27780695 0.54268463 0.36062461\n",
            "  0.47868235 0.         0.15350983 0.27356642 0.30410729 0.53384547\n",
            "  0.52268936 0.44306121 0.64013468 0.11822817 0.09868404 0.7428392\n",
            "  0.46611311 0.57284145 0.6657079  0.24457367 0.35249229 0.60133913\n",
            "  0.61208869 0.22317039 0.48664084 0.13316802 0.70235184 0.78782226\n",
            "  0.35005156 0.224701   0.27495744 0.14604068 0.69419465 0.51234577\n",
            "  0.25504722 0.1473065  0.53694107 0.51740576 0.1690772  0.21821581\n",
            "  0.66049186 0.11473961 0.05956185 0.5752138  0.6493254  0.69303187\n",
            "  0.59679079 0.09092765 0.49502739 0.2706619  0.36502868 0.52010714\n",
            "  0.69970375 0.28280388 0.34447648 0.7920343  0.63043352 0.59678992\n",
            "  0.19382737 0.53076853 0.76248824 0.45080132 0.77059944 0.89917085\n",
            "  0.62334252 0.3776936  0.68426425 0.60953172 0.33335192 0.19822893\n",
            "  0.23872168 0.25534207 0.25287833 0.59074363 0.84758479 0.67996714\n",
            "  0.18189769 0.72843523 0.29815727 0.20046366 0.48353814 0.43224672\n",
            "  0.72968748 0.63029374 0.30626603 0.4478199 ]\n",
            " [0.50083026 0.37980898 0.55710112 0.23829066 0.86732258 0.63642198\n",
            "  0.08582889 0.71192754 0.15925444 0.79318923 0.81430936 0.73042081\n",
            "  0.87650658 0.86999234 0.47065851 0.21697923 0.56164699 0.47828297\n",
            "  0.59448363 0.15350983 0.         0.21347105 0.39280401 0.66600124\n",
            "  0.67617865 0.42533205 0.76884856 0.26998284 0.15265778 0.89520831\n",
            "  0.61351649 0.65108649 0.79174874 0.16347999 0.50025528 0.73331197\n",
            "  0.76550871 0.10146562 0.62454146 0.0433199  0.83291993 0.93805465\n",
            "  0.48897381 0.07401839 0.25514956 0.04498522 0.79419871 0.64599044\n",
            "  0.28347768 0.10901941 0.67982041 0.66396681 0.30237376 0.25945974\n",
            "  0.80915276 0.26288836 0.0994926  0.7285705  0.79019452 0.83831883\n",
            "  0.74306245 0.21545823 0.5606104  0.28206485 0.51024935 0.62210368\n",
            "  0.80455748 0.43373323 0.35885345 0.92815126 0.76673415 0.74446014\n",
            "  0.09069066 0.68361492 0.9158744  0.58577391 0.92039686 1.03646783\n",
            "  0.67873754 0.51680861 0.81931144 0.6956738  0.29399282 0.0675884\n",
            "  0.35496892 0.20632802 0.36697374 0.63818298 0.98873569 0.81763291\n",
            "  0.15148541 0.87568936 0.17840595 0.1163769  0.6085727  0.52272913\n",
            "  0.88313402 0.70536397 0.4297844  0.57243403]\n",
            " [0.55166389 0.47723111 0.47366392 0.35019452 0.99689194 0.79524645\n",
            "  0.29471715 0.85767115 0.06893261 0.77877959 0.80713243 0.81025365\n",
            "  0.97771524 0.99445292 0.29254952 0.42860352 0.36826043 0.42008044\n",
            "  0.51825976 0.27356642 0.21347105 0.         0.57287805 0.79995168\n",
            "  0.72371974 0.21660317 0.70652931 0.34206388 0.18370332 0.91532596\n",
            "  0.61694516 0.51162435 0.72219994 0.05361724 0.51533802 0.86689039\n",
            "  0.80625277 0.12985084 0.74822538 0.25178231 0.96812935 0.9405356\n",
            "  0.47643264 0.19504488 0.46824471 0.25750549 0.67699525 0.60359852\n",
            "  0.15086787 0.31842364 0.66163089 0.66039991 0.44099248 0.15958538\n",
            "  0.80751677 0.37884445 0.26007167 0.78468317 0.75921876 0.82067\n",
            "  0.8427175  0.36391391 0.41263367 0.49127605 0.61932296 0.51927396\n",
            "  0.69454632 0.52612691 0.18192781 0.87736053 0.89174597 0.83906015\n",
            "  0.30137713 0.74966949 0.95086119 0.55193335 0.92082714 0.98554763\n",
            "  0.51126428 0.50133767 0.77008164 0.56377158 0.08266406 0.1566938\n",
            "  0.32112612 0.41952456 0.52639486 0.46491745 0.95100379 0.77570684\n",
            "  0.09195358 0.8648057  0.3652037  0.09709426 0.7541288  0.70288577\n",
            "  0.9317183  0.55854622 0.39145664 0.71885395]\n",
            " [0.37525821 0.24161443 0.64434248 0.25379808 0.50833382 0.25322357\n",
            "  0.31221869 0.34039572 0.53973277 0.69752448 0.70120559 0.47002614\n",
            "  0.55889995 0.51774884 0.72747728 0.30561226 0.83077197 0.5554366\n",
            "  0.65826946 0.30410729 0.39280401 0.57287805 0.         0.31615018\n",
            "  0.49078667 0.74560777 0.76546596 0.30444815 0.40251756 0.71827316\n",
            "  0.53150963 0.80737253 0.79700355 0.53603413 0.44347909 0.37736023\n",
            "  0.57247516 0.4917706  0.29989064 0.35017235 0.46836126 0.78731698\n",
            "  0.48673367 0.46065827 0.23694902 0.35335203 0.8856163  0.63653749\n",
            "  0.55222334 0.29346513 0.61746724 0.57919143 0.16690546 0.51391433\n",
            "  0.68677252 0.23301211 0.31440021 0.51397854 0.72556775 0.74015263\n",
            "  0.44347302 0.21423513 0.74996048 0.18124887 0.253388   0.72265878\n",
            "  0.88113071 0.26146952 0.64159107 0.87673324 0.42103606 0.45392023\n",
            "  0.35180368 0.46005484 0.7089989  0.58031229 0.77587387 0.9715318\n",
            "  0.88099886 0.50658614 0.78251477 0.83037067 0.63708152 0.45901675\n",
            "  0.46528994 0.28408269 0.08184732 0.85730436 0.90510566 0.7677914\n",
            "  0.48310637 0.75874416 0.41049737 0.48758872 0.24611202 0.13071497\n",
            "  0.65606314 0.8651991  0.50020213 0.21345479]\n",
            " [0.34071188 0.3287174  0.66897289 0.45065422 0.20132369 0.11697776\n",
            "  0.59844766 0.07595356 0.78718654 0.55518205 0.54247015 0.2235103\n",
            "  0.24707241 0.2055333  0.85867303 0.6205979  0.95683878 0.60014393\n",
            "  0.66085522 0.53384547 0.66600124 0.79995168 0.31615018 0.\n",
            "  0.32325566 0.92190345 0.68835862 0.46259583 0.61625644 0.49945197\n",
            "  0.45193324 0.85004444 0.72105867 0.77734968 0.42970002 0.0675489\n",
            "  0.36867668 0.75381984 0.06339346 0.62791152 0.16854481 0.58087939\n",
            "  0.49738835 0.73941494 0.55304162 0.63498612 0.86490678 0.58528983\n",
            "  0.7261142  0.58491425 0.52576455 0.47929633 0.36625254 0.68961958\n",
            "  0.52273918 0.42195459 0.57068243 0.30518483 0.60451445 0.58687947\n",
            "  0.15813736 0.45225382 0.82770614 0.49739304 0.19257769 0.73848736\n",
            "  0.84919925 0.2898415  0.80564187 0.74089102 0.10513523 0.17641324\n",
            "  0.64838435 0.26203789 0.46559278 0.55026368 0.57634602 0.81303998\n",
            "  0.94841327 0.50148455 0.67406833 0.85248933 0.84399363 0.72508982\n",
            "  0.57024565 0.5979979  0.30370208 0.94102001 0.73905632 0.65102365\n",
            "  0.7088243  0.58572934 0.72069895 0.73429523 0.07253392 0.2476289\n",
            "  0.40260424 0.9016115  0.56148554 0.10269539]\n",
            " [0.17657072 0.30768449 0.4146119  0.44088679 0.41446348 0.42718186\n",
            "  0.64264196 0.39451382 0.73964742 0.23274178 0.22390688 0.13629966\n",
            "  0.31479056 0.39540606 0.66942181 0.73298356 0.75238938 0.37723027\n",
            "  0.39078485 0.52268936 0.67617865 0.72371974 0.49078667 0.32325566\n",
            "  0.         0.77064012 0.37199628 0.40782858 0.56140169 0.23157614\n",
            "  0.16129984 0.58770197 0.40394891 0.72303072 0.21565231 0.34927399\n",
            "  0.09008756 0.73214885 0.27073056 0.65255775 0.41486847 0.29659853\n",
            "  0.27521596 0.7461085  0.68532502 0.66430907 0.56363977 0.28882933\n",
            "  0.60118325 0.64068014 0.21353476 0.16825693 0.41258691 0.5742289\n",
            "  0.20581104 0.42073349 0.57943537 0.06469165 0.28138077 0.26743544\n",
            "  0.21523445 0.48302565 0.59464844 0.64060908 0.23805759 0.46808293\n",
            "  0.54353095 0.2578419  0.65652239 0.41943851 0.32982552 0.19711775\n",
            "  0.70186948 0.06587113 0.24033385 0.27495835 0.28518372 0.49881319\n",
            "  0.69620717 0.26234676 0.35137686 0.57598777 0.73681199 0.71402744\n",
            "  0.41451565 0.70687732 0.42487803 0.70189458 0.42712238 0.32788181\n",
            "  0.64669149 0.27478377 0.79959606 0.69430324 0.35842944 0.50349587\n",
            "  0.20930658 0.63094775 0.36546117 0.3562018 ]\n",
            " [0.61956097 0.59415504 0.41611734 0.49801709 1.10719256 0.9402806\n",
            "  0.50098482 0.98821575 0.28375748 0.75964412 0.79333162 0.88157742\n",
            "  1.06123622 1.0998693  0.13858529 0.64222022 0.16721039 0.40447264\n",
            "  0.46120547 0.44306121 0.42533205 0.21660317 0.74560777 0.92190345\n",
            "  0.77064012 0.         0.64227634 0.46548708 0.3445106  0.92234417\n",
            "  0.63163612 0.37505651 0.64856653 0.27020788 0.5556261  0.98565321\n",
            "  0.84042504 0.34635399 0.86346082 0.45980409 1.08482657 0.92835451\n",
            "  0.49672412 0.41148787 0.67626284 0.46746304 0.55224379 0.57227876\n",
            "  0.19799093 0.52420806 0.64922048 0.66313905 0.59263284 0.2361583\n",
            "  0.79935614 0.52402622 0.45020449 0.83517841 0.72431894 0.79510542\n",
            "  0.93083126 0.53145864 0.27973176 0.69287027 0.73056198 0.42960864\n",
            "  0.57692455 0.63281022 0.1173108  0.8132862  1.00144615 0.92262392\n",
            "  0.51522169 0.81207729 0.97085163 0.53702732 0.90762509 0.91577691\n",
            "  0.33631922 0.51399115 0.71484579 0.4311348  0.13399462 0.37287409\n",
            "  0.36312912 0.63124407 0.68540979 0.28589851 0.8967323  0.72787798\n",
            "  0.27998706 0.84331641 0.58169591 0.31072101 0.88870931 0.87081148\n",
            "  0.96613618 0.40705572 0.40537693 0.85586641]\n",
            " [0.39385227 0.52630852 0.23444381 0.59370007 0.78202446 0.78110453\n",
            "  0.77739928 0.76233504 0.75341356 0.18041757 0.21546016 0.50353075\n",
            "  0.66453956 0.76081017 0.50675587 0.9118206  0.5467322  0.29343396\n",
            "  0.18882748 0.64013468 0.76884856 0.70652931 0.76546596 0.68835862\n",
            "  0.37199628 0.64227634 0.         0.53375126 0.61797141 0.35936137\n",
            "  0.24341807 0.31227903 0.03294831 0.73264018 0.32294631 0.72042677\n",
            "  0.37129373 0.77731509 0.63007251 0.76579023 0.78575916 0.32624016\n",
            "  0.29502199 0.81925149 0.88962778 0.77928478 0.20882108 0.13158899\n",
            "  0.55576905 0.78681969 0.16278841 0.2091237  0.62548765 0.55140945\n",
            "  0.2331922  0.59078263 0.69734634 0.41497069 0.11969241 0.1906379\n",
            "  0.58551136 0.65449648 0.37625428 0.86191588 0.55041874 0.21524136\n",
            "  0.18192957 0.50531691 0.55919064 0.17255214 0.70168066 0.56624898\n",
            "  0.83198046 0.4377798  0.42728481 0.19265427 0.30651966 0.27940139\n",
            "  0.41898713 0.26930223 0.07531581 0.27268569 0.67682104 0.7750715\n",
            "  0.41431552 0.88717928 0.68495761 0.44713073 0.25449074 0.09613004\n",
            "  0.66708405 0.23721672 0.93613731 0.72770563 0.71042448 0.82267168\n",
            "  0.45841837 0.32951716 0.33906471 0.69881691]\n",
            " [0.23156985 0.13553597 0.36135452 0.06261846 0.65645584 0.47483136\n",
            "  0.2515362  0.52528254 0.34193218 0.53053893 0.5490057  0.47499213\n",
            "  0.63688065 0.65307812 0.42717016 0.37816736 0.53035712 0.27098607\n",
            "  0.38579761 0.11822817 0.26998284 0.34206388 0.30444815 0.46259583\n",
            "  0.40782858 0.46548708 0.53375126 0.         0.161887   0.62525027\n",
            "  0.34862049 0.50979481 0.56107414 0.32810938 0.23513348 0.52854868\n",
            "  0.4965216  0.32619334 0.40810015 0.25134876 0.62944752 0.66959481\n",
            "  0.23944623 0.33850365 0.35868453 0.2641179  0.60969653 0.40356082\n",
            "  0.26754738 0.25701221 0.42155196 0.40017166 0.13802452 0.22974125\n",
            "  0.5424446  0.07272004 0.17752909 0.46273127 0.53469477 0.57607007\n",
            "  0.50168046 0.12438677 0.44653638 0.33825646 0.27762642 0.4382327\n",
            "  0.61119646 0.18427161 0.35264914 0.67975479 0.55086114 0.49904906\n",
            "  0.30983638 0.42090993 0.64665331 0.3417811  0.65238097 0.78590189\n",
            "  0.57766258 0.26638347 0.57311606 0.53853094 0.38142929 0.30647596\n",
            "  0.16373702 0.35343245 0.2309952  0.55293006 0.73233637 0.56715318\n",
            "  0.25405633 0.61072221 0.41344804 0.29254897 0.42416016 0.41731557\n",
            "  0.61621836 0.56798686 0.21394761 0.39073835]\n",
            " [0.38533032 0.29530895 0.40447363 0.16689015 0.81352936 0.61382461\n",
            "  0.18813937 0.67427629 0.1804218  0.65295632 0.67660075 0.63615705\n",
            "  0.79862358 0.81151989 0.35061204 0.34023603 0.45010411 0.32616504\n",
            "  0.44191635 0.09868404 0.15265778 0.18370332 0.40251756 0.61625644\n",
            "  0.56140169 0.3445106  0.61797141 0.161887   0.         0.76877597\n",
            "  0.47745754 0.50585252 0.64016314 0.16622324 0.36680118 0.68322963\n",
            "  0.64797415 0.17297727 0.56489826 0.16026686 0.78447538 0.80467371\n",
            "  0.34541526 0.20277849 0.35353013 0.17304152 0.64311168 0.49745372\n",
            "  0.16057205 0.20705999 0.53741472 0.52604583 0.25933533 0.12628905\n",
            "  0.6733432  0.19543086 0.11566529 0.61920636 0.64529233 0.69742773\n",
            "  0.66340278 0.18853362 0.42013463 0.35869297 0.43700537 0.47028654\n",
            "  0.65266796 0.34578318 0.24877794 0.77970645 0.70859182 0.66092981\n",
            "  0.22937013 0.57987623 0.79655381 0.43835181 0.7861385  0.88838704\n",
            "  0.54430204 0.37294199 0.67066227 0.54788883 0.23633522 0.16140042\n",
            "  0.20366005 0.32182929 0.34802035 0.50799814 0.84327961 0.67039829\n",
            "  0.09302127 0.73718577 0.32836576 0.13293031 0.57092524 0.52994208\n",
            "  0.7707033  0.56166844 0.27930046 0.53584162]\n",
            " [0.39648946 0.53711383 0.51755436 0.66502766 0.50608613 0.61492996\n",
            "  0.86836778 0.556577   0.94100597 0.18186688 0.1452189  0.27611042\n",
            "  0.36408317 0.47986518 0.80200706 0.96394133 0.86673167 0.51860982\n",
            "  0.47832862 0.7428392  0.89520831 0.91532596 0.71827316 0.49945197\n",
            "  0.23157614 0.92234417 0.35936137 0.62525027 0.76877597 0.\n",
            "  0.29880647 0.655781   0.38070546 0.92275513 0.40278541 0.49892442\n",
            "  0.14580045 0.94170282 0.46342417 0.87498925 0.52583295 0.0836288\n",
            "  0.43994884 0.96245332 0.91689844 0.88725278 0.56698044 0.35899161\n",
            "  0.77853427 0.86793392 0.27496636 0.26003818 0.64340692 0.75810772\n",
            "  0.13098417 0.6470396  0.80118619 0.20630764 0.23984409 0.1712692\n",
            "  0.34812069 0.71098325 0.69581896 0.8720052  0.46498687 0.54101647\n",
            "  0.53810181 0.4887168  0.81681619 0.30108364 0.46086324 0.32749656\n",
            "  0.92775049 0.25979354 0.07048599 0.3855246  0.08569377 0.33646428\n",
            "  0.76669521 0.41682029 0.2978185  0.62506683 0.91434219 0.9270091\n",
            "  0.59470331 0.93780546 0.65534185 0.78686363 0.2623278  0.27029653\n",
            "  0.84720104 0.13366755 1.02733241 0.89986957 0.55318749 0.71611552\n",
            "  0.12246291 0.68293883 0.52934547 0.56044289]\n",
            " [0.15627166 0.30072083 0.25444723 0.39932523 0.57089089 0.53932952\n",
            "  0.59985476 0.52727758 0.64497408 0.18231195 0.20084985 0.29622024\n",
            "  0.47608574 0.55339982 0.52045038 0.71640761 0.59782396 0.22831236\n",
            "  0.22948844 0.46611311 0.61351649 0.61694516 0.53150963 0.45193324\n",
            "  0.16129984 0.63163612 0.24341807 0.34862049 0.47745754 0.29880647\n",
            "  0.         0.42642769 0.27629924 0.62622355 0.11362547 0.49094197\n",
            "  0.21152426 0.64999701 0.39143632 0.5991097  0.5670756  0.32732642\n",
            "  0.14115989 0.67654753 0.68259045 0.61210871 0.41375881 0.13397853\n",
            "  0.47996952 0.60385417 0.08604479 0.05201398 0.40724857 0.45933078\n",
            "  0.19607032 0.38828928 0.52566607 0.22223253 0.19616285 0.22789163\n",
            "  0.37109122 0.45463836 0.43594972 0.64744416 0.30713685 0.30695292\n",
            "  0.39729217 0.27018567 0.52217292 0.34731451 0.479598   0.35464496\n",
            "  0.65841028 0.22252902 0.34041787 0.11376647 0.30868288 0.44755163\n",
            "  0.5349713  0.11895665 0.25109804 0.41602663 0.61601666 0.63814973\n",
            "  0.29601047 0.69058373 0.45332594 0.54157185 0.38795228 0.23662779\n",
            "  0.5513811  0.26240002 0.7617282  0.60603158 0.46867039 0.58045897\n",
            "  0.33535694 0.47032559 0.23139325 0.45579959]\n",
            " [0.50965181 0.57884863 0.18111136 0.56997335 0.9929947  0.9132803\n",
            "  0.6931832  0.92557496 0.57449416 0.47464259 0.51146622 0.72224842\n",
            "  0.90243096 0.97711597 0.23873364 0.84446104 0.2445576  0.25765672\n",
            "  0.19697736 0.57284145 0.65108649 0.51162435 0.80737253 0.85004444\n",
            "  0.58770197 0.37505651 0.31227903 0.50979481 0.50585252 0.655781\n",
            "  0.42642769 0.         0.30633068 0.55414331 0.42036211 0.89986689\n",
            "  0.62503189 0.61928676 0.78669196 0.66569813 0.98492515 0.63494253\n",
            "  0.35341741 0.6768474  0.84779345 0.67812358 0.17728666 0.30746217\n",
            "  0.37534237 0.71050474 0.39456843 0.42977916 0.64191179 0.39255171\n",
            "  0.52481519 0.58216841 0.6156805  0.64731502 0.4220486  0.49671509\n",
            "  0.79444729 0.62853238 0.09994309 0.83930887 0.66983512 0.12017396\n",
            "  0.20325197 0.58762508 0.33237651 0.46807379 0.8964765  0.77918286\n",
            "  0.73447318 0.64811369 0.7184862  0.31313012 0.6146059  0.56107802\n",
            "  0.11145883 0.34879236 0.38719722 0.05608085 0.45397189 0.63025075\n",
            "  0.34620853 0.82440132 0.72781719 0.134887   0.55661763 0.40800611\n",
            "  0.51122349 0.54527663 0.82946859 0.56931672 0.84648534 0.90356847\n",
            "  0.73596429 0.0581996  0.30902833 0.82322419]\n",
            " [0.42616472 0.5573308  0.24856398 0.62155854 0.81283925 0.81404003\n",
            "  0.80273358 0.79493096 0.77099675 0.20529803 0.23892848 0.53470977\n",
            "  0.69376381 0.79135566 0.51162233 0.93878739 0.54557968 0.31429787\n",
            "  0.20419308 0.6657079  0.79174874 0.72219994 0.79700355 0.72105867\n",
            "  0.40394891 0.64856653 0.03294831 0.56107414 0.64016314 0.38070546\n",
            "  0.27629924 0.30633068 0.         0.75012259 0.35398873 0.75268137\n",
            "  0.40051959 0.7969703  0.66289998 0.78996989 0.81716923 0.34173463\n",
            "  0.32335749 0.84048093 0.91796133 0.8034637  0.18646897 0.16149121\n",
            "  0.57133685 0.81271828 0.19564229 0.24191365 0.65556312 0.56892342\n",
            "  0.25768286 0.61943987 0.72237857 0.4457339  0.14345638 0.2099478\n",
            "  0.61692068 0.68264516 0.37739156 0.89113631 0.58323264 0.21906656\n",
            "  0.15745227 0.53724325 0.56996028 0.16525296 0.73343751 0.59751461\n",
            "  0.85668187 0.4696535  0.44965406 0.22152411 0.32268759 0.26787003\n",
            "  0.40973077 0.29826336 0.08572142 0.26257728 0.68922856 0.79584932\n",
            "  0.43679144 0.91433226 0.71630619 0.44093686 0.25176896 0.11148851\n",
            "  0.68612981 0.25422808 0.96062711 0.74700328 0.74336141 0.85525655\n",
            "  0.48361784 0.31791121 0.3623678  0.73175781]\n",
            " [0.54822852 0.46084529 0.50258448 0.32690862 0.97630895 0.76568191\n",
            "  0.24704282 0.83207423 0.02100361 0.79387177 0.82064798 0.80198925\n",
            "  0.96472411 0.97526614 0.34181338 0.37656915 0.42068746 0.44177483\n",
            "  0.54598585 0.24457367 0.16347999 0.05361724 0.53603413 0.77734968\n",
            "  0.72303072 0.27020788 0.73264018 0.32810938 0.16622324 0.92275513\n",
            "  0.62622355 0.55414331 0.75012259 0.         0.52030329 0.84470768\n",
            "  0.80789296 0.07626325 0.72809174 0.20369828 0.94588616 0.95243159\n",
            "  0.48765738 0.14146483 0.41860234 0.20819983 0.7155677  0.62402796\n",
            "  0.18309483 0.27073482 0.676711   0.67186808 0.41365034 0.18125895\n",
            "  0.81967912 0.35554581 0.22163641 0.78229975 0.77819437 0.83681855\n",
            "  0.82949863 0.33242757 0.45628385 0.44420115 0.6019695  0.55342054\n",
            "  0.73160855 0.5118412  0.22939694 0.90173602 0.87201019 0.82714317\n",
            "  0.2495234  0.74450535 0.95476579 0.56965876 0.93312813 1.01041222\n",
            "  0.55963927 0.51373887 0.79350341 0.60495731 0.13623566 0.10366702\n",
            "  0.33364551 0.36839395 0.49491397 0.51421706 0.97263014 0.79742197\n",
            "  0.07634076 0.87956854 0.31159476 0.04926596 0.7281036  0.66664266\n",
            "  0.93211066 0.6029336  0.40739349 0.6923933 ]\n",
            " [0.08959176 0.20337065 0.23935113 0.28722874 0.58198051 0.49720772\n",
            "  0.48654825 0.50521526 0.53835307 0.29541983 0.3144023  0.32969158\n",
            "  0.51243305 0.56907235 0.4598948  0.60593649 0.54871597 0.1753933\n",
            "  0.23500964 0.35249229 0.50025528 0.51533802 0.44347909 0.42970002\n",
            "  0.21565231 0.5556261  0.32294631 0.23513348 0.36680118 0.40278541\n",
            "  0.11362547 0.42036211 0.35398873 0.52030329 0.         0.48086072\n",
            "  0.29227329 0.5397516  0.36633615 0.48548592 0.56955757 0.43864717\n",
            "  0.0690283  0.56411864 0.57540808 0.49848332 0.45405753 0.19307652\n",
            "  0.3867504  0.49101863 0.18903456 0.1650385  0.30430566 0.36157336\n",
            "  0.30890036 0.27805178 0.41204777 0.27987714 0.30278559 0.34096555\n",
            "  0.38932417 0.34414377 0.40335355 0.54334706 0.2533745  0.31080572\n",
            "  0.44495238 0.18686199 0.44098801 0.45145574 0.48128078 0.37751421\n",
            "  0.54496865 0.2578131  0.43553109 0.13812795 0.42056852 0.55518642\n",
            "  0.51977401 0.07278295 0.34856546 0.42504116 0.52289886 0.52658229\n",
            "  0.19967988 0.58031027 0.36245882 0.51565918 0.49871758 0.33879441\n",
            "  0.44454268 0.37600526 0.64845917 0.49719358 0.42871379 0.5109377\n",
            "  0.41862557 0.4724792  0.1518857  0.40821333]\n",
            " [0.39346713 0.39396344 0.7188832  0.51791923 0.13421978 0.14903168\n",
            "  0.66509992 0.06146461 0.85464249 0.5759268  0.55928911 0.23046201\n",
            "  0.20181265 0.14057181 0.91889469 0.68283936 1.01591158 0.65405262\n",
            "  0.70768622 0.60133913 0.73331197 0.86689039 0.37736023 0.0675489\n",
            "  0.34927399 0.98565321 0.72042677 0.52854868 0.68322963 0.49892442\n",
            "  0.49094197 0.89986689 0.75268137 0.84470768 0.48086072 0.\n",
            "  0.37975101 0.8213604  0.12225086 0.69502124 0.10125174 0.58209704\n",
            "  0.54948696 0.80664456 0.61410035 0.70195213 0.90458679 0.62491762\n",
            "  0.79065668 0.6511943  0.55933361 0.51291312 0.43379978 0.75449797\n",
            "  0.5387803  0.48923268 0.63817833 0.31925561 0.62900564 0.60376937\n",
            "  0.15117179 0.51975855 0.88236777 0.55808034 0.25510494 0.78592922\n",
            "  0.88710518 0.3528559  0.86902935 0.75858591 0.05035853 0.1721124\n",
            "  0.7144082  0.28434647 0.45673806 0.59460542 0.57995636 0.8236061\n",
            "  1.00063419 0.55124016 0.69970535 0.89928823 0.90996157 0.79258697\n",
            "  0.63110474 0.66078435 0.36994    0.99538716 0.7488561  0.67529471\n",
            "  0.7759016  0.59716567 0.78482994 0.80177669 0.13132884 0.2952763\n",
            "  0.39188537 0.94997455 0.61815171 0.16557595]\n",
            " [0.26495195 0.39762956 0.46219152 0.53079585 0.41672714 0.48088562\n",
            "  0.73271642 0.43282667 0.82498867 0.20344519 0.18147689 0.14929108\n",
            "  0.29327745 0.39369875 0.73184505 0.82204013 0.80883124 0.43922363\n",
            "  0.43151303 0.61208869 0.76550871 0.80625277 0.57247516 0.36867668\n",
            "  0.09008756 0.84042504 0.37129373 0.4965216  0.64797415 0.14580045\n",
            "  0.21152426 0.62503189 0.40051959 0.80789296 0.29227329 0.37975101\n",
            "  0.         0.81956723 0.32580428 0.74236978 0.42656082 0.21876462\n",
            "  0.34416388 0.83500526 0.7731522  0.75418316 0.57541151 0.31782894\n",
            "  0.67876029 0.73075396 0.23202106 0.1955221  0.50191603 0.65380843\n",
            "  0.16050234 0.51080373 0.66912537 0.06417053 0.26246007 0.22551111\n",
            "  0.23085276 0.57308102 0.64470373 0.72738457 0.31919199 0.50504099\n",
            "  0.55144971 0.34730286 0.7286434  0.37998696 0.34955082 0.20992886\n",
            "  0.79195149 0.11542812 0.15045061 0.32075336 0.21090463 0.44493788\n",
            "  0.7358535  0.32659534 0.33327229 0.60578913 0.81503666 0.80220667\n",
            "  0.49171413 0.79596802 0.51001516 0.74705194 0.37062138 0.30662157\n",
            "  0.73159972 0.21779521 0.88962728 0.78067538 0.4158951  0.57352042\n",
            "  0.12652212 0.66273179 0.43599807 0.41989661]\n",
            " [0.55562061 0.45098527 0.55256613 0.31044679 0.95466928 0.73136787\n",
            "  0.1872043  0.80355274 0.06410852 0.82392481 0.84843219 0.79963893\n",
            "  0.95444691 0.95573288 0.41469498 0.30464831 0.49618714 0.48398225\n",
            "  0.59409007 0.22317039 0.10146562 0.12985084 0.4917706  0.75381984\n",
            "  0.73214885 0.34635399 0.77731509 0.32619334 0.17297727 0.94170282\n",
            "  0.64999701 0.61928676 0.7969703  0.07626325 0.5397516  0.8213604\n",
            "  0.81956723 0.         0.70873523 0.14468626 0.92188078 0.97730873\n",
            "  0.51594924 0.06520158 0.35167479 0.14567235 0.77554275 0.66234689\n",
            "  0.24411199 0.21014402 0.70764766 0.69808486 0.38759471 0.23296442\n",
            "  0.84565913 0.33790952 0.18389886 0.78852023 0.81344892 0.86800298\n",
            "  0.81970591 0.30184864 0.52312523 0.3822525  0.58819389 0.60906435\n",
            "  0.78972818 0.50410094 0.30149214 0.9433425  0.85221044 0.81928264\n",
            "  0.17897301 0.74708964 0.96867906 0.60511331 0.95864768 1.05223922\n",
            "  0.63106248 0.54312096 0.83441068 0.66839301 0.21235945 0.0339718\n",
            "  0.36738123 0.29857978 0.46030938 0.58667419 1.01037096 0.8361119\n",
            "  0.11180504 0.9086709  0.23536146 0.05083972 0.69964637 0.62218724\n",
            "  0.94124155 0.66995884 0.44326102 0.66355395]\n",
            " [0.27731847 0.27289594 0.6056344  0.40137679 0.24866706 0.1566742\n",
            "  0.56151991 0.13898498 0.73890633 0.50346574 0.49332258 0.18976904\n",
            "  0.26160391 0.24733663 0.79733053 0.59768416 0.89493514 0.53685107\n",
            "  0.59786847 0.48664084 0.62454146 0.74822538 0.29989064 0.06339346\n",
            "  0.27073056 0.86346082 0.63007251 0.40810015 0.56489826 0.46342417\n",
            "  0.39143632 0.78669196 0.66289998 0.72809174 0.36633615 0.12225086\n",
            "  0.32580428 0.70873523 0.         0.58817019 0.22188268 0.54257303\n",
            "  0.43399494 0.69843902 0.53338858 0.59615567 0.80348771 0.52422025\n",
            "  0.66873807 0.54981334 0.46728668 0.42099749 0.32232546 0.6327739\n",
            "  0.47426171 0.37289262 0.5272658  0.261634   0.55033897 0.5373772\n",
            "  0.14482013 0.40922554 0.76454115 0.47912116 0.13290113 0.67538074\n",
            "  0.78836441 0.23065069 0.74679503 0.69013441 0.14393249 0.15776864\n",
            "  0.6140521  0.2136644  0.43701706 0.48786531 0.53624748 0.76658551\n",
            "  0.88503904 0.43819721 0.61899275 0.78944081 0.78920693 0.68120397\n",
            "  0.50923137 0.5738966  0.27183625 0.87782699 0.693429   0.59677522\n",
            "  0.65784583 0.53987616 0.69232874 0.68643878 0.09011686 0.25822782\n",
            "  0.37692217 0.83836386 0.49865533 0.10003619]\n",
            " [0.47891464 0.35112993 0.56115737 0.21181105 0.82918216 0.59526728\n",
            "  0.04339464 0.67211271 0.20105103 0.78030329 0.7998395  0.70056906\n",
            "  0.84243548 0.83253747 0.4962806  0.18649051 0.59021756 0.47888937\n",
            "  0.59642538 0.13316802 0.0433199  0.25178231 0.35017235 0.62791152\n",
            "  0.65255775 0.45980409 0.76579023 0.25134876 0.16026686 0.87498925\n",
            "  0.5991097  0.66569813 0.78996989 0.20369828 0.48548592 0.69502124\n",
            "  0.74236978 0.14468626 0.58817019 0.         0.7941243  0.92088912\n",
            "  0.4800462  0.11221024 0.21697585 0.01349557 0.80254776 0.64027307\n",
            "  0.30624416 0.06704545 0.66882471 0.65027506 0.26715039 0.27839064\n",
            "  0.79365291 0.23407745 0.07391566 0.70291946 0.78060484 0.82570082\n",
            "  0.709826   0.18091741 0.57820435 0.24053898 0.47720778 0.62916127\n",
            "  0.8112478  0.40490543 0.38635332 0.92149765 0.72952346 0.71203921\n",
            "  0.06915735 0.65654044 0.89281164 0.57923369 0.90372568 1.02921946\n",
            "  0.69962946 0.50785303 0.81313647 0.70814571 0.3305276  0.11087493\n",
            "  0.35491    0.17241908 0.32701981 0.66083501 0.97909355 0.80999806\n",
            "  0.18129782 0.8614812  0.17093752 0.15527307 0.56912636 0.47985002\n",
            "  0.85781433 0.7211235  0.42773563 0.53302501]\n",
            " [0.48449947 0.4945734  0.80474997 0.61914043 0.04419559 0.22223214\n",
            "  0.76323066 0.12858134 0.95572007 0.62919952 0.60790444 0.28272307\n",
            "  0.17679506 0.06615514 1.01488856 0.77357155 1.11065801 0.74438537\n",
            "  0.79026274 0.70235184 0.83291993 0.96812935 0.46836126 0.16854481\n",
            "  0.41486847 1.08482657 0.78575916 0.62944752 0.78447538 0.52583295\n",
            "  0.5670756  0.98492515 0.81716923 0.94588616 0.56955757 0.10125174\n",
            "  0.42656082 0.92188078 0.22188268 0.7941243  0.         0.60924256\n",
            "  0.63857082 0.90600142 0.70331718 0.80071838 0.97783283 0.70008196\n",
            "  0.8905488  0.74861917 0.62835488 0.58271765 0.53447226 0.85465113\n",
            "  0.58683993 0.59044861 0.73845009 0.37276567 0.68609693 0.65162048\n",
            "  0.20025333 0.6201065  0.97275446 0.64703661 0.35457349 0.86877196\n",
            "  0.95830242 0.45220871 0.96795657 0.80525636 0.08847751 0.21980236\n",
            "  0.81128316 0.34909608 0.47312664 0.67528411 0.61049586 0.85992663\n",
            "  1.08809406 0.63796565 0.75730451 0.98092381 1.01079147 0.89283225\n",
            "  0.72811541 0.75242274 0.46783894 1.08521616 0.78501754 0.73147565\n",
            "  0.87715332 0.6379827  0.87832417 0.9028106  0.22599375 0.37206208\n",
            "  0.4084279  1.03322302 0.7113398  0.26174942]\n",
            " [0.44753076 0.59333569 0.51488144 0.71417185 0.58885808 0.69564463\n",
            "  0.91758011 0.63935213 0.97147651 0.16881138 0.13542947 0.35737677\n",
            "  0.4457381  0.56243351 0.80192276 1.02103773 0.85824176 0.53040781\n",
            "  0.47216791 0.78782226 0.93805465 0.9405356  0.78731698 0.58087939\n",
            "  0.29659853 0.92835451 0.32624016 0.66959481 0.80467371 0.0836288\n",
            "  0.32732642 0.63494253 0.34173463 0.95243159 0.43864717 0.58209704\n",
            "  0.21876462 0.97730873 0.54257303 0.92088912 0.60924256 0.\n",
            "  0.46486852 1.00273904 0.97751063 0.93355068 0.52685035 0.35635595\n",
            "  0.79836507 0.91892491 0.28172435 0.28057705 0.70133301 0.78143188\n",
            "  0.13301982 0.69846452 0.84699874 0.28215717 0.213235   0.13846029\n",
            "  0.43110612 0.7637778  0.68592928 0.93477402 0.53422722 0.52624299\n",
            "  0.49615986 0.54790098 0.82818602 0.23419203 0.54442315 0.41036822\n",
            "  0.97683073 0.33418028 0.14324967 0.39463162 0.02082117 0.25574969\n",
            "  0.74384462 0.43930839 0.25604063 0.59850112 0.93234809 0.96507287\n",
            "  0.61981584 0.99488028 0.72092944 0.76880728 0.18301556 0.23088978\n",
            "  0.87810806 0.08966602 1.07829092 0.93326827 0.63261855 0.79228238\n",
            "  0.20337397 0.65563689 0.54964194 0.63816794]\n",
            " [0.15667895 0.24550974 0.1731825  0.29873997 0.65092676 0.56095375\n",
            "  0.48725503 0.57264179 0.50685659 0.30797761 0.33326999 0.39572091\n",
            "  0.57893589 0.63782794 0.39488371 0.61755716 0.48144348 0.10664133\n",
            "  0.17496209 0.35005156 0.48897381 0.47643264 0.48673367 0.49738835\n",
            "  0.27521596 0.49672412 0.29502199 0.23944623 0.34541526 0.43994884\n",
            "  0.14115989 0.35341741 0.32335749 0.48765738 0.0690283  0.54948696\n",
            "  0.34416388 0.51594924 0.43399494 0.4800462  0.63857082 0.46486852\n",
            "  0.         0.54749134 0.59468011 0.49342477 0.40019135 0.16419256\n",
            "  0.33891273 0.49495354 0.19200001 0.18430492 0.3352922  0.31831171\n",
            "  0.33203235 0.29609513 0.40878204 0.33990656 0.30122148 0.35214539\n",
            "  0.45756989 0.35947856 0.33433379 0.5681307  0.31701031 0.24746698\n",
            "  0.39448402 0.24093555 0.38448981 0.44198336 0.5503056  0.44527092\n",
            "  0.54372502 0.32270978 0.48030954 0.10248719 0.44548598 0.54929146\n",
            "  0.45129475 0.02784796 0.33437631 0.36119273 0.4750858  0.50680398\n",
            "  0.155307   0.59269266 0.40489426 0.44664687 0.49977526 0.33004695\n",
            "  0.41379262 0.39293871 0.64812652 0.47020802 0.49344442 0.56478999\n",
            "  0.47037787 0.40666648 0.09186315 0.47125172]\n",
            " [0.57005794 0.45273333 0.59973275 0.31090184 0.94073366 0.70729557\n",
            "  0.14854626 0.78428845 0.12833071 0.8542328  0.87680217 0.8034323\n",
            "  0.95048391 0.94365752 0.47785405 0.24527045 0.56090517 0.52621784\n",
            "  0.63960633 0.224701   0.07401839 0.19504488 0.46065827 0.73941494\n",
            "  0.7461085  0.41148787 0.81925149 0.33850365 0.20277849 0.96245332\n",
            "  0.67654753 0.6768474  0.84048093 0.14146483 0.56411864 0.80664456\n",
            "  0.83500526 0.06520158 0.69843902 0.11221024 0.90600142 1.00273904\n",
            "  0.54749134 0.         0.29806212 0.10740662 0.82897034 0.70008747\n",
            "  0.30184824 0.16878159 0.73936742 0.72616339 0.37635094 0.28604437\n",
            "  0.87259789 0.33612829 0.1731322  0.79963481 0.84791704 0.89898782\n",
            "  0.81695234 0.28945012 0.5821302  0.33405351 0.58415227 0.65994197\n",
            "  0.8417455  0.50662225 0.36448913 0.98225471 0.84046277 0.81820568\n",
            "  0.12416473 0.75546853 0.98515583 0.64112763 0.9846767  1.09099651\n",
            "  0.6929587  0.5751511  0.87319198 0.72461435 0.27750076 0.0466759\n",
            "  0.40551402 0.24202472 0.43919015 0.64932581 1.04601122 0.87315953\n",
            "  0.16563799 0.93780497 0.17020891 0.10929851 0.68121563 0.58941084\n",
            "  0.9538719  0.72872383 0.4814819  0.64510015]\n",
            " [0.53475421 0.38604806 0.7163723  0.29689089 0.7441084  0.48387385\n",
            "  0.1752807  0.57480654 0.41328722 0.86236528 0.87374161 0.69091392\n",
            "  0.79424981 0.75430182 0.70326409 0.07310513 0.80076844 0.62707992\n",
            "  0.74360012 0.27495744 0.25514956 0.46824471 0.23694902 0.55304162\n",
            "  0.68532502 0.67626284 0.88962778 0.35868453 0.35353013 0.91689844\n",
            "  0.68259045 0.84779345 0.91796133 0.41860234 0.57540808 0.61410035\n",
            "  0.7731522  0.35167479 0.53338858 0.21697585 0.70331718 0.97751063\n",
            "  0.59468011 0.29806212 0.         0.21074515 0.96469244 0.7583329\n",
            "  0.51214903 0.15219856 0.76391588 0.73422157 0.27741004 0.47962459\n",
            "  0.86279828 0.29905231 0.23789584 0.72070284 0.87741199 0.90743716\n",
            "  0.67436809 0.23539007 0.76891195 0.05629443 0.46196807 0.79125942\n",
            "  0.96804789 0.42961036 0.5970406  1.0268458  0.65797849 0.68286785\n",
            "  0.17404181 0.66805632 0.91809858 0.69697422 0.96337339 1.12973179\n",
            "  0.89589555 0.62039921 0.92329107 0.8838913  0.54750054 0.31848485\n",
            "  0.50957865 0.06008209 0.26936395 0.86105595 1.07018066 0.91420143\n",
            "  0.39661356 0.93457348 0.18762507 0.37126209 0.48297166 0.34103741\n",
            "  0.87080056 0.90524534 0.57062642 0.45035623]\n",
            " [0.49103316 0.36198008 0.57447976 0.22343429 0.8361579  0.60013772\n",
            "  0.04205408 0.67806222 0.20423924 0.79340056 0.81279897 0.71087472\n",
            "  0.85130804 0.83988966 0.50668962 0.17667545 0.59990437 0.49233269\n",
            "  0.6098395  0.14604068 0.04498522 0.25750549 0.35335203 0.63498612\n",
            "  0.66430907 0.46746304 0.77928478 0.2641179  0.17304152 0.88725278\n",
            "  0.61210871 0.67812358 0.8034637  0.20819983 0.49848332 0.70195213\n",
            "  0.75418316 0.14567235 0.59615567 0.01349557 0.80071838 0.93355068\n",
            "  0.49342477 0.10740662 0.21074515 0.         0.81562898 0.65373728\n",
            "  0.31713439 0.06449326 0.68206842 0.66332567 0.27600846 0.28995771\n",
            "  0.8065135  0.24510785 0.08658901 0.71425293 0.79391751 0.83881396\n",
            "  0.71905023 0.19034527 0.59019104 0.23711928 0.48662395 0.64231567\n",
            "  0.82444753 0.41565838 0.39622729 0.93492542 0.73703426 0.72154758\n",
            "  0.05637825 0.66757318 0.90460728 0.592682   0.91644633 1.04262334\n",
            "  0.71109572 0.521226   0.82658217 0.72083128 0.33721756 0.11170185\n",
            "  0.36835329 0.16387274 0.33313158 0.67195297 0.99239053 0.82339672\n",
            "  0.19018418 0.87445728 0.15748819 0.16052459 0.57538287 0.4824365\n",
            "  0.86917867 0.73340946 0.44122398 0.53932775]\n",
            " [0.54005651 0.64533409 0.24853964 0.67228386 0.97798522 0.94618839\n",
            "  0.82447627 0.94053747 0.7363769  0.38923606 0.42405871 0.69903773\n",
            "  0.86740433 0.9582821  0.41523838 0.97173215 0.41703329 0.33871193\n",
            "  0.22751993 0.69419465 0.79419871 0.67699525 0.8856163  0.86490678\n",
            "  0.56363977 0.55224379 0.20882108 0.60969653 0.64311168 0.56698044\n",
            "  0.41375881 0.17728666 0.18646897 0.7155677  0.45405753 0.90458679\n",
            "  0.57541151 0.77554275 0.80348771 0.80254776 0.97783283 0.52685035\n",
            "  0.40019135 0.82897034 0.96469244 0.81562898 0.         0.27983955\n",
            "  0.53293778 0.83903066 0.35051738 0.39538933 0.72818601 0.54323263\n",
            "  0.44200351 0.67805662 0.74416817 0.61351868 0.32820021 0.39641287\n",
            "  0.77883472 0.7338041  0.27430577 0.94785461 0.70483525 0.17414058\n",
            "  0.03264838 0.6393924  0.5025495  0.32340778 0.89139226 0.7606934\n",
            "  0.87164395 0.62904749 0.63557661 0.31876084 0.50824105 0.40239633\n",
            "  0.25327108 0.38364392 0.27132531 0.12124367 0.62539152 0.78240012\n",
            "  0.45577188 0.94953643 0.8038293  0.29548024 0.41227061 0.29782541\n",
            "  0.66458881 0.44032254 0.97142721 0.7247901  0.87617207 0.96400896\n",
            "  0.66710869 0.15913924 0.39575878 0.85903261]\n",
            " [0.26976981 0.39618111 0.15929977 0.46286659 0.70244953 0.66948341\n",
            "  0.64974903 0.66082292 0.64434708 0.18754458 0.22207606 0.42512863\n",
            "  0.60061299 0.6840275  0.44595172 0.78171534 0.50774066 0.18357075\n",
            "  0.11945643 0.51234577 0.64599044 0.60359852 0.63653749 0.58528983\n",
            "  0.28882933 0.57227876 0.13158899 0.40356082 0.49745372 0.35899161\n",
            "  0.13397853 0.30746217 0.16149121 0.62402796 0.19307652 0.62491762\n",
            "  0.31782894 0.66234689 0.52422025 0.64027307 0.70008196 0.35635595\n",
            "  0.16419256 0.70008747 0.7583329  0.65373728 0.27983955 0.\n",
            "  0.45526453 0.65824838 0.08753265 0.12361062 0.49412361 0.44476521\n",
            "  0.23033361 0.45937567 0.57038017 0.34431422 0.15628367 0.22343452\n",
            "  0.50261137 0.52338513 0.33716163 0.73032947 0.43163746 0.18790084\n",
            "  0.26420472 0.37821116 0.47499332 0.28230432 0.6129597  0.48534538\n",
            "  0.7053462  0.3529425  0.41677204 0.06179151 0.33557689 0.39093342\n",
            "  0.41861264 0.13794217 0.17334043 0.28905584 0.58475766 0.65721123\n",
            "  0.29518895 0.75687932 0.55552545 0.43270485 0.34868195 0.17380688\n",
            "  0.55453626 0.27118241 0.8097268  0.61400104 0.59904893 0.69956848\n",
            "  0.42946595 0.34540532 0.21914933 0.58394797]\n",
            " [0.43796329 0.39759411 0.32281608 0.30147168 0.91449813 0.74229808\n",
            "  0.3413237  0.79130659 0.20404311 0.63401949 0.66378361 0.70127178\n",
            "  0.87698819 0.90846295 0.19119049 0.49230068 0.28957248 0.27185665\n",
            "  0.36740154 0.25504722 0.28347768 0.15086787 0.55222334 0.7261142\n",
            "  0.60118325 0.19799093 0.55576905 0.26754738 0.16057205 0.77853427\n",
            "  0.47996952 0.37534237 0.57133685 0.18309483 0.3867504  0.79065668\n",
            "  0.67876029 0.24411199 0.66873807 0.30624416 0.8905488  0.79836507\n",
            "  0.33891273 0.30184824 0.51214903 0.31713439 0.53293778 0.45526453\n",
            "  0.         0.36238064 0.51743239 0.52017713 0.39571534 0.03852616\n",
            "  0.66558386 0.32681671 0.27527564 0.66443642 0.61139764 0.67483637\n",
            "  0.74420765 0.3394052  0.28035544 0.51921308 0.53598149 0.37053871\n",
            "  0.54857385 0.43846597 0.08966533 0.72686996 0.80855193 0.73762648\n",
            "  0.37195765 0.63523316 0.81877212 0.40594312 0.77829849 0.83491158\n",
            "  0.395308   0.36176609 0.6199443  0.42431481 0.13639523 0.25540444\n",
            "  0.18708131 0.47624246 0.48903623 0.35496645 0.80141946 0.6262683\n",
            "  0.13661221 0.72005507 0.45980111 0.19397927 0.6911933  0.6752844\n",
            "  0.80523448 0.42687668 0.24946781 0.65812223]\n",
            " [0.47210899 0.33360263 0.59354126 0.20515908 0.7853108  0.54336105\n",
            "  0.02372234 0.62413236 0.26791826 0.78614974 0.80298264 0.67614423\n",
            "  0.80827718 0.79040602 0.55351492 0.13396249 0.64977888 0.50755992\n",
            "  0.6256702  0.1473065  0.10901941 0.31842364 0.29346513 0.58491425\n",
            "  0.64068014 0.52420806 0.78681969 0.25701221 0.20705999 0.86793392\n",
            "  0.60385417 0.71050474 0.81271828 0.27073482 0.49101863 0.6511943\n",
            "  0.73075396 0.21014402 0.54981334 0.06704545 0.74861917 0.91892491\n",
            "  0.49495354 0.16878159 0.15219856 0.06449326 0.83903066 0.65824838\n",
            "  0.36238064 0.         0.67846113 0.65572516 0.23691449 0.33149221\n",
            "  0.79512053 0.22093701 0.09518383 0.6868335  0.7916962  0.83172887\n",
            "  0.67810383 0.15776213 0.62685869 0.17349567 0.44778748 0.66491111\n",
            "  0.8455377  0.38584778 0.44582105 0.93642522 0.68835158 0.68210054\n",
            "  0.06450245 0.63801451 0.88056204 0.59653856 0.90267405 1.04284208\n",
            "  0.75133617 0.52232627 0.82929014 0.75020027 0.39633727 0.17617229\n",
            "  0.38484399 0.11477002 0.28126634 0.71451796 0.98918173 0.82395002\n",
            "  0.24443197 0.86473476 0.15947621 0.2222046  0.52266475 0.42114545\n",
            "  0.8415139  0.76702304 0.45352242 0.48687733]\n",
            " [0.24220964 0.38503584 0.24311925 0.47580395 0.62754239 0.618622\n",
            "  0.67285091 0.60000358 0.6963505  0.11722861 0.14652156 0.34852881\n",
            "  0.51917537 0.60776827 0.52710227 0.79492048 0.59303591 0.24871459\n",
            "  0.20601989 0.53694107 0.67982041 0.66163089 0.61746724 0.52576455\n",
            "  0.21353476 0.64922048 0.16278841 0.42155196 0.53741472 0.27496636\n",
            "  0.08604479 0.39456843 0.19564229 0.676711   0.18903456 0.55933361\n",
            "  0.23202106 0.70764766 0.46728668 0.66882471 0.62835488 0.28172435\n",
            "  0.19200001 0.73936742 0.76391588 0.68206842 0.35051738 0.08753265\n",
            "  0.51743239 0.67846113 0.         0.04652061 0.49034661 0.50208935\n",
            "  0.15036079 0.46708394 0.59633419 0.26366195 0.11375289 0.16041971\n",
            "  0.42873162 0.53316867 0.42349937 0.73038474 0.39118691 0.27532065\n",
            "  0.32999732 0.35606347 0.54686915 0.26331264 0.5428095  0.41033567\n",
            "  0.73057689 0.27925893 0.33037128 0.11301851 0.26137905 0.36616083\n",
            "  0.50585991 0.16457276 0.165069   0.37377571 0.65081441 0.6988038\n",
            "  0.34309046 0.76932271 0.53902463 0.52021378 0.31080203 0.15145111\n",
            "  0.60402963 0.20318611 0.83463449 0.66137278 0.54796871 0.66542111\n",
            "  0.34193697 0.43080597 0.27021674 0.53719002]\n",
            " [0.20492018 0.35134202 0.26849777 0.45129351 0.58268571 0.57282723\n",
            "  0.6515462  0.55349003 0.69095956 0.13043772 0.15064912 0.3040067\n",
            "  0.47732487 0.5633423  0.54614842 0.76839483 0.61763998 0.25884763\n",
            "  0.23612367 0.51740576 0.66396681 0.66039991 0.57919143 0.47929633\n",
            "  0.16825693 0.66313905 0.2091237  0.40017166 0.52604583 0.26003818\n",
            "  0.05201398 0.42977916 0.24191365 0.67186808 0.1650385  0.51291312\n",
            "  0.1955221  0.69808486 0.42099749 0.65027506 0.58271765 0.28057705\n",
            "  0.18430492 0.72616339 0.73422157 0.66332567 0.39538933 0.12361062\n",
            "  0.52017713 0.65572516 0.04652061 0.         0.45843112 0.50168037\n",
            "  0.14788026 0.44029138 0.57696759 0.22108742 0.14648478 0.17601124\n",
            "  0.38344923 0.50664252 0.45090514 0.69857198 0.34785684 0.30967935\n",
            "  0.37562687 0.31861438 0.55679285 0.29782721 0.49685379 0.36535216\n",
            "  0.71000559 0.23371103 0.30850009 0.12888616 0.26128808 0.39649829\n",
            "  0.54042121 0.15909506 0.20587986 0.41266461 0.65540556 0.687132\n",
            "  0.33940994 0.74256059 0.50198599 0.55174848 0.33609315 0.18895792\n",
            "  0.59768477 0.21175605 0.81344497 0.65332866 0.50221556 0.62269774\n",
            "  0.31231456 0.4689574  0.27072243 0.49209876]\n",
            " [0.2573752  0.10864283 0.48316827 0.09473869 0.5670954  0.35454258\n",
            "  0.24459289 0.41847052 0.42226084 0.58556718 0.59637353 0.43928854\n",
            "  0.57532512 0.56858333 0.56395665 0.32053532 0.66727069 0.39316402\n",
            "  0.50087354 0.1690772  0.30237376 0.44099248 0.16690546 0.36625254\n",
            "  0.41258691 0.59263284 0.62548765 0.13802452 0.25933533 0.64340692\n",
            "  0.40724857 0.64191179 0.65556312 0.41365034 0.30430566 0.43379978\n",
            "  0.50191603 0.38759471 0.32232546 0.26715039 0.53447226 0.70133301\n",
            "  0.3352922  0.37635094 0.27741004 0.27600846 0.72818601 0.49412361\n",
            "  0.39571534 0.23691449 0.49034661 0.45843112 0.         0.3571992\n",
            "  0.58539683 0.06910874 0.20502908 0.45395657 0.60309999 0.63046919\n",
            "  0.44317982 0.08693001 0.58307084 0.24019784 0.21133674 0.56138906\n",
            "  0.72607595 0.15475841 0.4837415  0.75364554 0.46512704 0.44618691\n",
            "  0.30105688 0.40359261 0.64998943 0.43455272 0.68676242 0.85479148\n",
            "  0.71412699 0.35827477 0.65256511 0.66682416 0.49489572 0.35924723\n",
            "  0.2985043  0.29439861 0.09391518 0.69051473 0.79381223 0.64158467\n",
            "  0.34903969 0.65716473 0.39176364 0.36911932 0.31446696 0.2808552\n",
            "  0.60772362 0.69991026 0.33691212 0.27874621]\n",
            " [0.40774575 0.36092325 0.32182029 0.26294641 0.87921585 0.70428827\n",
            "  0.31125224 0.75420513 0.20209125 0.61921498 0.64773984 0.67052908\n",
            "  0.84466688 0.87366564 0.22444533 0.46311853 0.32478983 0.26158251\n",
            "  0.36484784 0.21821581 0.25945974 0.15958538 0.51391433 0.68961958\n",
            "  0.5742289  0.2361583  0.55140945 0.22974125 0.12628905 0.75810772\n",
            "  0.45933078 0.39255171 0.56892342 0.18125895 0.36157336 0.75449797\n",
            "  0.65380843 0.23296442 0.6327739  0.27839064 0.85465113 0.78143188\n",
            "  0.31831171 0.28604437 0.47962459 0.28995771 0.54323263 0.44476521\n",
            "  0.03852616 0.33149221 0.50208935 0.50168037 0.3571992  0.\n",
            "  0.64842154 0.28831986 0.24189135 0.63682413 0.60002244 0.6610911\n",
            "  0.71126846 0.30142871 0.30115612 0.48457906 0.50020633 0.37612545\n",
            "  0.55686818 0.40295197 0.127704   0.72085306 0.77325609 0.70525429\n",
            "  0.34569246 0.60579821 0.79597022 0.39241585 0.76163203 0.82943292\n",
            "  0.42125027 0.34259978 0.61287843 0.43899013 0.16340453 0.23939018\n",
            "  0.16350433 0.44600315 0.45051018 0.38316838 0.79285825 0.61753488\n",
            "  0.1214444  0.70525057 0.43749284 0.18212593 0.65372048 0.63677696\n",
            "  0.78003997 0.44614902 0.2319911  0.62046228]\n",
            " [0.32824384 0.47675416 0.38959067 0.58996174 0.57567036 0.63091629\n",
            "  0.79247635 0.59001546 0.8388131  0.05278898 0.0211542  0.30883398\n",
            "  0.44585099 0.55187563 0.67571856 0.90224674 0.73746246 0.39877551\n",
            "  0.34905098 0.66049186 0.80915276 0.80751677 0.68677252 0.52273918\n",
            "  0.20581104 0.79935614 0.2331922  0.5424446  0.6733432  0.13098417\n",
            "  0.19607032 0.52481519 0.25768286 0.81967912 0.30890036 0.5387803\n",
            "  0.16050234 0.84565913 0.47426171 0.79365291 0.58683993 0.13301982\n",
            "  0.33203235 0.87259789 0.86279828 0.8065135  0.44200351 0.23033361\n",
            "  0.66558386 0.79512053 0.15036079 0.14788026 0.58539683 0.64842154\n",
            "  0.         0.57617249 0.71993949 0.21959625 0.11423442 0.06508328\n",
            "  0.39109997 0.64221179 0.56600728 0.82303737 0.43838715 0.41020629\n",
            "  0.41452217 0.43556841 0.6971556  0.21985283 0.50991012 0.37025351\n",
            "  0.85144845 0.26111476 0.19547611 0.26330123 0.11345438 0.29303582\n",
            "  0.6357845  0.30632652 0.18049364 0.49472759 0.79987898 0.83417618\n",
            "  0.48684779 0.87617155 0.61513276 0.65594693 0.22153625 0.15270043\n",
            "  0.74556332 0.07223205 0.9539696  0.80113459 0.56311939 0.70847944\n",
            "  0.22596928 0.55263835 0.41667968 0.56195422]\n",
            " [0.25124594 0.11716287 0.430457   0.0287112  0.62081688 0.41986761\n",
            "  0.22191552 0.47886817 0.36602542 0.57015574 0.58496819 0.46754904\n",
            "  0.61675865 0.6202189  0.49542996 0.32816472 0.5987643  0.33990046\n",
            "  0.45235233 0.11473961 0.26288836 0.37884445 0.23301211 0.42195459\n",
            "  0.42073349 0.52402622 0.59078263 0.07272004 0.19543086 0.6470396\n",
            "  0.38828928 0.58216841 0.61943987 0.35554581 0.27805178 0.48923268\n",
            "  0.51080373 0.33790952 0.37289262 0.23407745 0.59044861 0.69846452\n",
            "  0.29609513 0.33612829 0.29905231 0.24510785 0.67805662 0.45937567\n",
            "  0.32681671 0.22093701 0.46708394 0.44029138 0.06910874 0.28831986\n",
            "  0.57617249 0.         0.1634709  0.4693045  0.58083117 0.61565314\n",
            "  0.48230356 0.06635582 0.51915133 0.27267761 0.25030153 0.50799047\n",
            "  0.6782109  0.1710518  0.41467368 0.72911441 0.51681367 0.48268933\n",
            "  0.2811866  0.4224843  0.66099063 0.39815235 0.68248527 0.83323802\n",
            "  0.65027124 0.32148473 0.6246672  0.61001907 0.42896682 0.31250242\n",
            "  0.23633716 0.302414   0.1629652  0.62504823 0.77600792 0.61632414\n",
            "  0.28725678 0.64658957 0.38039985 0.31356668 0.37550082 0.34988221\n",
            "  0.62425119 0.64034418 0.28285941 0.34048721]\n",
            " [0.40528427 0.2805163  0.49934879 0.13948491 0.77180661 0.54817021\n",
            "  0.08091549 0.61965735 0.22596441 0.70713427 0.72629761 0.63101866\n",
            "  0.77756266 0.77359245 0.4659928  0.22900826 0.56471864 0.41435319\n",
            "  0.53242954 0.05956185 0.0994926  0.26007167 0.31440021 0.57068243\n",
            "  0.57943537 0.45020449 0.69734634 0.17752909 0.11566529 0.80118619\n",
            "  0.52566607 0.6156805  0.72237857 0.22163641 0.41204777 0.63817833\n",
            "  0.66912537 0.18389886 0.5272658  0.07391566 0.73845009 0.84699874\n",
            "  0.40878204 0.1731322  0.23789584 0.08658901 0.74416817 0.57038017\n",
            "  0.27527564 0.09518383 0.59633419 0.57696759 0.20502908 0.24189135\n",
            "  0.71993949 0.1634709  0.         0.63061689 0.70856253 0.75258417\n",
            "  0.64386601 0.11843924 0.53315871 0.24465901 0.41109349 0.57009157\n",
            "  0.75106672 0.33443977 0.36198376 0.85070574 0.67015052 0.64507654\n",
            "  0.13500269 0.58497996 0.81957566 0.50899741 0.82986813 0.9580508\n",
            "  0.6588454  0.43649919 0.74270828 0.65505517 0.3299428  0.15440864\n",
            "  0.29097058 0.20876413 0.27684616 0.62331261 0.90690064 0.73881329\n",
            "  0.17364947 0.78797341 0.2394178  0.17336668 0.51576777 0.44501074\n",
            "  0.78539733 0.67237906 0.36129859 0.4796676 ]\n",
            " [0.23409527 0.35345963 0.47659921 0.49124542 0.36710701 0.41682227\n",
            "  0.69037291 0.37070706 0.79845973 0.25770673 0.24003966 0.09048186\n",
            "  0.25629942 0.34590636 0.73400662 0.77225965 0.81643817 0.44163046\n",
            "  0.45086232 0.5752138  0.7285705  0.78468317 0.51397854 0.30518483\n",
            "  0.06469165 0.83517841 0.41497069 0.46273127 0.61920636 0.20630764\n",
            "  0.22223253 0.64731502 0.4457339  0.78229975 0.27987714 0.31925561\n",
            "  0.06417053 0.78852023 0.261634   0.70291946 0.37276567 0.28215717\n",
            "  0.33990656 0.79963481 0.72070284 0.71425293 0.61351868 0.34431422\n",
            "  0.66443642 0.6868335  0.26366195 0.22108742 0.45395657 0.63682413\n",
            "  0.21959625 0.4693045  0.63061689 0.         0.31342968 0.2845322\n",
            "  0.17352014 0.52920608 0.65751087 0.6733677  0.26181573 0.52729061\n",
            "  0.59158246 0.30103588 0.72085855 0.43934155 0.29217337 0.15322059\n",
            "  0.74921061 0.05393608 0.1974004  0.33587269 0.27488728 0.50789993\n",
            "  0.75666693 0.32678808 0.38462876 0.63311849 0.79974053 0.76916055\n",
            "  0.4781197  0.7463345  0.45467137 0.76379554 0.43387265 0.35904998\n",
            "  0.70602822 0.2805825  0.84461247 0.7520993  0.35172723 0.51040759\n",
            "  0.15494726 0.6888748  0.43008996 0.35606294]\n",
            " [0.35134995 0.49688023 0.30823529 0.58945585 0.67857009 0.70566534\n",
            "  0.78568823 0.67580317 0.79830197 0.06195001 0.09585852 0.40381734\n",
            "  0.55437871 0.65596533 0.59408827 0.90866502 0.64613111 0.33956071\n",
            "  0.26366179 0.6493254  0.79019452 0.75921876 0.72556775 0.60451445\n",
            "  0.28138077 0.72431894 0.11969241 0.53469477 0.64529233 0.23984409\n",
            "  0.19616285 0.4220486  0.14345638 0.77819437 0.30278559 0.62900564\n",
            "  0.26246007 0.81344892 0.55033897 0.78060484 0.68609693 0.213235\n",
            "  0.30122148 0.84791704 0.87741199 0.79391751 0.32820021 0.15628367\n",
            "  0.61139764 0.7916962  0.11375289 0.14648478 0.60309999 0.60002244\n",
            "  0.11423442 0.58083117 0.70856253 0.31342968 0.         0.07478001\n",
            "  0.48683717 0.64692152 0.47379019 0.84327347 0.4904833  0.31333271\n",
            "  0.30037714 0.46509658 0.63016623 0.15135922 0.60515841 0.46664461\n",
            "  0.84311641 0.34488728 0.30759365 0.20870057 0.19273268 0.25243847\n",
            "  0.53158033 0.27338618 0.07120764 0.38745819 0.7409775  0.80633156\n",
            "  0.44639165 0.88307378 0.64846773 0.55564619 0.19857526 0.04650924\n",
            "  0.70737667 0.1237444  0.94732105 0.76601688 0.6357569  0.76552563\n",
            "  0.34016322 0.44507842 0.37115716 0.62915089]\n",
            " [0.37355755 0.52223398 0.37968827 0.62719227 0.63985711 0.69404082\n",
            "  0.82751306 0.65469651 0.85654679 0.04558013 0.0445218  0.37390736\n",
            "  0.50820931 0.61579253 0.66641685 0.94349946 0.72036204 0.40361061\n",
            "  0.33594829 0.69303187 0.83831883 0.82067    0.74015263 0.58687947\n",
            "  0.26743544 0.79510542 0.1906379  0.57607007 0.69742773 0.1712692\n",
            "  0.22789163 0.49671509 0.2099478  0.83681855 0.34096555 0.60376937\n",
            "  0.22551111 0.86800298 0.5373772  0.82570082 0.65162048 0.13846029\n",
            "  0.35214539 0.89898782 0.90743716 0.83881396 0.39641287 0.22343452\n",
            "  0.67483637 0.83172887 0.16041971 0.17601124 0.63046919 0.6610911\n",
            "  0.06508328 0.61565314 0.75258417 0.2845322  0.07478001 0.\n",
            "  0.45617822 0.68200103 0.54801045 0.86986456 0.49521243 0.38791399\n",
            "  0.36712304 0.48448054 0.69831331 0.15481799 0.57497971 0.43532423\n",
            "  0.88590028 0.32493399 0.24103172 0.26896618 0.11795688 0.23300997\n",
            "  0.60601035 0.32488219 0.12656084 0.46134428 0.80651378 0.85882644\n",
            "  0.50330734 0.91758155 0.66636395 0.63041116 0.16499631 0.09904674\n",
            "  0.76438089 0.04914794 0.98942151 0.82179246 0.62573157 0.76758957\n",
            "  0.28108674 0.51878605 0.42975098 0.62336886]\n",
            " [0.31257523 0.36939083 0.61639213 0.50932438 0.19987962 0.27496724\n",
            "  0.68741518 0.20856285 0.84256744 0.43109534 0.41192245 0.08304277\n",
            "  0.13522548 0.18268661 0.84674752 0.7365002  0.93777808 0.56418616\n",
            "  0.59806529 0.59679079 0.74306245 0.8427175  0.44347302 0.15813736\n",
            "  0.21523445 0.93083126 0.58551136 0.50168046 0.66340278 0.34812069\n",
            "  0.37109122 0.79444729 0.61692068 0.82949863 0.38932417 0.15117179\n",
            "  0.23085276 0.81970591 0.14482013 0.709826   0.20025333 0.43110612\n",
            "  0.45756989 0.81695234 0.67436809 0.71905023 0.77883472 0.50261137\n",
            "  0.74420765 0.67810383 0.42873162 0.38344923 0.44317982 0.71126846\n",
            "  0.39109997 0.48230356 0.64386601 0.17352014 0.48683717 0.45617822\n",
            "  0.         0.52890884 0.79047431 0.62099462 0.23281642 0.67639299\n",
            "  0.75872116 0.31765921 0.81365983 0.61080525 0.11886876 0.02106126\n",
            "  0.74260009 0.14986455 0.30906233 0.48206013 0.42878882 0.67301907\n",
            "  0.9003222  0.45279985 0.55801062 0.78691853 0.87324339 0.79480559\n",
            "  0.56790904 0.71205526 0.40798917 0.90125003 0.59817728 0.5325513\n",
            "  0.75572824 0.44717092 0.82645969 0.79173709 0.22349212 0.39916236\n",
            "  0.24523753 0.84056446 0.5384152  0.24258962]\n",
            " [0.31626885 0.17585461 0.48532702 0.06187119 0.65336755 0.43327659\n",
            "  0.16177859 0.50209576 0.33953826 0.63650753 0.6511779  0.52127846\n",
            "  0.66166463 0.65525072 0.51991722 0.26186979 0.62266969 0.39512673\n",
            "  0.51017981 0.09092765 0.21545823 0.36391391 0.21423513 0.45225382\n",
            "  0.48302565 0.53145864 0.65449648 0.12438677 0.18853362 0.71098325\n",
            "  0.45463836 0.62853238 0.68264516 0.33242757 0.34414377 0.51975855\n",
            "  0.57308102 0.30184864 0.40922554 0.18091741 0.6201065  0.7637778\n",
            "  0.35947856 0.28945012 0.23539007 0.19034527 0.7338041  0.52338513\n",
            "  0.3394052  0.15776213 0.53316867 0.50664252 0.08693001 0.30142871\n",
            "  0.64221179 0.06635582 0.11843924 0.52920608 0.64692152 0.68200103\n",
            "  0.52890884 0.         0.55891803 0.21405533 0.29632342 0.56177115\n",
            "  0.73556236 0.22837954 0.42903639 0.79486553 0.55184514 0.531217\n",
            "  0.220136   0.48077886 0.72281484 0.46188102 0.74800565 0.89928557\n",
            "  0.68940149 0.38545849 0.68996931 0.65989214 0.4241557  0.27283879\n",
            "  0.2832385  0.2361772  0.16269962 0.66059908 0.84231496 0.68205372\n",
            "  0.27253423 0.71276792 0.31661128 0.28630724 0.39808515 0.34150331\n",
            "  0.68397751 0.68666938 0.33816418 0.36205885]\n",
            " [0.48896867 0.53357533 0.18255095 0.50344035 0.98516873 0.87968307\n",
            "  0.60827345 0.90188254 0.47641938 0.51942509 0.55558794 0.72430882\n",
            "  0.90729595 0.97167377 0.14150591 0.76034955 0.17235277 0.22843629\n",
            "  0.21771518 0.49502739 0.5606104  0.41263367 0.74996048 0.82770614\n",
            "  0.59464844 0.27973176 0.37625428 0.44653638 0.42013463 0.69581896\n",
            "  0.43594972 0.09994309 0.37739156 0.45628385 0.40335355 0.88236777\n",
            "  0.64470373 0.52312523 0.76454115 0.57820435 0.97275446 0.68592928\n",
            "  0.33433379 0.5821302  0.76891195 0.59019104 0.27430577 0.33716163\n",
            "  0.28035544 0.62685869 0.42349937 0.45090514 0.58307084 0.30115612\n",
            "  0.56600728 0.51915133 0.53315871 0.65751087 0.47379019 0.54801045\n",
            "  0.79047431 0.55891803 0.         0.76488437 0.64020176 0.16163573\n",
            "  0.2976676  0.55082938 0.2326016  0.54250723 0.88456548 0.77717565\n",
            "  0.64626781 0.65005699 0.75376613 0.32398744 0.66518073 0.64139411\n",
            "  0.13112675 0.33771672 0.45119089 0.15469316 0.35402887 0.53574473\n",
            "  0.28487365 0.74150236 0.67305733 0.11339281 0.62888346 0.46825445\n",
            "  0.41693894 0.59715825 0.73848354 0.47370731 0.81582336 0.85469547\n",
            "  0.76308526 0.14684741 0.26790945 0.78952503]\n",
            " [0.4963163  0.34769729 0.69938213 0.27563835 0.68787507 0.42762758\n",
            "  0.19716413 0.51851874 0.44126185 0.82517588 0.83482742 0.64015665\n",
            "  0.73947416 0.69819791 0.70900999 0.12821695 0.80878122 0.6091629\n",
            "  0.72379793 0.2706619  0.28206485 0.49127605 0.18124887 0.49739304\n",
            "  0.64060908 0.69287027 0.86191588 0.33825646 0.35869297 0.8720052\n",
            "  0.64744416 0.83930887 0.89113631 0.44420115 0.54334706 0.55808034\n",
            "  0.72738457 0.3822525  0.47912116 0.24053898 0.64703661 0.93477402\n",
            "  0.5681307  0.33405351 0.05629443 0.23711928 0.94785461 0.73032947\n",
            "  0.51921308 0.17349567 0.73038474 0.69857198 0.24019784 0.48457906\n",
            "  0.82303737 0.27267761 0.24465901 0.6733677  0.84327347 0.86986456\n",
            "  0.62099462 0.21405533 0.76488437 0.         0.41288431 0.77573453\n",
            "  0.9493935  0.38779105 0.60656232 0.993697   0.60222773 0.63004334\n",
            "  0.21088231 0.62024757 0.87066931 0.66961741 0.92124326 1.0949796\n",
            "  0.89379331 0.59287356 0.89191124 0.87257004 0.56777429 0.34838662\n",
            "  0.49604454 0.11088858 0.219328   0.86138008 1.03364258 0.88148011\n",
            "  0.41327765 0.89510752 0.24059594 0.39553561 0.42704464 0.28551921\n",
            "  0.82189496 0.8972372  0.55217138 0.39469849]\n",
            " [0.16498117 0.14213301 0.49018438 0.2778693  0.37945687 0.24403792\n",
            "  0.45592937 0.26356709 0.61393517 0.45477731 0.4542359  0.23080336\n",
            "  0.36664131 0.37547177 0.66627312 0.51768508 0.76491104 0.41497557\n",
            "  0.48837829 0.36502868 0.51024935 0.61932296 0.253388   0.19257769\n",
            "  0.23805759 0.73056198 0.55041874 0.27762642 0.43700537 0.46498687\n",
            "  0.30713685 0.66983512 0.58323264 0.6019695  0.2533745  0.25510494\n",
            "  0.31919199 0.58819389 0.13290113 0.47720778 0.35457349 0.53422722\n",
            "  0.31701031 0.58415227 0.46196807 0.48662395 0.70483525 0.43163746\n",
            "  0.53598149 0.44778748 0.39118691 0.34785684 0.21133674 0.50020633\n",
            "  0.43838715 0.25030153 0.41109349 0.26181573 0.4904833  0.49521243\n",
            "  0.23281642 0.29632342 0.64020176 0.41288431 0.         0.56366937\n",
            "  0.69334814 0.09775293 0.61392852 0.63919134 0.27360687 0.23495289\n",
            "  0.51212608 0.20814309 0.45847302 0.38609894 0.52321347 0.7281581\n",
            "  0.76389188 0.32606899 0.55359221 0.67777294 0.65764931 0.5626016\n",
            "  0.37775242 0.49224238 0.1935918  0.75357424 0.65912221 0.53524928\n",
            "  0.52999261 0.50960927 0.5998902  0.5622468  0.17668398 0.27509188\n",
            "  0.40904658 0.72363269 0.37252973 0.15484768]\n",
            " [0.40032302 0.48603161 0.07833103 0.50061958 0.87552356 0.80769834\n",
            "  0.65048158 0.81434129 0.57441016 0.36167024 0.39827496 0.60309679\n",
            "  0.78266999 0.85906316 0.29258015 0.79759601 0.33346708 0.16837138\n",
            "  0.07851205 0.52010714 0.62210368 0.51927396 0.72265878 0.73848736\n",
            "  0.46808293 0.42960864 0.21524136 0.4382327  0.47028654 0.54101647\n",
            "  0.30695292 0.12017396 0.21906656 0.55342054 0.31080572 0.78592922\n",
            "  0.50504099 0.60906435 0.67538074 0.62916127 0.86877196 0.52624299\n",
            "  0.24746698 0.65994197 0.79125942 0.64231567 0.17414058 0.18790084\n",
            "  0.37053871 0.66491111 0.27532065 0.30967935 0.56138906 0.37612545\n",
            "  0.41020629 0.50799047 0.57009157 0.52729061 0.31333271 0.38791399\n",
            "  0.67639299 0.56177115 0.16163573 0.77573453 0.56366937 0.\n",
            "  0.18245484 0.4875992  0.35592592 0.38412436 0.78045831 0.66070885\n",
            "  0.6981804  0.52915115 0.60196398 0.19434752 0.50558806 0.48622\n",
            "  0.2308391  0.23806446 0.2898456  0.11424681 0.4776265  0.61363942\n",
            "  0.28188686 0.77544238 0.64140345 0.24605706 0.46906681 0.30661872\n",
            "  0.49736828 0.43701628 0.7986232  0.55823338 0.73948513 0.80960872\n",
            "  0.61718108 0.16445457 0.22520962 0.71829324]\n",
            " [0.52918667 0.63998382 0.25228502 0.6738032  0.9572808  0.9331853\n",
            "  0.83170972 0.92456799 0.7525125  0.36187289 0.39613086 0.67816983\n",
            "  0.84417934 0.93707566 0.43912739 0.97750719 0.44554733 0.34096985\n",
            "  0.22586763 0.69970375 0.80455748 0.69454632 0.88113071 0.84919925\n",
            "  0.54353095 0.57692455 0.18192957 0.61119646 0.65266796 0.53810181\n",
            "  0.39729217 0.20325197 0.15745227 0.73160855 0.44495238 0.88710518\n",
            "  0.55144971 0.78972818 0.78836441 0.8112478  0.95830242 0.49615986\n",
            "  0.39448402 0.8417455  0.96804789 0.82444753 0.03264838 0.26420472\n",
            "  0.54857385 0.8455377  0.32999732 0.37562687 0.72607595 0.55686818\n",
            "  0.41452217 0.6782109  0.75106672 0.59158246 0.30037714 0.36712304\n",
            "  0.75872116 0.73556236 0.2976676  0.9493935  0.69334814 0.18245484\n",
            "  0.         0.63137009 0.52260038 0.29081507 0.87243582 0.74022985\n",
            "  0.88018661 0.60921908 0.60710552 0.30781761 0.47776798 0.37016166\n",
            "  0.28446586 0.37615082 0.24131414 0.14787102 0.64558871 0.79532316\n",
            "  0.46098782 0.95486141 0.79928339 0.32556006 0.37963811 0.2682176\n",
            "  0.67830566 0.41026281 0.9809559  0.73889828 0.86288541 0.95583853\n",
            "  0.64016965 0.18990064 0.3975923  0.84686717]\n",
            " [0.11393071 0.05392603 0.41134286 0.19575272 0.47627645 0.32886632\n",
            "  0.38994494 0.35922228 0.52498224 0.44057972 0.44797092 0.29682289\n",
            "  0.45288445 0.471219   0.5702011  0.47525042 0.66972858 0.33019626\n",
            "  0.4158516  0.28280388 0.43373323 0.52612691 0.26146952 0.2898415\n",
            "  0.2578419  0.63281022 0.50531691 0.18427161 0.34578318 0.4887168\n",
            "  0.27018567 0.58762508 0.53724325 0.5118412  0.18686199 0.3528559\n",
            "  0.34730286 0.50410094 0.23065069 0.40490543 0.45220871 0.54790098\n",
            "  0.24093555 0.50662225 0.42961036 0.41565838 0.6393924  0.37821116\n",
            "  0.43846597 0.38584778 0.35606347 0.31861438 0.15475841 0.40295197\n",
            "  0.43556841 0.1710518  0.33443977 0.30103588 0.46509658 0.48448054\n",
            "  0.31765921 0.22837954 0.55082938 0.38779105 0.09775293 0.4875992\n",
            "  0.63137009 0.         0.51618737 0.61644057 0.37031977 0.31578737\n",
            "  0.44851116 0.25244693 0.49592443 0.32497775 0.5338766  0.71343633\n",
            "  0.67707566 0.25574849 0.52107945 0.60047724 0.56149005 0.48079677\n",
            "  0.28166319 0.44912509 0.18337162 0.66386445 0.64920769 0.50670223\n",
            "  0.43827527 0.50774199 0.54364248 0.47442949 0.26634214 0.32462966\n",
            "  0.4556667  0.64307427 0.28323174 0.23876996]\n",
            " [0.50274987 0.47868791 0.32588036 0.38996888 0.99002738 0.8271007\n",
            "  0.42389717 0.87268646 0.24844763 0.66045298 0.69275687 0.76522941\n",
            "  0.94436396 0.98259297 0.11337282 0.57278486 0.2040114  0.29860581\n",
            "  0.37190503 0.34447648 0.35885345 0.18192781 0.64159107 0.80564187\n",
            "  0.65652239 0.1173108  0.55919064 0.35264914 0.24877794 0.81681619\n",
            "  0.52217292 0.33237651 0.56996028 0.22939694 0.44098801 0.86902935\n",
            "  0.7286434  0.30149214 0.74679503 0.38635332 0.96795657 0.82818602\n",
            "  0.38448981 0.36448913 0.5970406  0.39622729 0.5025495  0.47499332\n",
            "  0.08966533 0.44582105 0.54686915 0.55679285 0.4837415  0.127704\n",
            "  0.6971556  0.41467368 0.36198376 0.72085855 0.63016623 0.69831331\n",
            "  0.81365983 0.42903639 0.2326016  0.60656232 0.61392852 0.35592592\n",
            "  0.52260038 0.51618737 0.         0.73173269 0.88432548 0.80561017\n",
            "  0.44917084 0.69632023 0.862493   0.43386398 0.80764619 0.83750325\n",
            "  0.33024266 0.40349806 0.62858898 0.38599882 0.12298925 0.31997226\n",
            "  0.24626616 0.55826304 0.5773648  0.28520313 0.81150442 0.63869446\n",
            "  0.20740951 0.74553527 0.53008748 0.25551218 0.77399066 0.76393746\n",
            "  0.85485419 0.37735126 0.2926454  0.74163973]\n",
            " [0.50270916 0.64791908 0.40680086 0.73632812 0.79209815 0.84661864\n",
            "  0.92918964 0.80929222 0.92236011 0.18694432 0.19930253 0.52867565\n",
            "  0.6570716  0.767476   0.67669926 1.05608291 0.70973009 0.46024996\n",
            "  0.36099985 0.7920343  0.92815126 0.87736053 0.87673324 0.74089102\n",
            "  0.41943851 0.8132862  0.17255214 0.67975479 0.77970645 0.30108364\n",
            "  0.34731451 0.46807379 0.16525296 0.90173602 0.45145574 0.75858591\n",
            "  0.37998696 0.9433425  0.69013441 0.92149765 0.80525636 0.23419203\n",
            "  0.44198336 0.98225471 1.0268458  0.93492542 0.32340778 0.28230432\n",
            "  0.72686996 0.93642522 0.26331264 0.29782721 0.75364554 0.72085306\n",
            "  0.21985283 0.72911441 0.85070574 0.43934155 0.15135922 0.15481799\n",
            "  0.61080525 0.79486553 0.54250723 0.993697   0.63919134 0.38412436\n",
            "  0.29081507 0.61644057 0.73173269 0.         0.72953776 0.58990764\n",
            "  0.98568026 0.47885666 0.37039074 0.34247188 0.22101399 0.1088969\n",
            "  0.56680837 0.41436319 0.10906632 0.42054376 0.84922764 0.93910975\n",
            "  0.57695909 1.0306977  0.79981207 0.60150322 0.08934757 0.11281585\n",
            "  0.83433002 0.17061561 1.09009035 0.89441991 0.77766302 0.91375543\n",
            "  0.42136851 0.47274295 0.50089317 0.7735585 ]\n",
            " [0.39674245 0.4153561  0.71627314 0.54530766 0.10596002 0.1992463\n",
            "  0.70125813 0.1105349  0.88283365 0.54985644 0.53075866 0.2017321\n",
            "  0.15145473 0.10352619 0.92860071 0.72571634 1.02367342 0.65625792\n",
            "  0.70195562 0.63043352 0.76673415 0.89174597 0.42103606 0.10513523\n",
            "  0.32982552 1.00144615 0.70168066 0.55086114 0.70859182 0.46086324\n",
            "  0.479598   0.8964765  0.73343751 0.87201019 0.48128078 0.05035853\n",
            "  0.34955082 0.85221044 0.14393249 0.72952346 0.08847751 0.54442315\n",
            "  0.5503056  0.84046277 0.65797849 0.73703426 0.89139226 0.6129597\n",
            "  0.80855193 0.68835158 0.5428095  0.49685379 0.46512704 0.77325609\n",
            "  0.50991012 0.51681367 0.67015052 0.29217337 0.60515841 0.57497971\n",
            "  0.11886876 0.55184514 0.88456548 0.60222773 0.27360687 0.78045831\n",
            "  0.87243582 0.37031977 0.88432548 0.72953776 0.         0.13965676\n",
            "  0.75210913 0.26396463 0.41498918 0.58714472 0.54354227 0.79003223\n",
            "  0.99962948 0.54951012 0.67627257 0.89276732 0.93125525 0.82433623\n",
            "  0.64277811 0.7031329  0.4075411  0.9969292  0.71509033 0.6510243\n",
            "  0.80157644 0.56505608 0.82563143 0.83034266 0.17559942 0.34432228\n",
            "  0.34981417 0.94490021 0.6239589  0.207666  ]\n",
            " [0.30332405 0.36835681 0.60188162 0.50927349 0.21734635 0.29339054\n",
            "  0.69074668 0.22908293 0.84062043 0.41058195 0.39110491 0.06292702\n",
            "  0.13941261 0.19880772 0.83620774 0.74391673 0.92622949 0.55174714\n",
            "  0.58252196 0.59678992 0.74446014 0.83906015 0.45392023 0.17641324\n",
            "  0.19711775 0.92262392 0.56624898 0.49904906 0.66092981 0.32749656\n",
            "  0.35464496 0.77918286 0.59751461 0.82714317 0.37751421 0.1721124\n",
            "  0.20992886 0.81928264 0.15776864 0.71203921 0.21980236 0.41036822\n",
            "  0.44527092 0.81820568 0.68286785 0.72154758 0.7606934  0.48534538\n",
            "  0.73762648 0.68210054 0.41033567 0.36535216 0.44618691 0.70525429\n",
            "  0.37025351 0.48268933 0.64507654 0.15322059 0.46664461 0.43532423\n",
            "  0.02106126 0.531217   0.77717565 0.63004334 0.23495289 0.66070885\n",
            "  0.74022985 0.31578737 0.80561017 0.58990764 0.13965676 0.\n",
            "  0.7465436  0.13242809 0.28958386 0.46637696 0.40789489 0.65196093\n",
            "  0.88565701 0.4394824  0.53783911 0.77066415 0.86773169 0.79499377\n",
            "  0.55950364 0.71922778 0.41519259 0.88746423 0.57712225 0.51225598\n",
            "  0.75287924 0.42611968 0.83199912 0.79021404 0.23973005 0.41441518\n",
            "  0.22622323 0.82467146 0.52763001 0.25695068]\n",
            " [0.53134734 0.39575257 0.62977845 0.26292159 0.84841161 0.60367171\n",
            "  0.05938393 0.68608032 0.24195982 0.84037375 0.85854206 0.74009333\n",
            "  0.8727431  0.85391592 0.56052522 0.12724161 0.65223215 0.54677892\n",
            "  0.66454513 0.19382737 0.09069066 0.30137713 0.35180368 0.64838435\n",
            "  0.70186948 0.51522169 0.83198046 0.30983638 0.22937013 0.92775049\n",
            "  0.65841028 0.73447318 0.85668187 0.2495234  0.54496865 0.7144082\n",
            "  0.79195149 0.17897301 0.6140521  0.06915735 0.81128316 0.97683073\n",
            "  0.54372502 0.12416473 0.17404181 0.05637825 0.87164395 0.7053462\n",
            "  0.37195765 0.06450245 0.73057689 0.71000559 0.30105688 0.34569246\n",
            "  0.85144845 0.2811866  0.13500269 0.74921061 0.84311641 0.88590028\n",
            "  0.74260009 0.220136   0.64626781 0.21088231 0.51212608 0.6981804\n",
            "  0.88018661 0.44851116 0.44917084 0.98568026 0.75210913 0.7465436\n",
            "  0.         0.70091219 0.94204926 0.64399142 0.96018829 1.09294774\n",
            "  0.76656613 0.57141655 0.87771051 0.77720027 0.38298566 0.14674577\n",
            "  0.42285806 0.11960693 0.34469113 0.72692283 1.04130322 0.87372395\n",
            "  0.24197701 0.92029189 0.10441664 0.20484957 0.58529196 0.47687017\n",
            "  0.90404416 0.78969672 0.4948711  0.54966189]\n",
            " [0.19839909 0.30571821 0.47233091 0.44550768 0.34955252 0.37011796\n",
            "  0.64239186 0.33138927 0.7599821  0.29349527 0.28059527 0.07439565\n",
            "  0.25730129 0.33120983 0.71725364 0.72058322 0.80371097 0.42783899\n",
            "  0.4512072  0.53076853 0.68361492 0.74966949 0.46005484 0.26203789\n",
            "  0.06587113 0.81207729 0.4377798  0.42090993 0.57987623 0.25979354\n",
            "  0.22252902 0.64811369 0.4696535  0.74450535 0.2578131  0.28434647\n",
            "  0.11542812 0.74708964 0.2136644  0.65654044 0.34909608 0.33418028\n",
            "  0.32270978 0.75546853 0.66805632 0.66757318 0.62904749 0.3529425\n",
            "  0.63523316 0.63801451 0.27925893 0.23371103 0.40359261 0.60579821\n",
            "  0.26111476 0.4224843  0.58497996 0.05393608 0.34488728 0.32493399\n",
            "  0.14986455 0.48077886 0.65005699 0.62024757 0.20814309 0.52915115\n",
            "  0.60921908 0.25244693 0.69632023 0.47885666 0.26396463 0.13242809\n",
            "  0.70091219 0.         0.25046462 0.33500583 0.32589827 0.55296782\n",
            "  0.75547963 0.313649   0.41542694 0.6385155  0.76918705 0.72650469\n",
            "  0.45098324 0.69473855 0.40130841 0.75903432 0.47976805 0.39127689\n",
            "  0.66851558 0.32622329 0.79502701 0.71239046 0.30323859 0.45813372\n",
            "  0.20417706 0.6928179  0.40969876 0.30527835]\n",
            " [0.41514338 0.54709142 0.57328678 0.68120119 0.44984525 0.58245492\n",
            "  0.88286821 0.51642791 0.97228572 0.24785314 0.21193069 0.24732465\n",
            "  0.30481252 0.4229252  0.85451339 0.96919106 0.92332184 0.56640556\n",
            "  0.53609911 0.76248824 0.9158744  0.95086119 0.7089989  0.46559278\n",
            "  0.24033385 0.97085163 0.42728481 0.64665331 0.79655381 0.07048599\n",
            "  0.34041787 0.7184862  0.44965406 0.95476579 0.43553109 0.45673806\n",
            "  0.15045061 0.96867906 0.43701706 0.89281164 0.47312664 0.14324967\n",
            "  0.48030954 0.98515583 0.91809858 0.90460728 0.63557661 0.41677204\n",
            "  0.81877212 0.88056204 0.33037128 0.30850009 0.64998943 0.79597022\n",
            "  0.19547611 0.66099063 0.81957566 0.1974004  0.30759365 0.24103172\n",
            "  0.30906233 0.72281484 0.75376613 0.87066931 0.45847302 0.60196398\n",
            "  0.60710552 0.49592443 0.862493   0.37039074 0.41498918 0.28958386\n",
            "  0.94204926 0.25046462 0.         0.43692956 0.15111881 0.39892373\n",
            "  0.82977105 0.45933566 0.36755066 0.68989519 0.9551211  0.95190241\n",
            "  0.63267967 0.94321181 0.65177165 0.84800797 0.32618934 0.3398839\n",
            "  0.87863239 0.20411799 1.03917203 0.92894425 0.52494915 0.69420368\n",
            "  0.0652181  0.74781577 0.57152777 0.53640802]\n",
            " [0.22149115 0.33900117 0.14160165 0.40122324 0.68131069 0.62772235\n",
            "  0.58819155 0.62620087 0.58969924 0.228281   0.25927551 0.40911838\n",
            "  0.58973414 0.66472207 0.41759922 0.7199424  0.48910114 0.13579436\n",
            "  0.11620338 0.45080132 0.58577391 0.55193335 0.58031229 0.55026368\n",
            "  0.27495835 0.53702732 0.19265427 0.3417811  0.43835181 0.3855246\n",
            "  0.11376647 0.31313012 0.22152411 0.56965876 0.13812795 0.59460542\n",
            "  0.32075336 0.60511331 0.48786531 0.57923369 0.67528411 0.39463162\n",
            "  0.10248719 0.64112763 0.69697422 0.592682   0.31876084 0.06179151\n",
            "  0.40594312 0.59653856 0.11301851 0.12888616 0.43455272 0.39241585\n",
            "  0.26330123 0.39815235 0.50899741 0.33587269 0.20870057 0.26896618\n",
            "  0.48206013 0.46188102 0.32398744 0.66961741 0.38609894 0.19434752\n",
            "  0.30781761 0.32497775 0.43386398 0.34247188 0.58714472 0.46637696\n",
            "  0.64399142 0.33500583 0.43692956 0.         0.37421068 0.4506941\n",
            "  0.42124913 0.07674723 0.23390692 0.30563976 0.53843267 0.59882122\n",
            "  0.23781754 0.69512719 0.49886202 0.42814339 0.40534274 0.2320941\n",
            "  0.49867897 0.31422602 0.74839466 0.55742731 0.55793458 0.64872745\n",
            "  0.44065013 0.35854622 0.16245787 0.54029248]\n",
            " [0.43193609 0.57852043 0.4940671  0.69773992 0.59147838 0.69032935\n",
            "  0.90099616 0.63641969 0.9522458  0.1480352  0.11493993 0.35315184\n",
            "  0.44977636 0.56536712 0.78110942 1.00601566 0.83748449 0.51000153\n",
            "  0.45134776 0.77059944 0.92039686 0.92082714 0.77587387 0.57634602\n",
            "  0.28518372 0.90762509 0.30651966 0.65238097 0.7861385  0.08569377\n",
            "  0.30868288 0.6146059  0.32268759 0.93312813 0.42056852 0.57995636\n",
            "  0.21090463 0.95864768 0.53624748 0.90372568 0.61049586 0.02082117\n",
            "  0.44548598 0.9846767  0.96337339 0.91644633 0.50824105 0.33557689\n",
            "  0.77829849 0.90267405 0.26137905 0.26128808 0.68676242 0.76163203\n",
            "  0.11345438 0.68248527 0.82986813 0.27488728 0.19273268 0.11795688\n",
            "  0.42878882 0.74800565 0.66518073 0.92124326 0.52321347 0.50558806\n",
            "  0.47776798 0.5338766  0.80764619 0.22101399 0.54354227 0.40789489\n",
            "  0.96018829 0.32589827 0.15111881 0.37421068 0.         0.25078405\n",
            "  0.72367408 0.4197452  0.23709626 0.57853004 0.91212176 0.94672679\n",
            "  0.60026988 0.97986772 0.70841308 0.74836666 0.17666544 0.21153637\n",
            "  0.85896149 0.06946152 1.06194853 0.91436785 0.62636286 0.78388117\n",
            "  0.20797119 0.63575616 0.52975871 0.63079784]\n",
            " [0.6006151  0.74783173 0.51377534 0.84151218 0.84197615 0.92308308\n",
            "  1.03611029 0.87768842 1.03106345 0.27413084 0.27518691 0.5935901\n",
            "  0.70053641 0.81600471 0.7782196  1.16095143 0.80509662 0.5690669\n",
            "  0.46822798 0.89917085 1.03646783 0.98554763 0.9715318  0.81303998\n",
            "  0.49881319 0.91577691 0.27940139 0.78590189 0.88838704 0.33646428\n",
            "  0.44755163 0.56107802 0.26787003 1.01041222 0.55518642 0.8236061\n",
            "  0.44493788 1.05223922 0.76658551 1.02921946 0.85992663 0.25574969\n",
            "  0.54929146 1.09099651 1.12973179 1.04262334 0.40239633 0.39093342\n",
            "  0.83491158 1.04284208 0.36616083 0.39649829 0.85479148 0.82943292\n",
            "  0.29303582 0.83323802 0.9580508  0.50789993 0.25243847 0.23300997\n",
            "  0.67301907 0.89928557 0.64139411 1.0949796  0.7281581  0.48622\n",
            "  0.37016166 0.71343633 0.83750325 0.1088969  0.79003223 0.65196093\n",
            "  1.09294774 0.55296782 0.39892373 0.4506941  0.25078405 0.\n",
            "  0.6535478  0.52155263 0.21789884 0.51028975 0.95597771 1.04793725\n",
            "  0.68578782 1.13540426 0.89638663 0.69179122 0.07497164 0.21924478\n",
            "  0.94319414 0.22731783 1.19732189 1.00330841 0.8558126  1.00049592\n",
            "  0.45846821 0.55873711 0.60971522 0.854988  ]\n",
            " [0.60786569 0.66238715 0.28396711 0.63438943 1.09783014 1.00541329\n",
            "  0.73186161 1.02336947 0.57858099 0.58526604 0.62209309 0.82980463\n",
            "  1.01097222 1.08276445 0.21897262 0.88397745 0.17730246 0.34897953\n",
            "  0.30581456 0.62334252 0.67873754 0.51126428 0.88099886 0.94841327\n",
            "  0.69620717 0.33631922 0.41898713 0.57766258 0.54430204 0.76669521\n",
            "  0.5349713  0.11145883 0.40973077 0.55963927 0.51977401 1.00063419\n",
            "  0.7358535  0.63106248 0.88503904 0.69962946 1.08809406 0.74384462\n",
            "  0.45129475 0.6929587  0.89589555 0.71109572 0.25327108 0.41861264\n",
            "  0.395308   0.75133617 0.50585991 0.54042121 0.71412699 0.42125027\n",
            "  0.6357845  0.65027124 0.6588454  0.75666693 0.53158033 0.60601035\n",
            "  0.9003222  0.68940149 0.13112675 0.89379331 0.76389188 0.2308391\n",
            "  0.28446586 0.67707566 0.33024266 0.56680837 0.99962948 0.88565701\n",
            "  0.76656613 0.75547963 0.82977105 0.42124913 0.72367408 0.6535478\n",
            "  0.         0.45014271 0.49298328 0.14716779 0.44148784 0.6474603\n",
            "  0.41578334 0.86610211 0.80383972 0.05063523 0.65607427 0.51510753\n",
            "  0.53054301 0.65423414 0.85483104 0.58366112 0.94030318 0.9847483\n",
            "  0.84738945 0.09481301 0.39400004 0.91516367]\n",
            " [0.16225905 0.26497195 0.16769779 0.32507393 0.64847824 0.56996617\n",
            "  0.5148287  0.57716691 0.53309412 0.2809435  0.30691204 0.38752559\n",
            "  0.57083841 0.63434084 0.40738722 0.64430828 0.49052141 0.11489235\n",
            "  0.16233889 0.3776936  0.51680861 0.50133767 0.50658614 0.50148455\n",
            "  0.26234676 0.51399115 0.26930223 0.26638347 0.37294199 0.41682029\n",
            "  0.11895665 0.34879236 0.29826336 0.51373887 0.07278295 0.55124016\n",
            "  0.32659534 0.54312096 0.43819721 0.50785303 0.63796565 0.43930839\n",
            "  0.02784796 0.5751511  0.62039921 0.521226   0.38364392 0.13794217\n",
            "  0.36176609 0.52232627 0.16457276 0.15909506 0.35827477 0.34259978\n",
            "  0.30632652 0.32148473 0.43649919 0.32678808 0.27338618 0.32488219\n",
            "  0.45279985 0.38545849 0.33771672 0.59287356 0.32606899 0.23806446\n",
            "  0.37615082 0.25574849 0.40349806 0.41436319 0.54951012 0.4394824\n",
            "  0.57141655 0.313649   0.45933566 0.07674723 0.4197452  0.52155263\n",
            "  0.45014271 0.         0.30696678 0.35230913 0.49752868 0.53430334\n",
            "  0.18052469 0.6193417  0.42487082 0.44862794 0.47193393 0.30231424\n",
            "  0.44027227 0.36618121 0.67580803 0.49709047 0.50149358 0.58036971\n",
            "  0.45214506 0.40019936 0.11258173 0.48088105]\n",
            " [0.40726541 0.54874328 0.30271572 0.630676   0.74964107 0.77361906\n",
            "  0.82156562 0.74588438 0.81406378 0.13064983 0.16032679 0.47499991\n",
            "  0.62441605 0.72691804 0.5802614  0.95043321 0.6219513  0.35177758\n",
            "  0.25668936 0.68426425 0.81931144 0.77008164 0.78251477 0.67406833\n",
            "  0.35137686 0.71484579 0.07531581 0.57311606 0.67066227 0.2978185\n",
            "  0.25109804 0.38719722 0.08572142 0.79350341 0.34856546 0.69970535\n",
            "  0.33327229 0.83441068 0.61899275 0.81313647 0.75730451 0.25604063\n",
            "  0.33437631 0.87319198 0.92329107 0.82658217 0.27132531 0.17334043\n",
            "  0.6199443  0.82929014 0.165069   0.20587986 0.65256511 0.61287843\n",
            "  0.18049364 0.6246672  0.74270828 0.38462876 0.07120764 0.12656084\n",
            "  0.55801062 0.68996931 0.45119089 0.89191124 0.55359221 0.2898456\n",
            "  0.24131414 0.52107945 0.62858898 0.10906632 0.67627257 0.53783911\n",
            "  0.87771051 0.41542694 0.36755066 0.23390692 0.23709626 0.21789884\n",
            "  0.49298328 0.30696678 0.         0.34615137 0.74434894 0.83005075\n",
            "  0.46789954 0.92523327 0.70387627 0.52208289 0.18291545 0.02792596\n",
            "  0.72561353 0.1690094  0.98212607 0.78559042 0.70341998 0.82854007\n",
            "  0.40534631 0.40229985 0.39183098 0.6955373 ]\n",
            " [0.51456815 0.59659078 0.18917018 0.59997786 0.98652158 0.92181077\n",
            "  0.73378338 0.92837424 0.62549933 0.44320098 0.47990818 0.71190007\n",
            "  0.8893423  0.96938284 0.29461558 0.8840538  0.2980662  0.2752109\n",
            "  0.19171366 0.60953172 0.6956738  0.56377158 0.83037067 0.85248933\n",
            "  0.57598777 0.4311348  0.27268569 0.53853094 0.54788883 0.62506683\n",
            "  0.41602663 0.05608085 0.26257728 0.60495731 0.42504116 0.89928823\n",
            "  0.60578913 0.66839301 0.78944081 0.70814571 0.98092381 0.59850112\n",
            "  0.36119273 0.72461435 0.8838913  0.72083128 0.12124367 0.28905584\n",
            "  0.42431481 0.75020027 0.37377571 0.41266461 0.66682416 0.43899013\n",
            "  0.49472759 0.61001907 0.65505517 0.63311849 0.38745819 0.46134428\n",
            "  0.78691853 0.65989214 0.15469316 0.87257004 0.67777294 0.11424681\n",
            "  0.14787102 0.60047724 0.38599882 0.42054376 0.89276732 0.77066415\n",
            "  0.77720027 0.6385155  0.68989519 0.30563976 0.57853004 0.51028975\n",
            "  0.14716779 0.35230913 0.34615137 0.         0.50819485 0.67794354\n",
            "  0.37669299 0.86322773 0.74971877 0.18158019 0.5096594  0.36878052\n",
            "  0.55907705 0.50907615 0.87400665 0.61805677 0.85369364 0.92103811\n",
            "  0.71168105 0.0579206  0.33022211 0.83231222]\n",
            " [0.57114657 0.51631111 0.44242691 0.40103776 1.03708922 0.84877643\n",
            "  0.37277565 0.90550818 0.15001944 0.76669211 0.79733417 0.83381812\n",
            "  1.00711598 1.03268013 0.22321043 0.51020756 0.28968348 0.40296873\n",
            "  0.48826787 0.33335192 0.29399282 0.08266406 0.63708152 0.84399363\n",
            "  0.73681199 0.13399462 0.67682104 0.38142929 0.23633522 0.91434219\n",
            "  0.61601666 0.45397189 0.68922856 0.13623566 0.52289886 0.90996157\n",
            "  0.81503666 0.21235945 0.78920693 0.3305276  1.01079147 0.93234809\n",
            "  0.4750858  0.27750076 0.54750054 0.33721756 0.62539152 0.58475766\n",
            "  0.13639523 0.39633727 0.65081441 0.65540556 0.49489572 0.16340453\n",
            "  0.79987898 0.42896682 0.3299428  0.79974053 0.7409775  0.80651378\n",
            "  0.87324339 0.4241557  0.35402887 0.56777429 0.65764931 0.4776265\n",
            "  0.64558871 0.56149005 0.12298925 0.84922764 0.93125525 0.86773169\n",
            "  0.38298566 0.76918705 0.9551211  0.53843267 0.91212176 0.95597771\n",
            "  0.44148784 0.49752868 0.74434894 0.50819485 0.         0.23923408\n",
            "  0.32332371 0.50032051 0.5843498  0.39341191 0.92699551 0.75278102\n",
            "  0.15629498 0.85254774 0.4477063  0.17813863 0.80313641 0.76559814\n",
            "  0.94148121 0.49669783 0.38500393 0.76868118]\n",
            " [0.53750667 0.42726392 0.55408185 0.28573117 0.9261943  0.70014782\n",
            "  0.1532542  0.77353022 0.09522895 0.81433104 0.83774739 0.77720668\n",
            "  0.92919939 0.92781476 0.43331327 0.27332918 0.51838171 0.48176199\n",
            "  0.59435761 0.19822893 0.0675884  0.1566938  0.45901675 0.72508982\n",
            "  0.71402744 0.37287409 0.7750715  0.30647596 0.16140042 0.9270091\n",
            "  0.63814973 0.63025075 0.79584932 0.10366702 0.52658229 0.79258697\n",
            "  0.80220667 0.0339718  0.68120397 0.11087493 0.89283225 0.96507287\n",
            "  0.50680398 0.0466759  0.31848485 0.11170185 0.78240012 0.65721123\n",
            "  0.25540444 0.17617229 0.6988038  0.687132   0.35924723 0.23939018\n",
            "  0.83417618 0.31250242 0.15440864 0.76916055 0.80633156 0.85882644\n",
            "  0.79480559 0.27283879 0.53574473 0.34838662 0.5626016  0.61363942\n",
            "  0.79532316 0.48079677 0.31997226 0.93910975 0.82433623 0.79499377\n",
            "  0.14674577 0.72650469 0.95190241 0.59882122 0.94672679 1.04793725\n",
            "  0.6474603  0.53430334 0.83005075 0.67794354 0.23923408 0.\n",
            "  0.36215122 0.26621703 0.42948739 0.60428353 1.00406241 0.83062577\n",
            "  0.11902759 0.89844962 0.21106062 0.0645779  0.66976886 0.5892728\n",
            "  0.92266389 0.68226715 0.43822206 0.63364031]\n",
            " [0.25648695 0.254644   0.20877391 0.22386925 0.74787882 0.60664824\n",
            "  0.37186615 0.64077757 0.35326195 0.46022934 0.48722371 0.51914305\n",
            "  0.69813274 0.73917315 0.28858772 0.51652003 0.38830801 0.12397951\n",
            "  0.24171694 0.23872168 0.35496892 0.32112612 0.46528994 0.57024565\n",
            "  0.41451565 0.36312912 0.41431552 0.16373702 0.20366005 0.59470331\n",
            "  0.29601047 0.34620853 0.43679144 0.33364551 0.19967988 0.63110474\n",
            "  0.49171413 0.36738123 0.50923137 0.35491    0.72811541 0.61981584\n",
            "  0.155307   0.40551402 0.50957865 0.36835329 0.45577188 0.29518895\n",
            "  0.18708131 0.38484399 0.34309046 0.33940994 0.2985043  0.16350433\n",
            "  0.48684779 0.23633716 0.29097058 0.4781197  0.44639165 0.50330734\n",
            "  0.56790904 0.2832385  0.28487365 0.49604454 0.37775242 0.28188686\n",
            "  0.46098782 0.28166319 0.24626616 0.57695909 0.64277811 0.55950364\n",
            "  0.42285806 0.45098324 0.63267967 0.23781754 0.60026988 0.68578782\n",
            "  0.41578334 0.18052469 0.46789954 0.37669299 0.32332371 0.36215122\n",
            "  0.         0.49397102 0.38820688 0.39407812 0.64299215 0.46883855\n",
            "  0.26125155 0.54593356 0.52584148 0.31962835 0.54710323 0.57080806\n",
            "  0.6181701  0.40440813 0.07607623 0.51765311]\n",
            " [0.54834566 0.4015971  0.70257663 0.29455795 0.79236765 0.53520064\n",
            "  0.13492666 0.62430762 0.36144467 0.8721578  0.88587559 0.72287565\n",
            "  0.83548804 0.80133036 0.66714782 0.02616169 0.76224905 0.61496463\n",
            "  0.73272743 0.25534207 0.20632802 0.41952456 0.28408269 0.5979979\n",
            "  0.70687732 0.63124407 0.88717928 0.35343245 0.32182929 0.93780546\n",
            "  0.69058373 0.82440132 0.91433226 0.36839395 0.58031027 0.66078435\n",
            "  0.79596802 0.29857978 0.5738966  0.17241908 0.75242274 0.99488028\n",
            "  0.59269266 0.24202472 0.06008209 0.16387274 0.94953643 0.75687932\n",
            "  0.47624246 0.11477002 0.76932271 0.74256059 0.29439861 0.44600315\n",
            "  0.87617155 0.302414   0.20876413 0.7463345  0.88307378 0.91758155\n",
            "  0.71205526 0.2361772  0.74150236 0.11088858 0.49224238 0.77544238\n",
            "  0.95486141 0.44912509 0.55826304 1.0306977  0.7031329  0.71922778\n",
            "  0.11960693 0.69473855 0.94321181 0.69512719 0.97986772 1.13540426\n",
            "  0.86610211 0.6193417  0.92523327 0.86322773 0.50032051 0.26621703\n",
            "  0.49397102 0.         0.30410241 0.82913024 1.0784036  0.91788433\n",
            "  0.35368851 0.94727015 0.1297324  0.32251512 0.52946441 0.39565853\n",
            "  0.89866485 0.88114239 0.55963672 0.49571813]\n",
            " [0.2972071  0.15994114 0.56312024 0.18757092 0.5040895  0.27136519\n",
            "  0.29539793 0.3450983  0.50142878 0.62297067 0.62862975 0.4215529\n",
            "  0.53304167 0.50922891 0.65768917 0.32872414 0.76097957 0.47458648\n",
            "  0.57653068 0.25287833 0.36697374 0.52639486 0.08184732 0.30370208\n",
            "  0.42487803 0.68540979 0.68495761 0.2309952  0.34802035 0.65534185\n",
            "  0.45332594 0.72781719 0.71630619 0.49491397 0.36245882 0.36994\n",
            "  0.51001516 0.46030938 0.27183625 0.32701981 0.46783894 0.72092944\n",
            "  0.40489426 0.43919015 0.26936395 0.33313158 0.8038293  0.55552545\n",
            "  0.48903623 0.28126634 0.53902463 0.50198599 0.09391518 0.45051018\n",
            "  0.61513276 0.1629652  0.27684616 0.45467137 0.64846773 0.66636395\n",
            "  0.40798917 0.16269962 0.67305733 0.219328   0.1935918  0.64140345\n",
            "  0.79928339 0.18337162 0.5773648  0.79981207 0.4075411  0.41519259\n",
            "  0.34469113 0.40130841 0.65177165 0.49886202 0.70841308 0.89638663\n",
            "  0.80383972 0.42487082 0.70387627 0.74971877 0.5843498  0.42948739\n",
            "  0.38820688 0.30410241 0.         0.78174446 0.83131859 0.68993461\n",
            "  0.43477476 0.68733878 0.42049824 0.44827701 0.24225876 0.18694001\n",
            "  0.60256832 0.78547132 0.41979201 0.20623059]\n",
            " [0.60192532 0.64542986 0.28729003 0.60755408 1.09693883 0.99272918\n",
            "  0.69442042 1.01525339 0.53277793 0.60670731 0.64345558 0.83341497\n",
            "  1.01585656 1.08296844 0.17244929 0.84622892 0.12723892 0.34133455\n",
            "  0.31563043 0.59074363 0.63818298 0.46491745 0.85730436 0.94102001\n",
            "  0.70189458 0.28589851 0.44713073 0.55293006 0.50799814 0.78686363\n",
            "  0.54157185 0.134887   0.44093686 0.51421706 0.51565918 0.99538716\n",
            "  0.74705194 0.58667419 0.87782699 0.66083501 1.08521616 0.76880728\n",
            "  0.44664687 0.64932581 0.86105595 0.67195297 0.29548024 0.43270485\n",
            "  0.35496645 0.71451796 0.52021378 0.55174848 0.69051473 0.38316838\n",
            "  0.65594693 0.62504823 0.62331261 0.76379554 0.55564619 0.63041116\n",
            "  0.90125003 0.66059908 0.11339281 0.86138008 0.75357424 0.24605706\n",
            "  0.32556006 0.66386445 0.28520313 0.60150322 0.9969292  0.88746423\n",
            "  0.72692283 0.75903432 0.84800797 0.42814339 0.74836666 0.69179122\n",
            "  0.05063523 0.44862794 0.52208289 0.18158019 0.39341191 0.60428353\n",
            "  0.39407812 0.82913024 0.78174446 0.         0.69038745 0.54275601\n",
            "  0.48858751 0.67917363 0.81300001 0.54010551 0.92910474 0.96487275\n",
            "  0.86204843 0.13670173 0.38119182 0.90261469]\n",
            " [0.5376273  0.6859545  0.48562991 0.78594491 0.76731215 0.84974763\n",
            "  0.98364848 0.80319148 0.99299107 0.20869292 0.20489589 0.51899578\n",
            "  0.62635813 0.74142988 0.76116378 1.10417232 0.79730526 0.53127589\n",
            "  0.4396036  0.84758479 0.98873569 0.95100379 0.90510566 0.73905632\n",
            "  0.42712238 0.8967323  0.25449074 0.73233637 0.84327961 0.2623278\n",
            "  0.38795228 0.55661763 0.25176896 0.97263014 0.49871758 0.7488561\n",
            "  0.37062138 1.01037096 0.693429   0.97909355 0.78501754 0.18301556\n",
            "  0.49977526 1.04601122 1.07018066 0.99239053 0.41227061 0.34868195\n",
            "  0.80141946 0.98918173 0.31080203 0.33609315 0.79381223 0.79285825\n",
            "  0.22153625 0.77600792 0.90690064 0.43387265 0.19857526 0.16499631\n",
            "  0.59817728 0.84231496 0.62888346 1.03364258 0.65912221 0.46906681\n",
            "  0.37963811 0.64920769 0.81150442 0.08934757 0.71509033 0.57712225\n",
            "  1.04130322 0.47976805 0.32618934 0.40534274 0.17666544 0.07497164\n",
            "  0.65607427 0.47193393 0.18291545 0.5096594  0.92699551 1.00406241\n",
            "  0.64299215 1.0784036  0.83131859 0.69038745 0.         0.17532933\n",
            "  0.90314004 0.15356649 1.14541011 0.96239109 0.78291174 0.93000612\n",
            "  0.38462204 0.56207056 0.56721663 0.78293086]\n",
            " [0.3927747  0.53648692 0.31325709 0.62353471 0.72323349 0.75199299\n",
            "  0.81697872 0.72227805 0.81782287 0.10345041 0.13244678 0.44950957\n",
            "  0.59715139 0.70032002 0.59462326 0.94327665 0.63982064 0.3559527\n",
            "  0.26741932 0.67996714 0.81763291 0.77570684 0.7677914  0.65102365\n",
            "  0.32788181 0.72787798 0.09613004 0.56715318 0.67039829 0.27029653\n",
            "  0.23662779 0.40800611 0.11148851 0.79742197 0.33879441 0.67529471\n",
            "  0.30662157 0.8361119  0.59677522 0.80999806 0.73147565 0.23088978\n",
            "  0.33004695 0.87315953 0.91420143 0.82339672 0.29782541 0.17380688\n",
            "  0.6262683  0.82395002 0.15145111 0.18895792 0.64158467 0.61753488\n",
            "  0.15270043 0.61632414 0.73881329 0.35904998 0.04650924 0.09904674\n",
            "  0.5325513  0.68205372 0.46825445 0.88148011 0.53524928 0.30661872\n",
            "  0.2682176  0.50670223 0.63869446 0.11281585 0.6510243  0.51225598\n",
            "  0.87372395 0.39127689 0.3398839  0.2320941  0.21153637 0.21924478\n",
            "  0.51510753 0.30231424 0.02792596 0.36878052 0.75278102 0.83062577\n",
            "  0.46883855 0.91788433 0.68993461 0.54275601 0.17532933 0.\n",
            "  0.72830434 0.14278725 0.9781072  0.78780792 0.68201867 0.81034109\n",
            "  0.37742103 0.42547123 0.39286089 0.67508513]\n",
            " [0.47197987 0.38819958 0.44096279 0.25856858 0.90644962 0.7033146\n",
            "  0.22140745 0.76594601 0.09381113 0.720994   0.74705302 0.72662079\n",
            "  0.89091737 0.90453151 0.31962317 0.3667762  0.4102664  0.37422025\n",
            "  0.48282145 0.18189769 0.15148541 0.09195358 0.48310637 0.7088243\n",
            "  0.64669149 0.27998706 0.66708405 0.25405633 0.09302127 0.84720104\n",
            "  0.5513811  0.51122349 0.68612981 0.07634076 0.44454268 0.7759016\n",
            "  0.73159972 0.11180504 0.65784583 0.18129782 0.87715332 0.87810806\n",
            "  0.41379262 0.16563799 0.39661356 0.19018418 0.66458881 0.55453626\n",
            "  0.13661221 0.24443197 0.60402963 0.59768477 0.34903969 0.1214444\n",
            "  0.74556332 0.28725678 0.17364947 0.70602822 0.70737667 0.76438089\n",
            "  0.75572824 0.27253423 0.41693894 0.41327765 0.52999261 0.49736828\n",
            "  0.67830566 0.43827527 0.20740951 0.83433002 0.80157644 0.75287924\n",
            "  0.24197701 0.66851558 0.87863239 0.49867897 0.85896149 0.94319414\n",
            "  0.53054301 0.44027227 0.72561353 0.55907705 0.15629498 0.11902759\n",
            "  0.26125155 0.35368851 0.43477476 0.48858751 0.90314004 0.72830434\n",
            "  0.         0.80643468 0.32444008 0.06112008 0.66232687 0.61261567\n",
            "  0.85577134 0.56334202 0.33623719 0.6269984 ]\n",
            " [0.39985753 0.54853601 0.42829676 0.65965771 0.62313221 0.6961815\n",
            "  0.86151446 0.65062149 0.89908603 0.08606607 0.0617622  0.366815\n",
            "  0.48667407 0.59811558 0.71517355 0.9733133  0.76950969 0.44960347\n",
            "  0.38480069 0.72843523 0.87568936 0.8648057  0.75874416 0.58572934\n",
            "  0.27478377 0.84331641 0.23721672 0.61072221 0.73718577 0.13366755\n",
            "  0.26240002 0.54527663 0.25422808 0.87956854 0.37600526 0.59716567\n",
            "  0.21779521 0.9086709  0.53987616 0.8614812  0.6379827  0.08966602\n",
            "  0.39293871 0.93780497 0.93457348 0.87445728 0.44032254 0.27118241\n",
            "  0.72005507 0.86473476 0.20318611 0.21175605 0.65716473 0.70525057\n",
            "  0.07223205 0.64658957 0.78797341 0.2805825  0.1237444  0.04914794\n",
            "  0.44717092 0.71276792 0.59715825 0.89510752 0.50960927 0.43701628\n",
            "  0.41026281 0.50774199 0.74553527 0.17061561 0.56505608 0.42611968\n",
            "  0.92029189 0.32622329 0.20411799 0.31422602 0.06946152 0.22731783\n",
            "  0.65423414 0.36618121 0.1690094  0.50907615 0.85254774 0.89844962\n",
            "  0.54593356 0.94727015 0.68733878 0.67917363 0.15356649 0.14278725\n",
            "  0.80643468 0.         1.02323522 0.86314664 0.62941106 0.77825628\n",
            "  0.25133524 0.56632662 0.4734027  0.62986491]\n",
            " [0.63158499 0.4920891  0.73164581 0.36422418 0.91749364 0.66305799\n",
            "  0.16191777 0.75075572 0.29832555 0.94386686 0.96147308 0.83006569\n",
            "  0.95343711 0.925342   0.64319046 0.11537883 0.72944022 0.64982087\n",
            "  0.76729623 0.29815727 0.17840595 0.3652037  0.41049737 0.72069895\n",
            "  0.79959606 0.58169591 0.93613731 0.41344804 0.32836576 1.02733241\n",
            "  0.7617282  0.82946859 0.96062711 0.31159476 0.64845917 0.78482994\n",
            "  0.88962728 0.23536146 0.69232874 0.17093752 0.87832417 1.07829092\n",
            "  0.64812652 0.17020891 0.18762507 0.15748819 0.97142721 0.8097268\n",
            "  0.45980111 0.15947621 0.83463449 0.81344497 0.39176364 0.43749284\n",
            "  0.9539696  0.38039985 0.2394178  0.84461247 0.94732105 0.98942151\n",
            "  0.82645969 0.31661128 0.73848354 0.24059594 0.5998902  0.7986232\n",
            "  0.9809559  0.54364248 0.53008748 1.09009035 0.82563143 0.83199912\n",
            "  0.10441664 0.79502701 1.03917203 0.74839466 1.06194853 1.19732189\n",
            "  0.85483104 0.67580803 0.98212607 0.87400665 0.4477063  0.21106062\n",
            "  0.52584148 0.1297324  0.42049824 0.81300001 1.14541011 0.9781072\n",
            "  0.32444008 1.02323522 0.         0.27552431 0.6538157  0.52515306\n",
            "  0.9989636  0.88359584 0.59854257 0.61927823]\n",
            " [0.51825919 0.42236863 0.50207287 0.285192   0.93406342 0.71944052\n",
            "  0.19848476 0.78748457 0.05323757 0.77803331 0.80329669 0.76754026\n",
            "  0.92687618 0.9337734  0.36887738 0.33206911 0.45394859 0.43458129\n",
            "  0.54384133 0.20046366 0.1163769  0.09709426 0.48758872 0.73429523\n",
            "  0.69430324 0.31072101 0.72770563 0.29254897 0.13293031 0.89986957\n",
            "  0.60603158 0.56931672 0.74700328 0.04926596 0.49719358 0.80177669\n",
            "  0.78067538 0.05083972 0.68643878 0.15527307 0.9028106  0.93326827\n",
            "  0.47020802 0.10929851 0.37126209 0.16052459 0.7247901  0.61400104\n",
            "  0.19397927 0.2222046  0.66137278 0.65332866 0.36911932 0.18212593\n",
            "  0.80113459 0.31356668 0.17336668 0.7520993  0.76601688 0.82179246\n",
            "  0.79173709 0.28630724 0.47370731 0.39553561 0.5622468  0.55823338\n",
            "  0.73889828 0.47442949 0.25551218 0.89441991 0.83034266 0.79021404\n",
            "  0.20484957 0.71239046 0.92894425 0.55742731 0.91436785 1.00330841\n",
            "  0.58366112 0.49709047 0.78559042 0.61805677 0.17813863 0.0645779\n",
            "  0.31962835 0.32251512 0.44827701 0.54010551 0.96239109 0.78780792\n",
            "  0.06112008 0.86314664 0.27552431 0.         0.68343969 0.61826473\n",
            "  0.90360875 0.62046727 0.39518666 0.64757796]\n",
            " [0.33936716 0.29579097 0.66661848 0.40404863 0.26382401 0.07068996\n",
            "  0.53749768 0.10405241 0.73662693 0.59075473 0.58189601 0.27839853\n",
            "  0.31959677 0.27186692 0.83505215 0.55151954 0.93541105 0.59150553\n",
            "  0.66348348 0.48353814 0.6085727  0.7541288  0.24611202 0.07253392\n",
            "  0.35842944 0.88870931 0.71042448 0.42416016 0.57092524 0.55318749\n",
            "  0.46867039 0.84648534 0.74336141 0.7281036  0.42871379 0.13132884\n",
            "  0.4158951  0.69964637 0.09011686 0.56912636 0.22599375 0.63261855\n",
            "  0.49344442 0.68121563 0.48297166 0.57538287 0.87617207 0.59904893\n",
            "  0.6911933  0.52266475 0.54796871 0.50221556 0.31446696 0.65372048\n",
            "  0.56311939 0.37550082 0.51576777 0.35172723 0.6357569  0.62573157\n",
            "  0.22349212 0.39808515 0.81582336 0.42704464 0.17668398 0.73948513\n",
            "  0.86288541 0.26634214 0.77399066 0.77766302 0.17559942 0.23973005\n",
            "  0.58529196 0.30323859 0.52494915 0.55793458 0.62636286 0.8558126\n",
            "  0.94030318 0.50149358 0.70341998 0.85369364 0.80313641 0.66976886\n",
            "  0.54710323 0.52946441 0.24225876 0.92910474 0.78291174 0.68201867\n",
            "  0.66232687 0.62941106 0.6538157  0.68343969 0.         0.17655261\n",
            "  0.4636786  0.90011066 0.5479196  0.03614394]\n",
            " [0.42988666 0.32481999 0.73219972 0.37396871 0.41504448 0.15003677\n",
            "  0.44087914 0.24510082 0.67044546 0.72840007 0.72548199 0.44700549\n",
            "  0.49329816 0.42950234 0.84438612 0.41370259 0.94763017 0.6468164\n",
            "  0.73968934 0.43224672 0.52272913 0.70288577 0.13071497 0.2476289\n",
            "  0.50349587 0.87081148 0.82267168 0.41731557 0.52994208 0.71611552\n",
            "  0.58045897 0.90356847 0.85525655 0.66664266 0.5109377  0.2952763\n",
            "  0.57352042 0.62218724 0.25822782 0.47985002 0.37206208 0.79228238\n",
            "  0.56478999 0.58941084 0.34103741 0.4824365  0.96400896 0.69956848\n",
            "  0.6752844  0.42114545 0.66542111 0.62269774 0.2808552  0.63677696\n",
            "  0.70847944 0.34988221 0.44501074 0.51040759 0.76552563 0.76758957\n",
            "  0.39916236 0.34150331 0.85469547 0.28551921 0.27509188 0.80960872\n",
            "  0.95583853 0.32462966 0.76393746 0.91375543 0.34432228 0.41441518\n",
            "  0.47687017 0.45813372 0.69420368 0.64872745 0.78388117 1.00049592\n",
            "  0.9847483  0.58036971 0.82854007 0.92103811 0.76559814 0.5892728\n",
            "  0.57080806 0.39565853 0.18694001 0.96487275 0.93000612 0.81034109\n",
            "  0.61261567 0.77825628 0.52515306 0.61826473 0.17655261 0.\n",
            "  0.63495192 0.96043792 0.59461129 0.15820473]\n",
            " [0.38564016 0.50832109 0.58079055 0.64609032 0.38612561 0.51957683\n",
            "  0.8452597  0.45182256 0.94885248 0.27837254 0.24529294 0.18849008\n",
            "  0.24236422 0.35945585 0.85548812 0.92445339 0.92974867 0.56366472\n",
            "  0.5469783  0.72968748 0.88313402 0.9317183  0.65606314 0.40260424\n",
            "  0.20930658 0.96613618 0.45841837 0.61621836 0.7707033  0.12246291\n",
            "  0.33535694 0.73596429 0.48361784 0.93211066 0.41862557 0.39188537\n",
            "  0.12652212 0.94124155 0.37692217 0.85781433 0.4084279  0.20337397\n",
            "  0.47037787 0.9538719  0.87080056 0.86917867 0.66710869 0.42946595\n",
            "  0.80523448 0.8415139  0.34193697 0.31231456 0.60772362 0.78003997\n",
            "  0.22596928 0.62425119 0.78539733 0.15494726 0.34016322 0.28108674\n",
            "  0.24523753 0.68397751 0.76308526 0.82189496 0.40904658 0.61718108\n",
            "  0.64016965 0.4556667  0.85485419 0.42136851 0.34981417 0.22622323\n",
            "  0.90404416 0.20417706 0.0652181  0.44065013 0.20797119 0.45846821\n",
            "  0.84738945 0.45214506 0.40534631 0.71168105 0.94148121 0.92266389\n",
            "  0.6181701  0.89866485 0.60256832 0.86204843 0.38462204 0.37742103\n",
            "  0.85577134 0.25133524 0.9989636  0.90360875 0.4636786  0.63495192\n",
            "  0.         0.76939874 0.56223948 0.47679893]\n",
            " [0.5620316  0.6356286  0.233499   0.62816691 1.03985037 0.96744682\n",
            "  0.74938256 0.97734445 0.62297205 0.50107203 0.53776298 0.76651724\n",
            "  0.94491639 1.02319261 0.27589332 0.9009366  0.26088159 0.31384245\n",
            "  0.2429666  0.63029374 0.70536397 0.55854622 0.8651991  0.9016115\n",
            "  0.63094775 0.40705572 0.32951716 0.56798686 0.56166844 0.68293883\n",
            "  0.47032559 0.0581996  0.31791121 0.6029336  0.4724792  0.94997455\n",
            "  0.66273179 0.66995884 0.83836386 0.7211235  1.03322302 0.65563689\n",
            "  0.40666648 0.72872383 0.90524534 0.73340946 0.15913924 0.34540532\n",
            "  0.42687668 0.76702304 0.43080597 0.4689574  0.69991026 0.44614902\n",
            "  0.55263835 0.64034418 0.67237906 0.6888748  0.44507842 0.51878605\n",
            "  0.84056446 0.68666938 0.14684741 0.8972372  0.72363269 0.16445457\n",
            "  0.18990064 0.64307427 0.37735126 0.47274295 0.94490021 0.82467146\n",
            "  0.78969672 0.6928179  0.74781577 0.35854622 0.63575616 0.55873711\n",
            "  0.09481301 0.40019936 0.40229985 0.0579206  0.49669783 0.68226715\n",
            "  0.40440813 0.88114239 0.78547132 0.13670173 0.56207056 0.42547123\n",
            "  0.56334202 0.56632662 0.88359584 0.62046727 0.90011066 0.96043792\n",
            "  0.76939874 0.         0.36621551 0.8775552 ]\n",
            " [0.22761829 0.27009054 0.147625   0.27655048 0.72700736 0.61195214\n",
            "  0.44207693 0.63500231 0.42734447 0.3874168  0.41575245 0.48135845\n",
            "  0.66372109 0.71573532 0.30861607 0.58305955 0.40014939 0.05709132\n",
            "  0.1732182  0.30626603 0.4297844  0.39145664 0.50020213 0.56148554\n",
            "  0.36546117 0.40537693 0.33906471 0.21394761 0.27930046 0.52934547\n",
            "  0.23139325 0.30902833 0.3623678  0.40739349 0.1518857  0.61815171\n",
            "  0.43599807 0.44326102 0.49865533 0.42773563 0.7113398  0.54964194\n",
            "  0.09186315 0.4814819  0.57062642 0.44122398 0.39575878 0.21914933\n",
            "  0.24946781 0.45352242 0.27021674 0.27072243 0.33691212 0.2319911\n",
            "  0.41667968 0.28285941 0.36129859 0.43008996 0.37115716 0.42975098\n",
            "  0.5384152  0.33816418 0.26790945 0.55217138 0.37252973 0.22520962\n",
            "  0.3975923  0.28323174 0.2926454  0.50089317 0.6239589  0.52763001\n",
            "  0.4948711  0.40969876 0.57152777 0.16245787 0.52975871 0.60971522\n",
            "  0.39400004 0.11258173 0.39183098 0.33022211 0.38500393 0.43822206\n",
            "  0.07607623 0.55963672 0.41979201 0.38119182 0.56721663 0.39286089\n",
            "  0.33623719 0.4734027  0.59854257 0.39518666 0.5479196  0.59461129\n",
            "  0.56223948 0.36621551 0.         0.52174798]\n",
            " [0.31969507 0.2645795  0.64429021 0.3689545  0.29896556 0.09025013\n",
            "  0.50155005 0.14003766 0.70077932 0.58671921 0.58007819 0.2890947\n",
            "  0.34751001 0.30606429 0.80487106 0.51812602 0.90577773 0.56699368\n",
            "  0.64320632 0.4478199  0.57243403 0.71885395 0.21345479 0.10269539\n",
            "  0.3562018  0.85586641 0.69881691 0.39073835 0.53584162 0.56044289\n",
            "  0.45579959 0.82322419 0.73175781 0.6923933  0.40821333 0.16557595\n",
            "  0.41989661 0.66355395 0.10003619 0.53302501 0.26174942 0.63816794\n",
            "  0.47125172 0.64510015 0.45035623 0.53932775 0.85903261 0.58394797\n",
            "  0.65812223 0.48687733 0.53719002 0.49209876 0.27874621 0.62046228\n",
            "  0.56195422 0.34048721 0.4796676  0.35606294 0.62915089 0.62336886\n",
            "  0.24258962 0.36205885 0.78952503 0.39469849 0.15484768 0.71829324\n",
            "  0.84686717 0.23876996 0.74163973 0.7735585  0.207666   0.25695068\n",
            "  0.54966189 0.30527835 0.53640802 0.54029248 0.63079784 0.854988\n",
            "  0.91516367 0.48088105 0.6955373  0.83231222 0.76868118 0.63364031\n",
            "  0.51765311 0.49571813 0.20623059 0.90261469 0.78293086 0.67508513\n",
            "  0.6269984  0.62986491 0.61927823 0.64757796 0.03614394 0.15820473\n",
            "  0.47679893 0.8775552  0.52174798 0.        ]]\n"
          ]
        }
      ],
      "source": [
        "Z = np.random.random((100,2))\n",
        "X,Y = np.atleast_2d(Z[:,0], Z[:,1])\n",
        "dist = np.sqrt( (X-X.T)**2 + (Y-Y.T)**2)\n",
        "print(dist)"
      ]
    },
    {
      "cell_type": "markdown",
      "metadata": {
        "id": "yMS3d01ybUMb"
      },
      "source": [
        "#### 53. How to convert a float (32 bits) array into an integer (32 bits) in place? \n",
        "(**hint**: astype(copy=False))"
      ]
    },
    {
      "cell_type": "code",
      "execution_count": 97,
      "metadata": {
        "id": "aWxW02iIbUMb",
        "colab": {
          "base_uri": "https://localhost:8080/"
        },
        "outputId": "6f66d72d-ad72-47cd-8ba2-3ccc342f9ae9"
      },
      "outputs": [
        {
          "output_type": "stream",
          "name": "stdout",
          "text": [
            "[0 1 2 3 4 5 6 7 8 9]\n"
          ]
        }
      ],
      "source": [
        "Z = np.arange(10, dtype=np.float32)\n",
        "Z = Z.astype(np.int32, copy=False)\n",
        "print(Z)"
      ]
    },
    {
      "cell_type": "markdown",
      "metadata": {
        "id": "bOg7DgM8bUMb"
      },
      "source": [
        "#### 54. How to read the following file? (★★☆) \n",
        "(**hint**: np.genfromtxt)"
      ]
    },
    {
      "cell_type": "markdown",
      "metadata": {
        "id": "-6IKnJg9bUMb"
      },
      "source": [
        "```\n",
        "1, 2, 3, 4, 5\n",
        "6,  ,  , 7, 8\n",
        " ,  , 9,10,11\n",
        "```"
      ]
    },
    {
      "cell_type": "code",
      "execution_count": 98,
      "metadata": {
        "id": "KoQ1TLHNbUMb",
        "colab": {
          "base_uri": "https://localhost:8080/"
        },
        "outputId": "08699b17-cacf-4f37-ff0b-4ec178fc62cc"
      },
      "outputs": [
        {
          "output_type": "stream",
          "name": "stdout",
          "text": [
            "[[ 1  2  3  4  5]\n",
            " [ 6 -1 -1  7  8]\n",
            " [-1 -1  9 10 11]]\n"
          ]
        },
        {
          "output_type": "stream",
          "name": "stderr",
          "text": [
            "/usr/local/lib/python3.7/dist-packages/ipykernel_launcher.py:6: DeprecationWarning: `np.int` is a deprecated alias for the builtin `int`. To silence this warning, use `int` by itself. Doing this will not modify any behavior and is safe. When replacing `np.int`, you may wish to use e.g. `np.int64` or `np.int32` to specify the precision. If you wish to review your current use, check the release note link for additional information.\n",
            "Deprecated in NumPy 1.20; for more details and guidance: https://numpy.org/devdocs/release/1.20.0-notes.html#deprecations\n",
            "  \n"
          ]
        }
      ],
      "source": [
        "from io import StringIO\n",
        "\n",
        "s = StringIO(\"\"\"1, 2, 3, 4, 5\\n\n",
        "                6,  ,  , 7, 8\\n\n",
        "                 ,  , 9,10,11\\n\"\"\")\n",
        "Z = np.genfromtxt(s, delimiter=\",\", dtype=np.int)\n",
        "print(Z)"
      ]
    },
    {
      "cell_type": "markdown",
      "metadata": {
        "id": "F-CjgiJkbUMc"
      },
      "source": [
        "#### 55. What is the equivalent of enumerate for numpy arrays? (★★☆) \n",
        "(**hint**: np.ndenumerate, np.ndindex)"
      ]
    },
    {
      "cell_type": "code",
      "execution_count": 99,
      "metadata": {
        "id": "OQhhmwPnbUMc",
        "colab": {
          "base_uri": "https://localhost:8080/"
        },
        "outputId": "29c45415-5d9c-4a05-cc24-52e35938b8f6"
      },
      "outputs": [
        {
          "output_type": "stream",
          "name": "stdout",
          "text": [
            "(0, 0) 0\n",
            "(0, 1) 1\n",
            "(0, 2) 2\n",
            "(1, 0) 3\n",
            "(1, 1) 4\n",
            "(1, 2) 5\n",
            "(2, 0) 6\n",
            "(2, 1) 7\n",
            "(2, 2) 8\n",
            "(0, 0) 0\n",
            "(0, 1) 1\n",
            "(0, 2) 2\n",
            "(1, 0) 3\n",
            "(1, 1) 4\n",
            "(1, 2) 5\n",
            "(2, 0) 6\n",
            "(2, 1) 7\n",
            "(2, 2) 8\n"
          ]
        }
      ],
      "source": [
        "Z = np.arange(9).reshape(3,3)\n",
        "for index, value in np.ndenumerate(Z):\n",
        "    print(index, value)\n",
        "for index in np.ndindex(Z.shape):\n",
        "    print(index, Z[index])"
      ]
    },
    {
      "cell_type": "markdown",
      "metadata": {
        "id": "JW4OJRU6bUMc"
      },
      "source": [
        "#### 56. Generate a generic 2D Gaussian-like array (★★☆) \n",
        "(**hint**: np.meshgrid, np.exp)"
      ]
    },
    {
      "cell_type": "code",
      "execution_count": 100,
      "metadata": {
        "id": "MjHMqBLhbUMc",
        "colab": {
          "base_uri": "https://localhost:8080/"
        },
        "outputId": "0dba3237-3848-4766-8b49-90d9e95511e3"
      },
      "outputs": [
        {
          "output_type": "stream",
          "name": "stdout",
          "text": [
            "[[0.36787944 0.44822088 0.51979489 0.57375342 0.60279818 0.60279818\n",
            "  0.57375342 0.51979489 0.44822088 0.36787944]\n",
            " [0.44822088 0.54610814 0.63331324 0.69905581 0.73444367 0.73444367\n",
            "  0.69905581 0.63331324 0.54610814 0.44822088]\n",
            " [0.51979489 0.63331324 0.73444367 0.81068432 0.85172308 0.85172308\n",
            "  0.81068432 0.73444367 0.63331324 0.51979489]\n",
            " [0.57375342 0.69905581 0.81068432 0.89483932 0.9401382  0.9401382\n",
            "  0.89483932 0.81068432 0.69905581 0.57375342]\n",
            " [0.60279818 0.73444367 0.85172308 0.9401382  0.98773022 0.98773022\n",
            "  0.9401382  0.85172308 0.73444367 0.60279818]\n",
            " [0.60279818 0.73444367 0.85172308 0.9401382  0.98773022 0.98773022\n",
            "  0.9401382  0.85172308 0.73444367 0.60279818]\n",
            " [0.57375342 0.69905581 0.81068432 0.89483932 0.9401382  0.9401382\n",
            "  0.89483932 0.81068432 0.69905581 0.57375342]\n",
            " [0.51979489 0.63331324 0.73444367 0.81068432 0.85172308 0.85172308\n",
            "  0.81068432 0.73444367 0.63331324 0.51979489]\n",
            " [0.44822088 0.54610814 0.63331324 0.69905581 0.73444367 0.73444367\n",
            "  0.69905581 0.63331324 0.54610814 0.44822088]\n",
            " [0.36787944 0.44822088 0.51979489 0.57375342 0.60279818 0.60279818\n",
            "  0.57375342 0.51979489 0.44822088 0.36787944]]\n"
          ]
        }
      ],
      "source": [
        "X, Y = np.meshgrid(np.linspace(-1,1,10), np.linspace(-1,1,10))\n",
        "D = np.sqrt(X*X+Y*Y)\n",
        "sigma, mu = 1.0, 0.0\n",
        "G = np.exp(-( (D-mu)**2 / ( 2.0 * sigma**2 ) ) )\n",
        "print(G)"
      ]
    },
    {
      "cell_type": "markdown",
      "metadata": {
        "id": "CfsYi5OnbUMc"
      },
      "source": [
        "#### 57. How to randomly place p elements in a 2D array? (★★☆) \n",
        "(**hint**: np.put, np.random.choice)"
      ]
    },
    {
      "cell_type": "code",
      "execution_count": 101,
      "metadata": {
        "id": "NXXsRx_UbUMc",
        "colab": {
          "base_uri": "https://localhost:8080/"
        },
        "outputId": "9b3ee5e9-879c-4af8-be1c-1f6651618679"
      },
      "outputs": [
        {
          "output_type": "stream",
          "name": "stdout",
          "text": [
            "[[0. 0. 0. 0. 0. 0. 0. 1. 0. 0.]\n",
            " [0. 0. 0. 0. 0. 0. 0. 0. 0. 0.]\n",
            " [0. 0. 0. 0. 0. 0. 0. 0. 0. 0.]\n",
            " [0. 0. 0. 0. 0. 0. 0. 0. 0. 0.]\n",
            " [0. 0. 0. 0. 0. 1. 0. 0. 0. 0.]\n",
            " [0. 0. 0. 0. 1. 0. 0. 0. 0. 0.]\n",
            " [0. 0. 0. 0. 0. 0. 0. 1. 0. 0.]\n",
            " [0. 0. 0. 0. 0. 0. 0. 0. 0. 0.]\n",
            " [0. 0. 0. 0. 0. 0. 0. 0. 0. 0.]\n",
            " [0. 0. 0. 0. 0. 0. 0. 0. 1. 0.]]\n"
          ]
        }
      ],
      "source": [
        "n = 10\n",
        "p = 5\n",
        "Z = np.zeros((n,n))\n",
        "np.put(Z, np.random.choice(range(n*n), p, replace=False),1)\n",
        "print(Z)"
      ]
    },
    {
      "cell_type": "markdown",
      "metadata": {
        "id": "e3HsaSWibUMc"
      },
      "source": [
        "#### 58. Subtract the mean of each row of a matrix (★★☆) \n",
        "(**hint**: mean(axis=,keepdims=))"
      ]
    },
    {
      "cell_type": "code",
      "execution_count": 102,
      "metadata": {
        "id": "faBQX9wxbUMc",
        "colab": {
          "base_uri": "https://localhost:8080/"
        },
        "outputId": "584ce1fd-e111-488c-9ff3-f99b5d2b4992"
      },
      "outputs": [
        {
          "output_type": "stream",
          "name": "stdout",
          "text": [
            "[[ 0.46926194  0.14579558 -0.09038044 -0.36739319 -0.22174765 -0.13611526\n",
            "   0.46542322 -0.35321891 -0.03255604  0.12093075]\n",
            " [ 0.01178116 -0.38359686 -0.10873329  0.34895782  0.29292893  0.06299675\n",
            "  -0.20569472  0.42852617 -0.29554966 -0.15161631]\n",
            " [ 0.01139316 -0.1455394  -0.32286873 -0.33270599  0.36375818 -0.0464335\n",
            "   0.42914429  0.32704542 -0.10898355 -0.17480988]\n",
            " [-0.23172634 -0.18364674  0.07933944 -0.01862683 -0.18739273  0.5334023\n",
            "   0.06598686 -0.2874407   0.12690166  0.10320309]\n",
            " [-0.124908   -0.11647598  0.28278015  0.14978457 -0.22381523 -0.36338736\n",
            "   0.27494584  0.28641373  0.2040924  -0.36943011]]\n"
          ]
        }
      ],
      "source": [
        "X = np.random.rand(5, 10)\n",
        "\n",
        "Y = X - X.mean(axis=1, keepdims=True)\n",
        "print(Y)"
      ]
    },
    {
      "cell_type": "markdown",
      "metadata": {
        "id": "dNhzZ2hKbUMd"
      },
      "source": [
        "#### 59. How to sort an array by the nth column? (★★☆) \n",
        "(**hint**: argsort)"
      ]
    },
    {
      "cell_type": "code",
      "execution_count": 103,
      "metadata": {
        "id": "ZuBFgROMbUMd",
        "colab": {
          "base_uri": "https://localhost:8080/"
        },
        "outputId": "c69dfdef-dad5-4bb9-9f61-d34a5adf6587"
      },
      "outputs": [
        {
          "output_type": "stream",
          "name": "stdout",
          "text": [
            "[[0 1 2]\n",
            " [4 7 7]\n",
            " [7 7 3]]\n",
            "[[0 1 2]\n",
            " [4 7 7]\n",
            " [7 7 3]]\n"
          ]
        }
      ],
      "source": [
        "Z = np.random.randint(0,10,(3,3))\n",
        "print(Z)\n",
        "print(Z[Z[:,1].argsort()])"
      ]
    },
    {
      "cell_type": "markdown",
      "metadata": {
        "id": "IUBqxqm8bUMd"
      },
      "source": [
        "#### 60. How to tell if a given 2D array has null columns? (★★☆) \n",
        "(**hint**: any, ~)"
      ]
    },
    {
      "cell_type": "code",
      "execution_count": 104,
      "metadata": {
        "id": "VPcEmYh3bUMd",
        "colab": {
          "base_uri": "https://localhost:8080/"
        },
        "outputId": "b57e43cc-e8e2-42c6-8916-200d6272b579"
      },
      "outputs": [
        {
          "output_type": "stream",
          "name": "stdout",
          "text": [
            "False\n"
          ]
        }
      ],
      "source": [
        "Z = np.random.randint(0,3,(3,10))\n",
        "print((~Z.any(axis=0)).any())"
      ]
    },
    {
      "cell_type": "markdown",
      "metadata": {
        "id": "6Smv96zWbUMd"
      },
      "source": [
        "#### 61. Find the nearest value from a given value in an array (★★☆) \n",
        "(**hint**: np.abs, argmin, flat)"
      ]
    },
    {
      "cell_type": "code",
      "execution_count": 105,
      "metadata": {
        "id": "pGV9efrebUMd",
        "colab": {
          "base_uri": "https://localhost:8080/"
        },
        "outputId": "f8f4ac26-5c95-447b-8d37-610be300a4d8"
      },
      "outputs": [
        {
          "output_type": "stream",
          "name": "stdout",
          "text": [
            "0.497822539818945\n"
          ]
        }
      ],
      "source": [
        "Z = np.random.uniform(0,1,10)\n",
        "a = 0.5\n",
        "m = Z.flat[np.abs(Z - a).argmin()]\n",
        "print(m)"
      ]
    },
    {
      "cell_type": "markdown",
      "metadata": {
        "id": "9Quxr3E1bUMd"
      },
      "source": [
        "#### 62. Considering two arrays with shape (1,3) and (3,1), how to compute their sum using an iterator? (★★☆) \n",
        "(**hint**: np.nditer)"
      ]
    },
    {
      "cell_type": "code",
      "execution_count": 106,
      "metadata": {
        "id": "VPzJ0BakbUMd",
        "colab": {
          "base_uri": "https://localhost:8080/"
        },
        "outputId": "ae5987fa-3005-4839-e9a7-7beb956c3c9b"
      },
      "outputs": [
        {
          "output_type": "stream",
          "name": "stdout",
          "text": [
            "[[0 1 2]\n",
            " [1 2 3]\n",
            " [2 3 4]]\n"
          ]
        }
      ],
      "source": [
        "A = np.arange(3).reshape(3,1)\n",
        "B = np.arange(3).reshape(1,3)\n",
        "it = np.nditer([A,B,None])\n",
        "for x,y,z in it: z[...] = x + y\n",
        "print(it.operands[2])"
      ]
    },
    {
      "cell_type": "markdown",
      "metadata": {
        "id": "yWiHnk08bUMe"
      },
      "source": [
        "#### 63. Create an array class that has a name attribute (★★☆) \n",
        "(**hint**: class method)"
      ]
    },
    {
      "cell_type": "code",
      "execution_count": 107,
      "metadata": {
        "id": "E9jyUNYHbUMe",
        "colab": {
          "base_uri": "https://localhost:8080/"
        },
        "outputId": "5272c8b8-644d-4365-ce68-e3037ffa05e5"
      },
      "outputs": [
        {
          "output_type": "stream",
          "name": "stdout",
          "text": [
            "range_10\n"
          ]
        }
      ],
      "source": [
        "class NamedArray(np.ndarray):\n",
        "    def __new__(cls, array, name=\"no name\"):\n",
        "        obj = np.asarray(array).view(cls)\n",
        "        obj.name = name\n",
        "        return obj\n",
        "    def __array_finalize__(self, obj):\n",
        "        if obj is None: return\n",
        "        self.info = getattr(obj, 'name', \"no name\")\n",
        "\n",
        "Z = NamedArray(np.arange(10), \"range_10\")\n",
        "print (Z.name)"
      ]
    },
    {
      "cell_type": "markdown",
      "metadata": {
        "id": "M6Ua333DbUMe"
      },
      "source": [
        "#### 64. Consider a given vector, how to add 1 to each element indexed by a second vector (be careful with repeated indices)? (★★★) \n",
        "(**hint**: np.bincount | np.add.at)"
      ]
    },
    {
      "cell_type": "code",
      "execution_count": 108,
      "metadata": {
        "id": "lL-crPk1bUMe",
        "colab": {
          "base_uri": "https://localhost:8080/"
        },
        "outputId": "ed534e7f-8cd4-4e70-8dcd-14046a2fd279"
      },
      "outputs": [
        {
          "output_type": "stream",
          "name": "stdout",
          "text": [
            "[3. 4. 5. 2. 3. 3. 3. 2. 3. 2.]\n",
            "[5. 7. 9. 3. 5. 5. 5. 3. 5. 3.]\n"
          ]
        }
      ],
      "source": [
        "Z = np.ones(10)\n",
        "I = np.random.randint(0,len(Z),20)\n",
        "Z += np.bincount(I, minlength=len(Z))\n",
        "print(Z)\n",
        "\n",
        "\n",
        "np.add.at(Z, I, 1)\n",
        "print(Z)"
      ]
    },
    {
      "cell_type": "markdown",
      "metadata": {
        "id": "oDMLbgjZbUMe"
      },
      "source": [
        "#### 65. How to accumulate elements of a vector (X) to an array (F) based on an index list (I)? (★★★) \n",
        "(**hint**: np.bincount)"
      ]
    },
    {
      "cell_type": "code",
      "execution_count": 109,
      "metadata": {
        "id": "TB0IkWV4bUMe",
        "colab": {
          "base_uri": "https://localhost:8080/"
        },
        "outputId": "f669d70f-f61e-40cd-e08f-9a0e506210e1"
      },
      "outputs": [
        {
          "output_type": "stream",
          "name": "stdout",
          "text": [
            "[0. 7. 0. 6. 5. 0. 0. 0. 0. 3.]\n"
          ]
        }
      ],
      "source": [
        "X = [1,2,3,4,5,6]\n",
        "I = [1,3,9,3,4,1]\n",
        "F = np.bincount(I,X)\n",
        "print(F)"
      ]
    },
    {
      "cell_type": "markdown",
      "metadata": {
        "id": "o77Oxy90bUMe"
      },
      "source": [
        "#### 66. Considering a (w,h,3) image of (dtype=ubyte), compute the number of unique colors (★★★) \n",
        "(**hint**: np.unique)"
      ]
    },
    {
      "cell_type": "code",
      "execution_count": 110,
      "metadata": {
        "id": "9iCiG8EtbUMe",
        "colab": {
          "base_uri": "https://localhost:8080/"
        },
        "outputId": "44d8b402-229e-4f54-d58b-8932e2e8f69a"
      },
      "outputs": [
        {
          "output_type": "stream",
          "name": "stdout",
          "text": [
            "8\n"
          ]
        }
      ],
      "source": [
        "w,h = 16,16\n",
        "I = np.random.randint(0,2,(h,w,3)).astype(np.ubyte)\n",
        "#Note that we should compute 256*256 first. \n",
        "#Otherwise numpy will only promote F.dtype to 'uint16' and overfolw will occur\n",
        "F = I[...,0]*(256*256) + I[...,1]*256 +I[...,2]\n",
        "n = len(np.unique(F))\n",
        "print(n)"
      ]
    },
    {
      "cell_type": "markdown",
      "metadata": {
        "id": "Ww1jxmC9bUMf"
      },
      "source": [
        "#### 67. Considering a four dimensions array, how to get sum over the last two axis at once? (★★★) \n",
        "(**hint**: sum(axis=(-2,-1)))"
      ]
    },
    {
      "cell_type": "code",
      "execution_count": 111,
      "metadata": {
        "id": "-nlfHP2TbUMf",
        "colab": {
          "base_uri": "https://localhost:8080/"
        },
        "outputId": "3ccb7de6-1f1e-4bf9-fb45-eeeaf0382d00"
      },
      "outputs": [
        {
          "output_type": "stream",
          "name": "stdout",
          "text": [
            "[[60 55 36 51]\n",
            " [67 68 39 54]\n",
            " [58 52 58 65]]\n"
          ]
        }
      ],
      "source": [
        "A = np.random.randint(0,10,(3,4,3,4))\n",
        "\n",
        "sum = A.sum(axis=(-2,-1))\n",
        "print(sum)\n"
      ]
    },
    {
      "cell_type": "markdown",
      "metadata": {
        "id": "G3nvMLdCbUMf"
      },
      "source": [
        "#### 68. Considering a one-dimensional vector D, how to compute means of subsets of D using a vector S of same size describing subset  indices? (★★★) \n",
        "(**hint**: np.bincount)"
      ]
    },
    {
      "cell_type": "code",
      "execution_count": 112,
      "metadata": {
        "id": "1uQ_oivGbUMf",
        "colab": {
          "base_uri": "https://localhost:8080/"
        },
        "outputId": "a256f72e-b52b-4441-95a3-08ae6e401fb9"
      },
      "outputs": [
        {
          "output_type": "stream",
          "name": "stdout",
          "text": [
            "[0.45573945 0.47470068 0.46361643 0.58623449 0.53514511 0.4481904\n",
            " 0.33056101 0.48974237 0.42744854 0.55660224]\n"
          ]
        }
      ],
      "source": [
        "D = np.random.uniform(0,1,100)\n",
        "S = np.random.randint(0,10,100)\n",
        "D_sums = np.bincount(S, weights=D)\n",
        "D_counts = np.bincount(S)\n",
        "D_means = D_sums / D_counts\n",
        "print(D_means)"
      ]
    },
    {
      "cell_type": "markdown",
      "metadata": {
        "id": "pa9f4muXbUMf"
      },
      "source": [
        "#### 69. How to get the diagonal of a dot product? (★★★) \n",
        "(**hint**: np.diag)"
      ]
    },
    {
      "cell_type": "code",
      "execution_count": 113,
      "metadata": {
        "id": "grqXQ2DRbUMf",
        "colab": {
          "base_uri": "https://localhost:8080/"
        },
        "outputId": "c5d86380-a607-4e48-de31-0e032d090ad7"
      },
      "outputs": [
        {
          "output_type": "execute_result",
          "data": {
            "text/plain": [
              "array([1.33922638, 0.93554286, 1.61311672, 1.03073751, 1.13026159])"
            ]
          },
          "metadata": {},
          "execution_count": 113
        }
      ],
      "source": [
        "A = np.random.uniform(0,1,(5,5))\n",
        "B = np.random.uniform(0,1,(5,5))\n",
        "\n",
        " \n",
        "np.diag(np.dot(A, B))"
      ]
    },
    {
      "cell_type": "markdown",
      "metadata": {
        "id": "ZegrL0FobUMf"
      },
      "source": [
        "#### 70. Consider the vector \\[1, 2, 3, 4, 5\\], how to build a new vector with 3 consecutive zeros interleaved between each value? (★★★) \n",
        "(**hint**: array\\[::4\\])"
      ]
    },
    {
      "cell_type": "code",
      "execution_count": 114,
      "metadata": {
        "id": "jGQBs6vbbUMf",
        "colab": {
          "base_uri": "https://localhost:8080/"
        },
        "outputId": "37121e17-7c40-4cd1-8586-6b516cb95754"
      },
      "outputs": [
        {
          "output_type": "stream",
          "name": "stdout",
          "text": [
            "[1. 0. 0. 0. 2. 0. 0. 0. 3. 0. 0. 0. 4. 0. 0. 0. 5.]\n"
          ]
        }
      ],
      "source": [
        "Z = np.array([1,2,3,4,5])\n",
        "nz = 3\n",
        "Z0 = np.zeros(len(Z) + (len(Z)-1)*(nz))\n",
        "Z0[::nz+1] = Z\n",
        "print(Z0)"
      ]
    },
    {
      "cell_type": "markdown",
      "metadata": {
        "id": "0YgqBcvpbUMg"
      },
      "source": [
        "#### 71. Consider an array of dimension (5,5,3), how to mulitply it by an array with dimensions (5,5)? (★★★) \n",
        "(**hint**: array\\[:, :, None\\])"
      ]
    },
    {
      "cell_type": "code",
      "execution_count": 115,
      "metadata": {
        "collapsed": true,
        "id": "zTNkedkWbUMg",
        "colab": {
          "base_uri": "https://localhost:8080/"
        },
        "outputId": "6c36d156-f091-4d3b-aab9-c00e74bde3e1"
      },
      "outputs": [
        {
          "output_type": "stream",
          "name": "stdout",
          "text": [
            "[[[2. 2. 2.]\n",
            "  [2. 2. 2.]\n",
            "  [2. 2. 2.]\n",
            "  [2. 2. 2.]\n",
            "  [2. 2. 2.]]\n",
            "\n",
            " [[2. 2. 2.]\n",
            "  [2. 2. 2.]\n",
            "  [2. 2. 2.]\n",
            "  [2. 2. 2.]\n",
            "  [2. 2. 2.]]\n",
            "\n",
            " [[2. 2. 2.]\n",
            "  [2. 2. 2.]\n",
            "  [2. 2. 2.]\n",
            "  [2. 2. 2.]\n",
            "  [2. 2. 2.]]\n",
            "\n",
            " [[2. 2. 2.]\n",
            "  [2. 2. 2.]\n",
            "  [2. 2. 2.]\n",
            "  [2. 2. 2.]\n",
            "  [2. 2. 2.]]\n",
            "\n",
            " [[2. 2. 2.]\n",
            "  [2. 2. 2.]\n",
            "  [2. 2. 2.]\n",
            "  [2. 2. 2.]\n",
            "  [2. 2. 2.]]]\n"
          ]
        }
      ],
      "source": [
        "A = np.ones((5,5,3))\n",
        "B = 2*np.ones((5,5))\n",
        "print(A * B[:,:,None])"
      ]
    },
    {
      "cell_type": "markdown",
      "metadata": {
        "id": "NOS3Mdr-bUMg"
      },
      "source": [
        "#### 72. How to swap two rows of an array? (★★★) \n",
        "(**hint**: array\\[\\[\\]\\] = array\\[\\[\\]\\])"
      ]
    },
    {
      "cell_type": "code",
      "execution_count": 116,
      "metadata": {
        "id": "dupAblIZbUMg",
        "colab": {
          "base_uri": "https://localhost:8080/"
        },
        "outputId": "7c661fb6-4663-41d1-c3d0-911224a525ce"
      },
      "outputs": [
        {
          "output_type": "stream",
          "name": "stdout",
          "text": [
            "[[ 5  6  7  8  9]\n",
            " [ 0  1  2  3  4]\n",
            " [10 11 12 13 14]\n",
            " [15 16 17 18 19]\n",
            " [20 21 22 23 24]]\n"
          ]
        }
      ],
      "source": [
        "A = np.arange(25).reshape(5,5)\n",
        "A[[0,1]] = A[[1,0]]\n",
        "print(A)"
      ]
    },
    {
      "cell_type": "markdown",
      "metadata": {
        "id": "7_3_NLO8bUMg"
      },
      "source": [
        "#### 73. Consider a set of 10 triplets describing 10 triangles (with shared vertices), find the set of unique line segments composing all the  triangles (★★★) \n",
        "(**hint**: repeat, np.roll, np.sort, view, np.unique)"
      ]
    },
    {
      "cell_type": "code",
      "execution_count": 117,
      "metadata": {
        "id": "0VKs99D5bUMg",
        "colab": {
          "base_uri": "https://localhost:8080/"
        },
        "outputId": "118ef5a6-6489-48bf-fb17-832551d72999"
      },
      "outputs": [
        {
          "output_type": "stream",
          "name": "stdout",
          "text": [
            "[( 1, 62) ( 1, 75) (12, 97) (12, 98) (15, 30) (15, 51) (16, 43) (16, 58)\n",
            " (18, 28) (18, 41) (28, 41) (30, 51) (32, 65) (32, 68) (38, 50) (38, 63)\n",
            " (39, 88) (39, 93) (43, 58) (50, 63) (51, 68) (51, 73) (53, 61) (53, 92)\n",
            " (61, 92) (62, 75) (65, 68) (68, 73) (88, 93) (97, 98)]\n"
          ]
        }
      ],
      "source": [
        "faces = np.random.randint(0,100,(10,3))\n",
        "F = np.roll(faces.repeat(2,axis=1),-1,axis=1)\n",
        "F = F.reshape(len(F)*3,2)\n",
        "F = np.sort(F,axis=1)\n",
        "G = F.view( dtype=[('p0',F.dtype),('p1',F.dtype)] )\n",
        "G = np.unique(G)\n",
        "print(G)"
      ]
    },
    {
      "cell_type": "markdown",
      "metadata": {
        "id": "kKf2DblXbUMg"
      },
      "source": [
        "#### 74. Given an array C that is a bincount, how to produce an array A such that np.bincount(A) == C? (★★★) \n",
        "(**hint**: np.repeat)"
      ]
    },
    {
      "cell_type": "code",
      "execution_count": 118,
      "metadata": {
        "id": "OS-UUWRabUMg",
        "colab": {
          "base_uri": "https://localhost:8080/"
        },
        "outputId": "801e17ce-2931-486d-d553-883f3e5dbd8b"
      },
      "outputs": [
        {
          "output_type": "stream",
          "name": "stdout",
          "text": [
            "[1 1 2 3 4 4 6]\n"
          ]
        }
      ],
      "source": [
        "C = np.bincount([1,1,2,3,4,4,6])\n",
        "A = np.repeat(np.arange(len(C)), C)\n",
        "print(A)"
      ]
    },
    {
      "cell_type": "markdown",
      "metadata": {
        "id": "8RQGgKiYbUMh"
      },
      "source": [
        "#### 75. How to compute averages using a sliding window over an array? (★★★) \n",
        "(**hint**: np.cumsum)"
      ]
    },
    {
      "cell_type": "code",
      "execution_count": 119,
      "metadata": {
        "id": "Cr2NxmOCbUMh",
        "colab": {
          "base_uri": "https://localhost:8080/"
        },
        "outputId": "43dafe79-9a40-4ffe-ea29-1f088126fe80"
      },
      "outputs": [
        {
          "output_type": "stream",
          "name": "stdout",
          "text": [
            "[ 1.  2.  3.  4.  5.  6.  7.  8.  9. 10. 11. 12. 13. 14. 15. 16. 17. 18.]\n"
          ]
        }
      ],
      "source": [
        "def moving_average(a, n=3) :\n",
        "    ret = np.cumsum(a, dtype=float)\n",
        "    ret[n:] = ret[n:] - ret[:-n]\n",
        "    return ret[n - 1:] / n\n",
        "Z = np.arange(20)\n",
        "print(moving_average(Z, n=3))"
      ]
    },
    {
      "cell_type": "markdown",
      "metadata": {
        "id": "D7oP6KaAbUMh"
      },
      "source": [
        "#### 76. Consider a one-dimensional array Z, build a two-dimensional array whose first row is (Z\\[0\\],Z\\[1\\],Z\\[2\\]) and each subsequent row is  shifted by 1 (last row should be (Z\\[-3\\],Z\\[-2\\],Z\\[-1\\]) (★★★) \n",
        "(**hint**: from numpy.lib import stride_tricks)"
      ]
    },
    {
      "cell_type": "code",
      "execution_count": 120,
      "metadata": {
        "id": "IVv6DYiXbUMh",
        "colab": {
          "base_uri": "https://localhost:8080/"
        },
        "outputId": "b73b53f0-8bdc-4fc1-e06f-edfc360f2cd0"
      },
      "outputs": [
        {
          "output_type": "stream",
          "name": "stdout",
          "text": [
            "[[0 1 2]\n",
            " [1 2 3]\n",
            " [2 3 4]\n",
            " [3 4 5]\n",
            " [4 5 6]\n",
            " [5 6 7]\n",
            " [6 7 8]\n",
            " [7 8 9]]\n"
          ]
        }
      ],
      "source": [
        "from numpy.lib import stride_tricks\n",
        "\n",
        "def rolling(a, window):\n",
        "    shape = (a.size - window + 1, window)\n",
        "    strides = (a.itemsize, a.itemsize)\n",
        "    return stride_tricks.as_strided(a, shape=shape, strides=strides)\n",
        "Z = rolling(np.arange(10), 3)\n",
        "print(Z)"
      ]
    },
    {
      "cell_type": "markdown",
      "metadata": {
        "id": "ISIxoaTXbUMh"
      },
      "source": [
        "#### 77. How to negate a boolean, or to change the sign of a float inplace? (★★★) \n",
        "(**hint**: np.logical_not, np.negative)"
      ]
    },
    {
      "cell_type": "code",
      "execution_count": 121,
      "metadata": {
        "id": "AK1OG54WbUMh",
        "colab": {
          "base_uri": "https://localhost:8080/"
        },
        "outputId": "823d3f5c-ad36-4daa-eae3-8db86e2e8c98"
      },
      "outputs": [
        {
          "output_type": "execute_result",
          "data": {
            "text/plain": [
              "array([-0.9690767 ,  0.13906122, -0.65694607, -0.72746448,  0.01855187,\n",
              "        0.50480596, -0.1708878 , -0.1441061 , -0.57721213, -0.78299451,\n",
              "        0.568477  ,  0.63938032,  0.03690568, -0.60140349, -0.22823315,\n",
              "       -0.11523958,  0.74321765,  0.55145052, -0.98216398, -0.99464983,\n",
              "       -0.66508723, -0.31057092, -0.7694093 ,  0.29447702, -0.74725037,\n",
              "        0.29148809,  0.74702134,  0.44559434, -0.55052728,  0.28921113,\n",
              "       -0.89543097,  0.93847568,  0.37419599,  0.80859768, -0.76529882,\n",
              "       -0.1065188 , -0.27512325, -0.4140133 , -0.67929595,  0.8476619 ,\n",
              "       -0.24644333,  0.20151077, -0.36904184, -0.00648384, -0.03526434,\n",
              "       -0.87611704, -0.33041141,  0.26858642, -0.5107095 ,  0.44036484,\n",
              "        0.3903372 , -0.75102328, -0.10787132,  0.93091113, -0.63392688,\n",
              "        0.37299341, -0.43678646,  0.53294419,  0.31482385, -0.10321821,\n",
              "       -0.06822666,  0.41713981,  0.75955425, -0.86437994, -0.80676154,\n",
              "        0.6558702 , -0.77978018,  0.60507116, -0.9000399 , -0.92455674,\n",
              "       -0.04160758, -0.49814066,  0.23168498,  0.17841109, -0.20254565,\n",
              "        0.23320153,  0.17673433, -0.72725137,  0.2852563 , -0.82167706,\n",
              "        0.05128235,  0.31212057, -0.0796578 ,  0.10228211,  0.65593919,\n",
              "        0.42104771, -0.96811598,  0.81601665, -0.1958612 ,  0.83157725,\n",
              "        0.63372749,  0.15487283, -0.15384985,  0.84246487,  0.22264505,\n",
              "       -0.34954811, -0.01554358,  0.66232839,  0.00718931, -0.05042433])"
            ]
          },
          "metadata": {},
          "execution_count": 121
        }
      ],
      "source": [
        "Z = np.random.randint(0,2,100)\n",
        "np.logical_not(Z, out=Z)\n",
        "\n",
        "Z = np.random.uniform(-1.0,1.0,100)\n",
        "np.negative(Z, out=Z)"
      ]
    },
    {
      "cell_type": "markdown",
      "metadata": {
        "id": "aD9A8FvXbUMh"
      },
      "source": [
        "#### 78. Consider 2 sets of points P0,P1 describing lines (2d) and a point p, how to compute distance from p to each line i  (P0\\[i\\],P1\\[i\\])? (★★★)"
      ]
    },
    {
      "cell_type": "code",
      "execution_count": 122,
      "metadata": {
        "id": "X_-9F_x8bUMi",
        "colab": {
          "base_uri": "https://localhost:8080/"
        },
        "outputId": "8390fcc3-8e34-4a39-bfc4-4b3dcbabfa33"
      },
      "outputs": [
        {
          "output_type": "stream",
          "name": "stdout",
          "text": [
            "[ 8.27977948 17.42632267 12.29386243 12.38855899  6.11384951  8.83076914\n",
            "  9.15296538 11.57090798 12.28834484  1.78295479]\n"
          ]
        }
      ],
      "source": [
        "def distance(P0, P1, p):\n",
        "    T = P1 - P0\n",
        "    L = (T**2).sum(axis=1)\n",
        "    U = -((P0[:,0]-p[...,0])*T[:,0] + (P0[:,1]-p[...,1])*T[:,1]) / L\n",
        "    U = U.reshape(len(U),1)\n",
        "    D = P0 + U*T - p\n",
        "    return np.sqrt((D**2).sum(axis=1))\n",
        "\n",
        "P0 = np.random.uniform(-10,10,(10,2))\n",
        "P1 = np.random.uniform(-10,10,(10,2))\n",
        "p  = np.random.uniform(-10,10,( 1,2))\n",
        "print(distance(P0, P1, p))"
      ]
    },
    {
      "cell_type": "markdown",
      "metadata": {
        "id": "0F2c7LAFbUMi"
      },
      "source": [
        "#### 79. Consider 2 sets of points P0,P1 describing lines (2d) and a set of points P, how to compute distance from each point j (P\\[j\\]) to each line i (P0\\[i\\],P1\\[i\\])? (★★★)"
      ]
    },
    {
      "cell_type": "code",
      "execution_count": 123,
      "metadata": {
        "id": "rRR1wx83bUMi",
        "colab": {
          "base_uri": "https://localhost:8080/"
        },
        "outputId": "d8a02a86-7aed-4631-e908-6608e0e54220"
      },
      "outputs": [
        {
          "output_type": "stream",
          "name": "stdout",
          "text": [
            "[[ 4.95025612  4.96150418  5.41094298  5.96872971 11.73864083  4.10188826\n",
            "   2.87107567  2.97214594 11.49720535 12.92974008]\n",
            " [ 8.72864285  5.7430306  12.45906638  0.90913124  4.32711665  0.62573824\n",
            "   2.29006467  6.97286831  4.32949408  5.47052839]\n",
            " [ 8.15888022  5.40693392 11.73616713  1.16540007  5.03145872  0.70041016\n",
            "   1.6333766   6.38799022  4.89390342  6.16547372]\n",
            " [ 0.26476324  0.10181665  2.73032777  3.21051216 13.56222634  0.39937417\n",
            "   7.10383448  1.66084698 11.17935438 14.51676208]\n",
            " [ 3.74226646  2.33701924 14.13605215  8.77828612  0.76053939  9.30465495\n",
            "   0.59426558  2.28771272  2.89080954  1.43115191]\n",
            " [ 2.28570616  2.26405948  0.83598677  2.35782627 15.08397315  1.0405287\n",
            "   9.56352961  4.20631078 11.66752725 15.93097629]\n",
            " [ 4.15008497  6.08973701  2.71617363  3.13223627 12.22684157  6.4106393\n",
            "  10.19371899  5.89018782  7.06395012 12.83591479]\n",
            " [ 1.09288932  2.27769942  8.24804269  3.82053878  7.10749357  5.61632531\n",
            "   4.55156379  0.56879932  3.57227049  7.85770356]\n",
            " [ 6.64359875  0.24547432 16.4605325   8.0610142   1.17667654  7.89086525\n",
            "   2.26444699  5.19253372  3.70371986  0.39201163]\n",
            " [ 0.91272587  7.17766843 11.49250545 11.5477929   2.5484015  13.00901118\n",
            "   4.79245349  2.31405876  3.23639838  2.98303307]]\n"
          ]
        }
      ],
      "source": [
        "P0 = np.random.uniform(-10, 10, (10,2))\n",
        "P1 = np.random.uniform(-10,10,(10,2))\n",
        "p = np.random.uniform(-10, 10, (10,2))\n",
        "print(np.array([distance(P0,P1,p_i) for p_i in p]))"
      ]
    },
    {
      "cell_type": "markdown",
      "metadata": {
        "id": "UFEYl624bUMi"
      },
      "source": [
        "#### 80. Consider an arbitrary array, write a function that extract a subpart with a fixed shape and centered on a given element (pad with a `fill` value when necessary) (★★★) \n",
        "(**hint**: minimum, maximum)"
      ]
    },
    {
      "cell_type": "code",
      "execution_count": 124,
      "metadata": {
        "id": "tMjbD0MWbUMi",
        "colab": {
          "base_uri": "https://localhost:8080/"
        },
        "outputId": "155318fc-ecf1-48d4-931c-b28ba9a04957"
      },
      "outputs": [
        {
          "output_type": "stream",
          "name": "stdout",
          "text": [
            "[[2 8 4 0 6 8 8 6 6 9]\n",
            " [7 9 5 8 6 6 5 2 4 7]\n",
            " [0 4 2 3 2 5 3 0 6 0]\n",
            " [2 1 3 3 1 4 5 0 6 6]\n",
            " [9 2 2 3 2 4 0 2 3 7]\n",
            " [1 6 1 4 7 1 5 6 3 1]\n",
            " [4 8 1 5 5 2 4 5 0 1]\n",
            " [7 6 6 9 6 0 6 0 5 6]\n",
            " [8 4 7 9 6 3 2 3 9 8]\n",
            " [5 0 3 5 9 3 1 7 0 9]]\n",
            "[[0 0 0 0 0]\n",
            " [0 2 8 4 0]\n",
            " [0 7 9 5 8]\n",
            " [0 0 4 2 3]\n",
            " [0 2 1 3 3]]\n"
          ]
        },
        {
          "output_type": "stream",
          "name": "stderr",
          "text": [
            "/usr/local/lib/python3.7/dist-packages/ipykernel_launcher.py:23: FutureWarning: Using a non-tuple sequence for multidimensional indexing is deprecated; use `arr[tuple(seq)]` instead of `arr[seq]`. In the future this will be interpreted as an array index, `arr[np.array(seq)]`, which will result either in an error or a different result.\n"
          ]
        }
      ],
      "source": [
        "Z = np.random.randint(0,10,(10,10))\n",
        "shape = (5,5)\n",
        "fill  = 0\n",
        "position = (1,1)\n",
        "\n",
        "R = np.ones(shape, dtype=Z.dtype)*fill\n",
        "P  = np.array(list(position)).astype(int)\n",
        "Rs = np.array(list(R.shape)).astype(int)\n",
        "Zs = np.array(list(Z.shape)).astype(int)\n",
        "\n",
        "R_start = np.zeros((len(shape),)).astype(int)\n",
        "R_stop  = np.array(list(shape)).astype(int)\n",
        "Z_start = (P-Rs//2)\n",
        "Z_stop  = (P+Rs//2)+Rs%2\n",
        "\n",
        "R_start = (R_start - np.minimum(Z_start,0)).tolist()\n",
        "Z_start = (np.maximum(Z_start,0)).tolist()\n",
        "R_stop = np.maximum(R_start, (R_stop - np.maximum(Z_stop-Zs,0))).tolist()\n",
        "Z_stop = (np.minimum(Z_stop,Zs)).tolist()\n",
        "\n",
        "r = [slice(start,stop) for start,stop in zip(R_start,R_stop)]\n",
        "z = [slice(start,stop) for start,stop in zip(Z_start,Z_stop)]\n",
        "R[r] = Z[z]\n",
        "print(Z)\n",
        "print(R)"
      ]
    },
    {
      "cell_type": "markdown",
      "metadata": {
        "id": "MMT5CICRbUMi"
      },
      "source": [
        "#### 81. Consider an array Z = \\[1,2,3,4,5,6,7,8,9,10,11,12,13,14\\], how to generate an array R = \\[\\[1,2,3,4\\], \\[2,3,4,5\\], \\[3,4,5,6\\], ..., \\[11,12,13,14\\]\\]? (★★★) \n",
        "(**hint**: stride\\_tricks.as\\_strided)"
      ]
    },
    {
      "cell_type": "code",
      "execution_count": 125,
      "metadata": {
        "id": "iSpBqUwybUMi",
        "colab": {
          "base_uri": "https://localhost:8080/"
        },
        "outputId": "28be2ee4-a2e4-48d5-be95-3e5cb02fbd1c"
      },
      "outputs": [
        {
          "output_type": "stream",
          "name": "stdout",
          "text": [
            "[[ 1  2  3  4]\n",
            " [ 2  3  4  5]\n",
            " [ 3  4  5  6]\n",
            " [ 4  5  6  7]\n",
            " [ 5  6  7  8]\n",
            " [ 6  7  8  9]\n",
            " [ 7  8  9 10]\n",
            " [ 8  9 10 11]\n",
            " [ 9 10 11 12]\n",
            " [10 11 12 13]\n",
            " [11 12 13 14]]\n"
          ]
        }
      ],
      "source": [
        "Z = np.arange(1,15,dtype=np.uint32)\n",
        "R = stride_tricks.as_strided(Z,(11,4),(4,4))\n",
        "print(R)"
      ]
    },
    {
      "cell_type": "markdown",
      "metadata": {
        "id": "Kl54yXK9bUMi"
      },
      "source": [
        "#### 82. Compute a matrix rank (★★★) \n",
        "(**hint**: np.linalg.svd) (suggestion: np.linalg.svd)"
      ]
    },
    {
      "cell_type": "code",
      "execution_count": 126,
      "metadata": {
        "id": "BIxETdOgbUMj",
        "colab": {
          "base_uri": "https://localhost:8080/"
        },
        "outputId": "e947dee1-0422-46ee-bb51-f6a2afcdeb86"
      },
      "outputs": [
        {
          "output_type": "stream",
          "name": "stdout",
          "text": [
            "10\n"
          ]
        }
      ],
      "source": [
        "Z = np.random.uniform(0,1,(10,10))\n",
        "U, S, V = np.linalg.svd(Z) # svd = Singular Value Decomposition\n",
        "rank = np.sum(S > 1e-10)\n",
        "print(rank)"
      ]
    },
    {
      "cell_type": "markdown",
      "metadata": {
        "id": "Eb1rZ8clbUMj"
      },
      "source": [
        "#### 83. How to find the most frequent value in an array? \n",
        "(**hint**: np.bincount, argmax)"
      ]
    },
    {
      "cell_type": "code",
      "execution_count": 127,
      "metadata": {
        "id": "Cv68sfEXbUMj",
        "colab": {
          "base_uri": "https://localhost:8080/"
        },
        "outputId": "602477cf-fce7-41db-dd8d-de383713a44a"
      },
      "outputs": [
        {
          "output_type": "stream",
          "name": "stdout",
          "text": [
            "2\n"
          ]
        }
      ],
      "source": [
        "Z = np.random.randint(0,10,50)\n",
        "#print(Z)\n",
        "print(np.bincount(Z).argmax())"
      ]
    },
    {
      "cell_type": "markdown",
      "metadata": {
        "id": "XVzbriosbUMj"
      },
      "source": [
        "#### 84. Extract all the contiguous 3x3 blocks from a random 10x10 matrix (★★★) \n",
        "(**hint**: stride\\_tricks.as\\_strided)"
      ]
    },
    {
      "cell_type": "code",
      "execution_count": 128,
      "metadata": {
        "id": "CD2mCiRJbUMj",
        "colab": {
          "base_uri": "https://localhost:8080/"
        },
        "outputId": "582022cc-9170-40a6-de5f-6ce557273121"
      },
      "outputs": [
        {
          "output_type": "stream",
          "name": "stdout",
          "text": [
            "[[[[4 4 0]\n",
            "   [3 4 3]\n",
            "   [4 1 0]]\n",
            "\n",
            "  [[4 0 0]\n",
            "   [4 3 2]\n",
            "   [1 0 0]]\n",
            "\n",
            "  [[0 0 3]\n",
            "   [3 2 2]\n",
            "   [0 0 4]]\n",
            "\n",
            "  [[0 3 2]\n",
            "   [2 2 3]\n",
            "   [0 4 1]]\n",
            "\n",
            "  [[3 2 3]\n",
            "   [2 3 1]\n",
            "   [4 1 4]]\n",
            "\n",
            "  [[2 3 3]\n",
            "   [3 1 4]\n",
            "   [1 4 4]]\n",
            "\n",
            "  [[3 3 0]\n",
            "   [1 4 4]\n",
            "   [4 4 3]]\n",
            "\n",
            "  [[3 0 2]\n",
            "   [4 4 1]\n",
            "   [4 3 0]]]\n",
            "\n",
            "\n",
            " [[[3 4 3]\n",
            "   [4 1 0]\n",
            "   [4 2 2]]\n",
            "\n",
            "  [[4 3 2]\n",
            "   [1 0 0]\n",
            "   [2 2 4]]\n",
            "\n",
            "  [[3 2 2]\n",
            "   [0 0 4]\n",
            "   [2 4 4]]\n",
            "\n",
            "  [[2 2 3]\n",
            "   [0 4 1]\n",
            "   [4 4 4]]\n",
            "\n",
            "  [[2 3 1]\n",
            "   [4 1 4]\n",
            "   [4 4 4]]\n",
            "\n",
            "  [[3 1 4]\n",
            "   [1 4 4]\n",
            "   [4 4 4]]\n",
            "\n",
            "  [[1 4 4]\n",
            "   [4 4 3]\n",
            "   [4 4 3]]\n",
            "\n",
            "  [[4 4 1]\n",
            "   [4 3 0]\n",
            "   [4 3 0]]]\n",
            "\n",
            "\n",
            " [[[4 1 0]\n",
            "   [4 2 2]\n",
            "   [0 0 1]]\n",
            "\n",
            "  [[1 0 0]\n",
            "   [2 2 4]\n",
            "   [0 1 2]]\n",
            "\n",
            "  [[0 0 4]\n",
            "   [2 4 4]\n",
            "   [1 2 2]]\n",
            "\n",
            "  [[0 4 1]\n",
            "   [4 4 4]\n",
            "   [2 2 0]]\n",
            "\n",
            "  [[4 1 4]\n",
            "   [4 4 4]\n",
            "   [2 0 0]]\n",
            "\n",
            "  [[1 4 4]\n",
            "   [4 4 4]\n",
            "   [0 0 4]]\n",
            "\n",
            "  [[4 4 3]\n",
            "   [4 4 3]\n",
            "   [0 4 2]]\n",
            "\n",
            "  [[4 3 0]\n",
            "   [4 3 0]\n",
            "   [4 2 0]]]\n",
            "\n",
            "\n",
            " [[[4 2 2]\n",
            "   [0 0 1]\n",
            "   [2 4 2]]\n",
            "\n",
            "  [[2 2 4]\n",
            "   [0 1 2]\n",
            "   [4 2 4]]\n",
            "\n",
            "  [[2 4 4]\n",
            "   [1 2 2]\n",
            "   [2 4 1]]\n",
            "\n",
            "  [[4 4 4]\n",
            "   [2 2 0]\n",
            "   [4 1 4]]\n",
            "\n",
            "  [[4 4 4]\n",
            "   [2 0 0]\n",
            "   [1 4 0]]\n",
            "\n",
            "  [[4 4 4]\n",
            "   [0 0 4]\n",
            "   [4 0 1]]\n",
            "\n",
            "  [[4 4 3]\n",
            "   [0 4 2]\n",
            "   [0 1 2]]\n",
            "\n",
            "  [[4 3 0]\n",
            "   [4 2 0]\n",
            "   [1 2 2]]]\n",
            "\n",
            "\n",
            " [[[0 0 1]\n",
            "   [2 4 2]\n",
            "   [1 4 4]]\n",
            "\n",
            "  [[0 1 2]\n",
            "   [4 2 4]\n",
            "   [4 4 2]]\n",
            "\n",
            "  [[1 2 2]\n",
            "   [2 4 1]\n",
            "   [4 2 2]]\n",
            "\n",
            "  [[2 2 0]\n",
            "   [4 1 4]\n",
            "   [2 2 4]]\n",
            "\n",
            "  [[2 0 0]\n",
            "   [1 4 0]\n",
            "   [2 4 0]]\n",
            "\n",
            "  [[0 0 4]\n",
            "   [4 0 1]\n",
            "   [4 0 3]]\n",
            "\n",
            "  [[0 4 2]\n",
            "   [0 1 2]\n",
            "   [0 3 0]]\n",
            "\n",
            "  [[4 2 0]\n",
            "   [1 2 2]\n",
            "   [3 0 2]]]\n",
            "\n",
            "\n",
            " [[[2 4 2]\n",
            "   [1 4 4]\n",
            "   [3 2 2]]\n",
            "\n",
            "  [[4 2 4]\n",
            "   [4 4 2]\n",
            "   [2 2 2]]\n",
            "\n",
            "  [[2 4 1]\n",
            "   [4 2 2]\n",
            "   [2 2 1]]\n",
            "\n",
            "  [[4 1 4]\n",
            "   [2 2 4]\n",
            "   [2 1 1]]\n",
            "\n",
            "  [[1 4 0]\n",
            "   [2 4 0]\n",
            "   [1 1 2]]\n",
            "\n",
            "  [[4 0 1]\n",
            "   [4 0 3]\n",
            "   [1 2 4]]\n",
            "\n",
            "  [[0 1 2]\n",
            "   [0 3 0]\n",
            "   [2 4 4]]\n",
            "\n",
            "  [[1 2 2]\n",
            "   [3 0 2]\n",
            "   [4 4 1]]]\n",
            "\n",
            "\n",
            " [[[1 4 4]\n",
            "   [3 2 2]\n",
            "   [0 3 0]]\n",
            "\n",
            "  [[4 4 2]\n",
            "   [2 2 2]\n",
            "   [3 0 1]]\n",
            "\n",
            "  [[4 2 2]\n",
            "   [2 2 1]\n",
            "   [0 1 0]]\n",
            "\n",
            "  [[2 2 4]\n",
            "   [2 1 1]\n",
            "   [1 0 2]]\n",
            "\n",
            "  [[2 4 0]\n",
            "   [1 1 2]\n",
            "   [0 2 0]]\n",
            "\n",
            "  [[4 0 3]\n",
            "   [1 2 4]\n",
            "   [2 0 1]]\n",
            "\n",
            "  [[0 3 0]\n",
            "   [2 4 4]\n",
            "   [0 1 3]]\n",
            "\n",
            "  [[3 0 2]\n",
            "   [4 4 1]\n",
            "   [1 3 0]]]\n",
            "\n",
            "\n",
            " [[[3 2 2]\n",
            "   [0 3 0]\n",
            "   [2 0 0]]\n",
            "\n",
            "  [[2 2 2]\n",
            "   [3 0 1]\n",
            "   [0 0 3]]\n",
            "\n",
            "  [[2 2 1]\n",
            "   [0 1 0]\n",
            "   [0 3 2]]\n",
            "\n",
            "  [[2 1 1]\n",
            "   [1 0 2]\n",
            "   [3 2 2]]\n",
            "\n",
            "  [[1 1 2]\n",
            "   [0 2 0]\n",
            "   [2 2 3]]\n",
            "\n",
            "  [[1 2 4]\n",
            "   [2 0 1]\n",
            "   [2 3 3]]\n",
            "\n",
            "  [[2 4 4]\n",
            "   [0 1 3]\n",
            "   [3 3 2]]\n",
            "\n",
            "  [[4 4 1]\n",
            "   [1 3 0]\n",
            "   [3 2 2]]]]\n"
          ]
        }
      ],
      "source": [
        "Z = np.random.randint(0,5,(10,10))\n",
        "n = 3\n",
        "i = 1 + (Z.shape[0]-3)\n",
        "j = 1 + (Z.shape[1]-3)\n",
        "C = stride_tricks.as_strided(Z, shape=(i, j, n, n), strides=Z.strides + Z.strides)\n",
        "print(C)"
      ]
    },
    {
      "cell_type": "markdown",
      "metadata": {
        "id": "DiAsg5HxbUMj"
      },
      "source": [
        "#### 85. Create a 2D array subclass such that Z\\[i,j\\] == Z\\[j,i\\] (★★★) \n",
        "(**hint**: class method)"
      ]
    },
    {
      "cell_type": "code",
      "execution_count": 129,
      "metadata": {
        "id": "BrqQ314JbUMj",
        "colab": {
          "base_uri": "https://localhost:8080/"
        },
        "outputId": "c0bcdf78-f295-4a06-9734-437ed38023b7"
      },
      "outputs": [
        {
          "output_type": "stream",
          "name": "stdout",
          "text": [
            "[[ 0 13 14 12  9]\n",
            " [13  8  7  0  1]\n",
            " [14  7  5 42 15]\n",
            " [12  0 42  3 11]\n",
            " [ 9  1 15 11  9]]\n"
          ]
        }
      ],
      "source": [
        "class Symetric(np.ndarray):\n",
        "    def __setitem__(self, index, value):\n",
        "        i,j = index\n",
        "        super(Symetric, self).__setitem__((i,j), value)\n",
        "        super(Symetric, self).__setitem__((j,i), value)\n",
        "\n",
        "def symetric(Z):\n",
        "    return np.asarray(Z + Z.T - np.diag(Z.diagonal())).view(Symetric)\n",
        "\n",
        "S = symetric(np.random.randint(0,10,(5,5)))\n",
        "S[2,3] = 42\n",
        "print(S)"
      ]
    },
    {
      "cell_type": "markdown",
      "metadata": {
        "id": "-CYQUpqNbUMj"
      },
      "source": [
        "#### 86. Consider a set of p matrices wich shape (n,n) and a set of p vectors with shape (n,1). How to compute the sum of of the p matrix products at once? (result has shape (n,1)) (★★★) \n",
        "(**hint**: np.tensordot)"
      ]
    },
    {
      "cell_type": "code",
      "execution_count": 130,
      "metadata": {
        "id": "S2paIzcRbUMk",
        "colab": {
          "base_uri": "https://localhost:8080/"
        },
        "outputId": "f3dc72b3-deff-4e74-86c9-198c23e11455"
      },
      "outputs": [
        {
          "output_type": "stream",
          "name": "stdout",
          "text": [
            "[[200.]\n",
            " [200.]\n",
            " [200.]\n",
            " [200.]\n",
            " [200.]\n",
            " [200.]\n",
            " [200.]\n",
            " [200.]\n",
            " [200.]\n",
            " [200.]\n",
            " [200.]\n",
            " [200.]\n",
            " [200.]\n",
            " [200.]\n",
            " [200.]\n",
            " [200.]\n",
            " [200.]\n",
            " [200.]\n",
            " [200.]\n",
            " [200.]]\n"
          ]
        }
      ],
      "source": [
        "p, n = 10, 20\n",
        "M = np.ones((p,n,n))\n",
        "V = np.ones((p,n,1))\n",
        "S = np.tensordot(M, V, axes=[[0, 2], [0, 1]])\n",
        "print(S)"
      ]
    },
    {
      "cell_type": "markdown",
      "metadata": {
        "id": "lB6-YedKbUMk"
      },
      "source": [
        "#### 87. Consider a 16x16 array, how to get the block-sum (block size is 4x4)? (★★★) \n",
        "(**hint**: np.add.reduceat)"
      ]
    },
    {
      "cell_type": "code",
      "execution_count": 131,
      "metadata": {
        "id": "X3mGGsW5bUMk",
        "colab": {
          "base_uri": "https://localhost:8080/"
        },
        "outputId": "39ea9cb4-1d42-4865-93fa-6ee373509ad9"
      },
      "outputs": [
        {
          "output_type": "stream",
          "name": "stdout",
          "text": [
            "[[16. 16. 16. 16.]\n",
            " [16. 16. 16. 16.]\n",
            " [16. 16. 16. 16.]\n",
            " [16. 16. 16. 16.]]\n"
          ]
        }
      ],
      "source": [
        "Z = np.ones((16,16))\n",
        "k = 4\n",
        "S = np.add.reduceat(np.add.reduceat(Z, np.arange(0, Z.shape[0], k), axis=0),\n",
        "                                       np.arange(0, Z.shape[1], k), axis=1)\n",
        "print(S)"
      ]
    },
    {
      "cell_type": "markdown",
      "metadata": {
        "id": "lI38Ae8YbUMk"
      },
      "source": [
        "#### 88. How to implement the Game of Life using numpy arrays? (★★★)"
      ]
    },
    {
      "cell_type": "code",
      "execution_count": 132,
      "metadata": {
        "id": "Rh46zvonbUMk",
        "colab": {
          "base_uri": "https://localhost:8080/"
        },
        "outputId": "17125aaf-8659-4282-bad5-f7a699d9bee2"
      },
      "outputs": [
        {
          "output_type": "stream",
          "name": "stdout",
          "text": [
            "[[0 0 0 0 0 0 0 0 0 0 0 0 0 0 0 0 0 0 0 0 0 0 0 0 0 0 0 0 0 0 0 0 0 0 0 0\n",
            "  0 0 0 0 0 0 0 0 0 0 0 0 0 0]\n",
            " [0 0 0 0 0 0 0 0 0 0 0 0 0 0 0 0 0 0 0 0 0 0 0 0 0 0 0 0 0 1 1 0 0 0 0 0\n",
            "  0 0 0 0 0 0 0 0 0 0 0 0 0 0]\n",
            " [0 0 0 0 0 0 0 0 0 0 0 0 0 0 0 0 0 0 0 0 0 0 0 0 0 0 0 0 0 1 1 0 0 0 0 0\n",
            "  0 0 0 0 0 0 0 0 0 0 0 0 0 0]\n",
            " [0 0 0 0 0 0 0 0 0 0 0 0 0 0 0 0 0 0 0 0 0 0 0 0 0 0 0 0 0 0 0 0 0 0 0 0\n",
            "  0 0 0 0 0 0 0 1 1 1 0 0 0 0]\n",
            " [0 0 0 0 0 0 0 0 0 0 0 0 0 0 0 0 0 0 0 0 0 0 0 0 0 0 0 0 0 0 0 0 0 0 0 0\n",
            "  0 0 0 0 0 0 0 0 0 0 0 0 0 0]\n",
            " [0 0 0 0 0 0 0 0 0 0 0 0 0 0 0 0 0 0 0 0 0 0 0 0 0 0 0 0 0 0 0 0 0 0 0 0\n",
            "  0 0 0 0 0 1 0 0 0 0 0 1 0 0]\n",
            " [0 0 0 0 0 0 0 0 0 0 0 0 0 0 1 1 1 0 0 0 0 0 0 0 0 0 0 0 0 0 0 0 0 0 0 0\n",
            "  0 0 0 0 0 1 0 0 0 0 0 1 0 0]\n",
            " [0 0 0 0 0 0 0 0 0 0 0 0 0 0 1 0 0 1 0 0 0 0 0 0 0 0 0 0 0 0 0 0 0 0 0 0\n",
            "  0 0 0 0 0 1 0 0 0 0 0 1 0 0]\n",
            " [0 0 0 0 0 0 0 0 0 0 0 0 1 0 0 1 1 1 0 0 0 0 0 0 0 0 0 0 0 0 0 0 0 0 0 0\n",
            "  0 0 0 0 0 0 0 0 0 0 0 0 0 0]\n",
            " [0 0 0 0 0 0 0 0 0 0 1 1 1 1 1 1 0 0 1 1 1 0 0 0 0 0 0 0 0 0 0 0 0 0 0 0\n",
            "  0 0 0 0 0 0 0 1 1 1 0 0 0 0]\n",
            " [0 0 0 0 0 0 0 0 0 1 0 0 0 0 0 1 0 1 0 0 1 0 0 0 0 0 0 0 0 0 0 0 0 0 0 0\n",
            "  0 0 0 1 1 0 0 0 0 0 0 0 0 0]\n",
            " [0 0 0 0 0 0 0 0 0 1 0 1 0 0 0 0 0 1 1 0 1 0 0 0 0 0 0 0 0 0 0 0 0 0 0 0\n",
            "  0 0 0 1 1 0 0 0 0 0 0 0 0 0]\n",
            " [0 0 0 0 0 0 0 0 0 1 1 0 0 1 1 1 0 0 1 1 0 0 0 0 0 0 0 0 0 0 0 0 0 0 0 0\n",
            "  0 0 0 0 0 0 0 0 0 0 0 0 0 0]\n",
            " [0 0 0 0 0 0 0 0 1 0 0 0 0 0 0 0 0 1 0 0 0 0 0 0 0 0 0 0 0 0 0 0 0 0 0 0\n",
            "  0 0 0 0 0 0 0 0 0 0 0 0 0 0]\n",
            " [0 0 0 0 0 0 1 1 0 1 0 0 0 0 0 0 1 0 0 0 0 0 0 0 0 0 0 0 0 0 0 0 0 0 0 0\n",
            "  0 0 0 0 0 0 0 0 0 0 0 0 0 0]\n",
            " [0 0 0 0 0 0 0 0 0 0 0 0 0 0 0 0 0 0 0 0 0 0 0 0 0 0 0 0 0 0 0 0 0 0 0 0\n",
            "  0 0 0 0 0 0 0 0 0 0 0 0 0 0]\n",
            " [0 0 0 0 0 0 1 1 0 0 1 0 0 0 0 0 0 0 0 0 0 0 0 0 0 0 0 0 0 0 0 0 0 0 0 0\n",
            "  0 0 0 0 0 0 0 0 0 0 0 0 0 0]\n",
            " [0 0 0 0 0 0 0 0 1 0 1 0 1 0 0 0 0 0 0 0 0 0 0 0 0 0 0 0 0 0 0 0 0 0 0 0\n",
            "  0 0 0 0 0 0 0 0 0 0 0 0 0 0]\n",
            " [0 0 0 0 0 0 1 0 0 0 1 0 0 0 0 0 0 0 0 0 0 0 0 0 0 0 0 0 0 0 0 0 0 0 0 0\n",
            "  0 0 0 0 0 0 0 0 0 0 0 0 0 0]\n",
            " [0 0 0 0 0 0 1 0 1 0 0 0 0 0 0 1 1 0 0 0 0 0 0 0 0 0 0 0 0 0 0 0 0 0 0 0\n",
            "  0 0 0 0 0 0 0 0 0 0 0 0 0 0]\n",
            " [0 0 0 0 0 0 0 1 0 0 0 0 1 0 0 0 1 0 1 0 0 0 0 0 0 0 0 0 0 0 0 0 0 0 0 0\n",
            "  0 0 0 0 0 0 0 0 0 0 0 0 0 0]\n",
            " [0 0 0 0 0 0 0 0 0 0 0 0 0 0 0 0 0 0 0 0 0 0 0 0 0 0 0 0 0 0 0 0 0 0 0 0\n",
            "  0 0 0 0 0 0 0 0 0 0 0 0 0 0]\n",
            " [0 0 0 0 0 0 0 0 0 0 0 1 0 0 0 0 0 0 1 0 0 0 0 0 0 0 0 0 0 0 0 0 0 0 0 0\n",
            "  0 0 0 0 0 0 0 0 0 0 0 0 0 0]\n",
            " [0 0 0 1 1 0 0 0 0 0 0 0 1 0 0 0 1 1 0 0 0 0 0 0 0 0 0 0 0 0 0 0 0 0 0 0\n",
            "  0 0 0 1 1 1 0 1 0 0 0 0 0 0]\n",
            " [0 0 1 1 0 1 0 0 0 0 0 0 0 1 1 0 0 0 0 0 0 0 0 0 0 0 1 1 0 0 0 0 0 0 0 0\n",
            "  0 0 0 1 1 1 0 0 1 0 0 0 0 0]\n",
            " [0 1 0 1 0 1 1 0 0 0 0 0 0 1 1 0 0 0 0 0 0 0 0 0 0 1 0 0 1 0 0 0 0 0 0 0\n",
            "  0 0 0 0 0 0 0 1 1 1 0 0 0 0]\n",
            " [0 1 1 0 1 0 0 1 0 0 0 0 0 0 0 0 0 0 0 0 1 1 1 0 0 0 1 0 1 0 0 0 0 0 0 0\n",
            "  0 0 0 0 0 0 0 0 0 0 0 0 0 0]\n",
            " [0 1 0 0 0 0 0 1 0 0 0 0 0 0 0 0 0 0 0 0 0 0 0 0 0 0 0 1 0 0 0 0 0 0 0 0\n",
            "  0 0 0 0 0 0 0 0 0 0 0 0 0 0]\n",
            " [0 1 0 0 0 0 0 1 0 0 0 0 0 0 0 0 0 0 0 0 0 0 0 0 0 0 0 0 0 0 0 0 0 0 0 0\n",
            "  0 0 0 0 0 0 0 0 0 0 0 0 0 0]\n",
            " [0 0 1 0 0 0 1 0 0 0 0 0 1 0 0 0 1 1 0 0 0 0 0 0 0 0 0 0 0 0 0 0 0 0 0 0\n",
            "  0 0 0 0 0 0 0 0 0 0 0 0 0 0]\n",
            " [0 0 0 1 1 0 0 0 0 0 0 1 1 1 0 0 0 0 1 0 0 0 0 0 0 0 0 0 0 0 0 0 0 0 0 0\n",
            "  0 1 1 0 1 1 0 0 0 0 0 0 0 0]\n",
            " [0 0 0 0 0 0 0 0 0 0 1 1 1 1 0 0 0 1 0 0 0 0 0 0 0 0 0 0 0 0 0 0 0 0 0 0\n",
            "  0 0 0 0 1 0 0 0 0 0 0 0 0 0]\n",
            " [0 0 0 0 0 0 1 0 0 1 1 0 0 0 1 1 1 0 0 0 0 0 0 0 0 0 0 0 0 0 0 0 0 0 0 0\n",
            "  0 0 0 0 0 0 1 0 0 0 0 0 0 0]\n",
            " [0 0 0 0 0 0 1 1 1 1 0 0 0 1 0 0 0 0 0 0 0 0 0 0 0 0 0 0 0 0 0 0 0 0 0 0\n",
            "  0 0 0 1 0 1 1 0 0 0 0 0 0 0]\n",
            " [0 0 0 0 0 0 0 1 0 0 0 0 0 0 0 0 0 0 0 0 0 0 0 0 0 0 0 0 0 0 0 0 0 0 0 0\n",
            "  0 0 0 1 0 1 0 1 1 0 0 0 0 0]\n",
            " [0 0 0 0 0 0 0 0 1 1 1 1 1 0 0 0 0 0 1 1 1 0 0 0 0 0 0 0 0 0 0 0 0 0 0 0\n",
            "  0 0 0 0 1 0 1 1 1 0 0 0 0 0]\n",
            " [0 0 0 0 0 0 0 0 1 1 0 1 0 0 0 0 0 0 1 0 0 1 0 0 0 0 0 0 0 0 0 0 0 0 0 0\n",
            "  0 0 0 0 0 0 0 0 1 0 0 0 0 0]\n",
            " [0 0 0 0 0 0 0 0 0 0 1 0 0 0 0 0 0 1 1 0 0 1 0 0 0 0 0 0 0 0 0 0 0 0 0 0\n",
            "  0 0 0 0 0 1 1 1 0 0 0 0 0 0]\n",
            " [0 0 0 0 0 0 0 0 0 0 0 0 0 0 0 0 0 1 1 0 1 1 0 0 0 0 0 0 0 0 0 1 0 0 0 0\n",
            "  0 0 0 0 0 1 0 0 0 0 1 1 0 0]\n",
            " [0 0 0 1 0 0 0 0 0 0 0 0 0 0 0 0 0 0 1 0 1 0 0 0 1 1 1 0 0 0 1 0 1 0 0 0\n",
            "  0 0 0 0 0 0 0 0 0 0 1 1 0 0]\n",
            " [0 0 0 1 0 0 0 0 0 0 0 0 0 0 0 0 0 0 0 1 0 0 0 0 0 0 0 0 0 1 1 0 1 0 0 0\n",
            "  0 0 0 0 0 0 0 0 0 0 0 0 0 0]\n",
            " [0 0 0 1 0 0 0 0 0 0 0 0 0 0 0 0 0 0 0 0 0 0 0 0 1 0 0 0 0 0 1 1 0 0 0 0\n",
            "  0 0 0 0 0 0 0 0 0 0 0 0 0 0]\n",
            " [0 0 0 0 0 0 0 0 0 0 0 0 0 0 0 0 0 0 0 0 0 0 0 0 1 0 0 0 0 0 0 0 0 0 0 0\n",
            "  0 0 0 0 0 0 0 0 0 0 0 0 0 0]\n",
            " [0 0 0 0 0 0 0 0 0 0 0 0 0 0 0 0 0 0 0 0 0 0 1 1 0 1 1 0 0 0 0 0 0 0 0 0\n",
            "  0 0 1 1 0 0 0 1 1 0 1 1 0 0]\n",
            " [0 0 0 0 0 0 0 0 0 0 0 0 0 0 0 0 0 0 0 0 0 0 0 0 1 0 0 0 0 0 0 0 0 1 0 0\n",
            "  0 0 1 1 0 0 0 1 0 0 0 1 0 0]\n",
            " [0 0 0 0 0 0 0 0 0 0 0 0 0 0 0 0 0 0 0 0 0 0 0 0 0 0 0 0 0 0 0 0 1 0 1 0\n",
            "  0 0 0 0 0 0 0 0 1 1 1 0 0 0]\n",
            " [0 0 1 1 0 0 0 0 0 0 0 0 0 0 0 0 0 0 0 0 0 0 0 0 0 0 0 0 0 0 0 0 0 1 0 0\n",
            "  0 0 0 0 0 0 0 0 0 1 0 0 0 0]\n",
            " [0 0 1 1 0 0 0 0 0 0 0 0 0 0 0 0 0 0 0 0 0 0 0 0 0 0 0 0 0 0 0 0 0 0 0 0\n",
            "  0 0 0 0 0 0 0 0 0 0 0 0 0 0]\n",
            " [0 0 0 0 0 0 0 0 0 0 0 0 0 0 0 0 0 0 0 0 0 0 0 0 0 0 0 0 0 0 0 0 0 0 0 0\n",
            "  0 0 0 0 0 0 0 0 0 0 0 0 0 0]\n",
            " [0 0 0 0 0 0 0 0 0 0 0 0 0 0 0 0 0 0 0 0 0 0 0 0 0 0 0 0 0 0 0 0 0 0 0 0\n",
            "  0 0 0 0 0 0 0 0 0 0 0 0 0 0]]\n"
          ]
        }
      ],
      "source": [
        "def iterate(Z):\n",
        "    # Count neighbours\n",
        "    N = (Z[0:-2,0:-2] + Z[0:-2,1:-1] + Z[0:-2,2:] +\n",
        "         Z[1:-1,0:-2]                + Z[1:-1,2:] +\n",
        "         Z[2:  ,0:-2] + Z[2:  ,1:-1] + Z[2:  ,2:])\n",
        "\n",
        "    # Apply rules\n",
        "    birth = (N==3) & (Z[1:-1,1:-1]==0)\n",
        "    survive = ((N==2) | (N==3)) & (Z[1:-1,1:-1]==1)\n",
        "    Z[...] = 0\n",
        "    Z[1:-1,1:-1][birth | survive] = 1\n",
        "    return Z\n",
        "\n",
        "Z = np.random.randint(0,2,(50,50))\n",
        "for i in range(100): Z = iterate(Z)\n",
        "print(Z)"
      ]
    },
    {
      "cell_type": "markdown",
      "metadata": {
        "id": "71dnUY7ObUMk"
      },
      "source": [
        "#### 89. How to get the n largest values of an array (★★★) \n",
        "(**hint**: np.argsort | np.argpartition)"
      ]
    },
    {
      "cell_type": "code",
      "execution_count": 133,
      "metadata": {
        "id": "KPozFZWxbUMk",
        "colab": {
          "base_uri": "https://localhost:8080/"
        },
        "outputId": "02ac5ef4-4ad7-4019-deeb-c509fb3ec29a"
      },
      "outputs": [
        {
          "output_type": "stream",
          "name": "stdout",
          "text": [
            "[9995 9996 9997 9998 9999]\n",
            "[9999 9998 9997 9996 9995]\n"
          ]
        }
      ],
      "source": [
        "Z = np.arange(10000)\n",
        "np.random.shuffle(Z)\n",
        "n = 5\n",
        "\n",
        "print (Z[np.argsort(Z)[-n:]])\n",
        "print (Z[np.argpartition(-Z,n)[:n]])"
      ]
    },
    {
      "cell_type": "markdown",
      "metadata": {
        "id": "gOuLxWPEbUMk"
      },
      "source": [
        "#### 90. Given an arbitrary number of vectors, build the cartesian product (every combinations of every item) (★★★) \n",
        "(**hint**: np.indices)"
      ]
    },
    {
      "cell_type": "code",
      "execution_count": 134,
      "metadata": {
        "scrolled": true,
        "id": "cR1IFTRBbUMk",
        "colab": {
          "base_uri": "https://localhost:8080/"
        },
        "outputId": "a80e4d93-2cce-4fa5-ef63-be22a337ce57"
      },
      "outputs": [
        {
          "output_type": "stream",
          "name": "stdout",
          "text": [
            "[[1 4 6]\n",
            " [1 4 7]\n",
            " [1 5 6]\n",
            " [1 5 7]\n",
            " [2 4 6]\n",
            " [2 4 7]\n",
            " [2 5 6]\n",
            " [2 5 7]\n",
            " [3 4 6]\n",
            " [3 4 7]\n",
            " [3 5 6]\n",
            " [3 5 7]]\n"
          ]
        }
      ],
      "source": [
        "def cartesian(arrays):\n",
        "    arrays = [np.asarray(a) for a in arrays]\n",
        "    shape = (len(x) for x in arrays)\n",
        "\n",
        "    ix = np.indices(shape, dtype=int)\n",
        "    ix = ix.reshape(len(arrays), -1).T\n",
        "\n",
        "    for n, arr in enumerate(arrays):\n",
        "        ix[:, n] = arrays[n][ix[:, n]]\n",
        "\n",
        "    return ix\n",
        "\n",
        "print (cartesian(([1, 2, 3], [4, 5], [6, 7])))"
      ]
    },
    {
      "cell_type": "markdown",
      "metadata": {
        "id": "60g7wKVbbUMl"
      },
      "source": [
        "#### 91. How to create a record array from a regular array? (★★★) \n",
        "(**hint**: np.core.records.fromarrays)"
      ]
    },
    {
      "cell_type": "code",
      "execution_count": 135,
      "metadata": {
        "id": "e9eAUxhgbUMl",
        "colab": {
          "base_uri": "https://localhost:8080/"
        },
        "outputId": "19292aec-7a44-45fc-f199-869a3f0eccdd"
      },
      "outputs": [
        {
          "output_type": "stream",
          "name": "stdout",
          "text": [
            "[(b'Hello', 2.5, 3) (b'World', 3.6, 2)]\n"
          ]
        }
      ],
      "source": [
        "Z = np.array([(\"Hello\", 2.5, 3),\n",
        "              (\"World\", 3.6, 2)])\n",
        "R = np.core.records.fromarrays(Z.T, \n",
        "                               names='col1, col2, col3',\n",
        "                               formats = 'S8, f8, i8')\n",
        "print(R)"
      ]
    },
    {
      "cell_type": "markdown",
      "metadata": {
        "id": "gqGLXAGqbUMl"
      },
      "source": [
        "#### 92. Consider a large vector Z, compute Z to the power of 3 using 3 different methods (★★★) \n",
        "(**hint**: np.power, \\*, np.einsum)"
      ]
    },
    {
      "cell_type": "code",
      "execution_count": 136,
      "metadata": {
        "id": "PbGcswYGbUMl",
        "colab": {
          "base_uri": "https://localhost:8080/"
        },
        "outputId": "068385d7-0eb5-4847-a674-fe832b56226a"
      },
      "outputs": [
        {
          "output_type": "stream",
          "name": "stdout",
          "text": [
            "1000 loops, best of 5: 386 µs per loop\n",
            "The slowest run took 13.95 times longer than the fastest. This could mean that an intermediate result is being cached.\n",
            "100000 loops, best of 5: 3.96 µs per loop\n",
            "The slowest run took 5.98 times longer than the fastest. This could mean that an intermediate result is being cached.\n",
            "100000 loops, best of 5: 9.15 µs per loop\n"
          ]
        }
      ],
      "source": [
        "x = np.random.rand(int(5e3))\n",
        "\n",
        "%timeit np.power(x,3)\n",
        "%timeit x*x*x\n",
        "%timeit np.einsum('i,i,i->i',x,x,x)"
      ]
    },
    {
      "cell_type": "markdown",
      "metadata": {
        "id": "XXrUDeRLbUMl"
      },
      "source": [
        "#### 93. Consider two arrays A and B of shape (8,3) and (2,2). How to find rows of A that contain elements of each row of B regardless of the order of the elements in B? (★★★) \n",
        "(**hint**: np.where)"
      ]
    },
    {
      "cell_type": "code",
      "execution_count": 137,
      "metadata": {
        "id": "iRzCRaJCbUMl",
        "colab": {
          "base_uri": "https://localhost:8080/"
        },
        "outputId": "6decea80-bbe1-4579-cc69-40e829b6a3b5"
      },
      "outputs": [
        {
          "output_type": "stream",
          "name": "stdout",
          "text": [
            "[0 1 3 4 5 7]\n"
          ]
        }
      ],
      "source": [
        "A = np.random.randint(0,5,(8,3))\n",
        "B = np.random.randint(0,5,(2,2))\n",
        "\n",
        "C = (A[..., np.newaxis, np.newaxis] == B)\n",
        "rows = np.where(C.any((3,1)).all(1))[0]\n",
        "print(rows)"
      ]
    },
    {
      "cell_type": "markdown",
      "metadata": {
        "id": "urmmQRE5bUMl"
      },
      "source": [
        "#### 94. Considering a 10x3 matrix, extract rows with unequal values (e.g. \\[2,2,3\\]) (★★★)"
      ]
    },
    {
      "cell_type": "code",
      "execution_count": 138,
      "metadata": {
        "id": "nEh7kPpmbUMl",
        "colab": {
          "base_uri": "https://localhost:8080/"
        },
        "outputId": "53d5f4aa-381a-449f-999f-2f7d106fc3e4"
      },
      "outputs": [
        {
          "output_type": "stream",
          "name": "stdout",
          "text": [
            "[[0 2 2]\n",
            " [1 2 0]\n",
            " [3 1 2]\n",
            " [3 2 0]\n",
            " [1 3 0]\n",
            " [2 3 4]\n",
            " [0 3 2]\n",
            " [4 2 2]\n",
            " [1 0 3]\n",
            " [2 1 2]]\n",
            "[[0 2 2]\n",
            " [1 2 0]\n",
            " [3 1 2]\n",
            " [3 2 0]\n",
            " [1 3 0]\n",
            " [2 3 4]\n",
            " [0 3 2]\n",
            " [4 2 2]\n",
            " [1 0 3]\n",
            " [2 1 2]]\n"
          ]
        }
      ],
      "source": [
        "Z = np.random.randint(0,5,(10,3))\n",
        "print(Z)\n",
        "# solution for arrays of all dtypes (including string arrays and record arrays)\n",
        "E = np.all(Z[:,1:] == Z[:,:-1], axis=1)\n",
        "U = Z[~E]\n",
        "print(U)\n"
      ]
    },
    {
      "cell_type": "markdown",
      "metadata": {
        "id": "1fSuRdtJbUMl"
      },
      "source": [
        "#### 95. Convert a vector of ints into a matrix binary representation (★★★) \n",
        "(**hint**: np.unpackbits)"
      ]
    },
    {
      "cell_type": "code",
      "execution_count": 139,
      "metadata": {
        "id": "U9nyWFaxbUMl",
        "colab": {
          "base_uri": "https://localhost:8080/"
        },
        "outputId": "a17258bd-3fd4-4d6c-ba15-058f602ccb7d"
      },
      "outputs": [
        {
          "output_type": "stream",
          "name": "stdout",
          "text": [
            "[[0 0 0 0 0 0 0 0]\n",
            " [0 0 0 0 0 0 0 1]\n",
            " [0 0 0 0 0 0 1 0]\n",
            " [0 0 0 0 0 0 1 1]\n",
            " [0 0 0 0 1 1 1 1]\n",
            " [0 0 0 1 0 0 0 0]\n",
            " [0 0 1 0 0 0 0 0]\n",
            " [0 1 0 0 0 0 0 0]\n",
            " [1 0 0 0 0 0 0 0]]\n"
          ]
        }
      ],
      "source": [
        "I = np.array([0, 1, 2, 3, 15, 16, 32, 64, 128], dtype=np.uint8)\n",
        "print(np.unpackbits(I[:, np.newaxis], axis=1))"
      ]
    },
    {
      "cell_type": "markdown",
      "metadata": {
        "id": "hvVAdsaJbUMm"
      },
      "source": [
        "#### 96. Given a two dimensional array, how to extract unique rows? (★★★) \n",
        "(**hint**: np.ascontiguousarray)"
      ]
    },
    {
      "cell_type": "code",
      "execution_count": 140,
      "metadata": {
        "id": "li7lXLWXbUMm",
        "colab": {
          "base_uri": "https://localhost:8080/"
        },
        "outputId": "94540a11-5e9c-4dd6-9caf-1a7f153dda9c"
      },
      "outputs": [
        {
          "output_type": "stream",
          "name": "stdout",
          "text": [
            "[[0 0 0]\n",
            " [0 0 1]\n",
            " [1 0 0]\n",
            " [1 1 1]]\n"
          ]
        }
      ],
      "source": [
        "Z = np.random.randint(0,2,(6,3))\n",
        "T = np.ascontiguousarray(Z).view(np.dtype((np.void, Z.dtype.itemsize * Z.shape[1])))\n",
        "_, idx = np.unique(T, return_index=True)\n",
        "uZ = Z[idx]\n",
        "print(uZ)"
      ]
    },
    {
      "cell_type": "markdown",
      "metadata": {
        "id": "UP_qK0bfbUMm"
      },
      "source": [
        "#### 97. Considering 2 vectors A & B, write the einsum equivalent of inner, outer, sum, and mul function (★★★) \n",
        "(**hint**: np.einsum)"
      ]
    },
    {
      "cell_type": "code",
      "execution_count": 141,
      "metadata": {
        "id": "hB4k7ezdbUMm",
        "colab": {
          "base_uri": "https://localhost:8080/"
        },
        "outputId": "b511f756-f597-4e86-e225-15298d0e7c91"
      },
      "outputs": [
        {
          "output_type": "execute_result",
          "data": {
            "text/plain": [
              "array([[0.00229328, 0.01562344, 0.02074857, 0.04340294, 0.01819415,\n",
              "        0.02527857, 0.00203613, 0.05560618, 0.04365842, 0.05774064],\n",
              "       [0.03309316, 0.22545366, 0.29941175, 0.6263252 , 0.2625503 ,\n",
              "        0.36478191, 0.02938232, 0.80242378, 0.6300118 , 0.83322495],\n",
              "       [0.01300218, 0.08857989, 0.11763775, 0.24608081, 0.10315502,\n",
              "        0.14332143, 0.0115442 , 0.31526928, 0.24752926, 0.32737094],\n",
              "       [0.00409413, 0.02789207, 0.03704182, 0.07748602, 0.03248149,\n",
              "        0.04512911, 0.00363504, 0.09927211, 0.07794211, 0.10308269],\n",
              "       [0.03430678, 0.23372171, 0.31039206, 0.6492944 , 0.2721788 ,\n",
              "        0.37815954, 0.03045986, 0.83185104, 0.6531162 , 0.86378177],\n",
              "       [0.01156572, 0.07879375, 0.10464134, 0.21889425, 0.09175864,\n",
              "        0.12748755, 0.01026882, 0.28043891, 0.22018268, 0.2912036 ],\n",
              "       [0.00679616, 0.04630019, 0.06148856, 0.12862499, 0.05391852,\n",
              "        0.07491327, 0.00603409, 0.1647894 , 0.12938209, 0.17111487],\n",
              "       [0.01051414, 0.07162967, 0.09512716, 0.19899198, 0.08341578,\n",
              "        0.11589614, 0.00933516, 0.25494088, 0.20016326, 0.26472683],\n",
              "       [0.03589295, 0.24452779, 0.32474298, 0.6793144 , 0.28476293,\n",
              "        0.39564367, 0.03186816, 0.87031151, 0.6833129 , 0.90371856],\n",
              "       [0.02250252, 0.15330281, 0.20359245, 0.42588537, 0.1785276 ,\n",
              "        0.24804252, 0.01997924, 0.54562798, 0.42839217, 0.566572  ]])"
            ]
          },
          "metadata": {},
          "execution_count": 141
        }
      ],
      "source": [
        "A = np.random.uniform(0,1,10)\n",
        "B = np.random.uniform(0,1,10)\n",
        "\n",
        "np.einsum('i->', A)       # np.sum(A)\n",
        "np.einsum('i,i->i', A, B) # A * B\n",
        "np.einsum('i,i', A, B)    # np.inner(A, B)\n",
        "np.einsum('i,j->ij', A, B)    # np.outer(A, B)"
      ]
    },
    {
      "cell_type": "markdown",
      "metadata": {
        "id": "iIH5t1otbUMm"
      },
      "source": [
        "#### 98. Considering a path described by two vectors (X,Y), how to sample it using equidistant samples (★★★)? \n",
        "(**hint**: np.cumsum, np.interp)"
      ]
    },
    {
      "cell_type": "code",
      "execution_count": 142,
      "metadata": {
        "collapsed": true,
        "id": "EP7-iTiNbUMm"
      },
      "outputs": [],
      "source": [
        "phi = np.arange(0, 10*np.pi, 0.1)\n",
        "a = 1\n",
        "x = a*phi*np.cos(phi)\n",
        "y = a*phi*np.sin(phi)\n",
        "\n",
        "dr = (np.diff(x)**2 + np.diff(y)**2)**.5 # segment lengths\n",
        "r = np.zeros_like(x)\n",
        "r[1:] = np.cumsum(dr)                # integrate path\n",
        "r_int = np.linspace(0, r.max(), 200) # regular spaced path\n",
        "x_int = np.interp(r_int, r, x)       # integrate path\n",
        "y_int = np.interp(r_int, r, y)"
      ]
    },
    {
      "cell_type": "markdown",
      "metadata": {
        "id": "bwhyNPPjbUMm"
      },
      "source": [
        "#### 99. Given an integer n and a 2D array X, select from X the rows which can be interpreted as draws from a multinomial distribution with n degrees, i.e., the rows which only contain integers and which sum to n. (★★★) \n",
        "(**hint**: np.logical\\_and.reduce, np.mod)"
      ]
    },
    {
      "cell_type": "code",
      "execution_count": 143,
      "metadata": {
        "id": "EnLLNmzJbUMm",
        "colab": {
          "base_uri": "https://localhost:8080/"
        },
        "outputId": "142a20df-2ce2-40d0-a219-bf373d000395"
      },
      "outputs": [
        {
          "output_type": "stream",
          "name": "stdout",
          "text": [
            "[[2. 0. 1. 1.]]\n"
          ]
        }
      ],
      "source": [
        "X = np.asarray([[1.0, 0.0, 3.0, 8.0],\n",
        "                [2.0, 0.0, 1.0, 1.0],\n",
        "                [1.5, 2.5, 1.0, 0.0]])\n",
        "n = 4\n",
        "M = np.logical_and.reduce(np.mod(X, 1) == 0, axis=-1)\n",
        "M &= (X.sum(axis=-1) == n)\n",
        "print(X[M])"
      ]
    },
    {
      "cell_type": "markdown",
      "metadata": {
        "id": "i_YNSVKHbUMm"
      },
      "source": [
        "#### 100. Compute bootstrapped 95% confidence intervals for the mean of a 1D array X (i.e., resample the elements of an array with replacement N times, compute the mean of each sample, and then compute percentiles over the means). (★★★) \n",
        "(**hint**: np.percentile)"
      ]
    },
    {
      "cell_type": "code",
      "execution_count": 144,
      "metadata": {
        "id": "vAfFSGmabUMm",
        "colab": {
          "base_uri": "https://localhost:8080/"
        },
        "outputId": "b99a3e01-65f6-4fe2-f7de-cf8e7f592ca4"
      },
      "outputs": [
        {
          "output_type": "stream",
          "name": "stdout",
          "text": [
            "[-0.18281163  0.21132654]\n"
          ]
        }
      ],
      "source": [
        "X = np.random.randn(100) # random 1D array\n",
        "N = 1000 # number of bootstrap samples\n",
        "idx = np.random.randint(0, X.size, (N, X.size))\n",
        "means = X[idx].mean(axis=1)\n",
        "confint = np.percentile(means, [2.5, 97.5])\n",
        "print(confint)"
      ]
    },
    {
      "cell_type": "code",
      "source": [
        ""
      ],
      "metadata": {
        "id": "ywxy2iP6cDHV"
      },
      "execution_count": 144,
      "outputs": []
    }
  ],
  "metadata": {
    "kernelspec": {
      "display_name": "Python 3",
      "language": "python",
      "name": "python3"
    },
    "language_info": {
      "codemirror_mode": {
        "name": "ipython",
        "version": 3
      },
      "file_extension": ".py",
      "mimetype": "text/x-python",
      "name": "python",
      "nbconvert_exporter": "python",
      "pygments_lexer": "ipython3",
      "version": "3.8.3"
    },
    "colab": {
      "name": "Numpy_tasks.ipynb",
      "provenance": []
    }
  },
  "nbformat": 4,
  "nbformat_minor": 0
}