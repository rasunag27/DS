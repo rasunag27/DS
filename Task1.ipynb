{
 "cells": [
  {
   "cell_type": "markdown",
   "metadata": {},
   "source": [
    "#### Task1_BatchDW3_Sunag"
   ]
  },
  {
   "cell_type": "markdown",
   "metadata": {},
   "source": [
    "### Q1. Fibonacci series for n numbers"
   ]
  },
  {
   "cell_type": "code",
   "execution_count": 1,
   "metadata": {},
   "outputs": [
    {
     "name": "stdout",
     "output_type": "stream",
     "text": [
      "10\n",
      "0 1 1 2 3 5 8 13 21 34\n"
     ]
    }
   ],
   "source": [
    "n = int(input())\n",
    "a = 0\n",
    "b = 1\n",
    "\n",
    "def fib(a,b,n):\n",
    "    res = []\n",
    "    for i in range(2, n):\n",
    "        c = a + b\n",
    "        a = b\n",
    "        b = c\n",
    "        res.append(c)\n",
    "    return res\n",
    "\n",
    "res = fib(a,b,n)\n",
    "print(a,b,*res)"
   ]
  },
  {
   "cell_type": "markdown",
   "metadata": {
    "collapsed": true
   },
   "source": [
    "### Q2. LCM of a list"
   ]
  },
  {
   "cell_type": "code",
   "execution_count": 4,
   "metadata": {},
   "outputs": [
    {
     "name": "stdout",
     "output_type": "stream",
     "text": [
      "40 12 20\n",
      "120\n"
     ]
    }
   ],
   "source": [
    "from functools import reduce\n",
    "\n",
    "a_list = list(map(int,input().split()))  # a = 40 12 20 format\n",
    "\n",
    "def lcm(a,b):\n",
    "    if a > b:\n",
    "        higher = a\n",
    "    else:\n",
    "        higher = b\n",
    "        \n",
    "    while True:\n",
    "        if higher % a == 0 and higher % b == 0:\n",
    "            lcm = higher\n",
    "            break\n",
    "        higher += 1\n",
    "    \n",
    "    return lcm\n",
    "\n",
    "\n",
    "lcm_list = reduce(lambda x, y: lcm(x, y), a_list)\n",
    "\n",
    "print(lcm_list)"
   ]
  },
  {
   "cell_type": "markdown",
   "metadata": {},
   "source": [
    "### Q3. HCF of a list"
   ]
  },
  {
   "cell_type": "code",
   "execution_count": 15,
   "metadata": {},
   "outputs": [
    {
     "name": "stdout",
     "output_type": "stream",
     "text": [
      "75 30 60 9 27\n",
      "3\n"
     ]
    }
   ],
   "source": [
    "num = list(map(int, input().split()))  # num = 75 30 60 9 27 format\n",
    "    \n",
    "def hcf(a,b):\n",
    "    if a%b == 0:\n",
    "        return b\n",
    "    return hcf(b,a%b)\n",
    "\n",
    "def hcf_n(num):\n",
    "    g = hcf(num[0], num[1])\n",
    "    for i in range(2, len(num)):\n",
    "        g = hcf(g, num[i])\n",
    "    return g\n",
    "\n",
    "res = hcf_n(num)\n",
    "print(res)"
   ]
  },
  {
   "cell_type": "markdown",
   "metadata": {},
   "source": [
    "### Q4. Max count of continuous element"
   ]
  },
  {
   "cell_type": "code",
   "execution_count": 4,
   "metadata": {},
   "outputs": [
    {
     "name": "stdout",
     "output_type": "stream",
     "text": [
      "1 1 1 2 2 1 4 4 5 3 6 2 2 2 2 4\n",
      "4\n"
     ]
    }
   ],
   "source": [
    "a = list(map(int, input().split())) # a = 1 1 1 2 2 1 4 4 5 3 6 2 2 2 2 4 format\n",
    "\n",
    "def max_con(a):\n",
    "    count = 1\n",
    "    var = 0\n",
    "    for i in range(len(a)):\n",
    "        try:\n",
    "            if a[i] == a[i+1]:\n",
    "                count+=1\n",
    "                if var < count: \n",
    "                    var = count\n",
    "            else:\n",
    "                count = 1\n",
    "        except:\n",
    "            None\n",
    "    return var\n",
    "var = max_con(a)\n",
    "print(var)"
   ]
  },
  {
   "cell_type": "markdown",
   "metadata": {},
   "source": [
    "### Q5. a = 12345, output should be 54321 without converting this integer to string in no case."
   ]
  },
  {
   "cell_type": "code",
   "execution_count": 5,
   "metadata": {},
   "outputs": [
    {
     "name": "stdout",
     "output_type": "stream",
     "text": [
      "54321\n"
     ]
    }
   ],
   "source": [
    "a = 12345\n",
    "\n",
    "def convert_int(a):\n",
    "    revs_number = 0\n",
    "    while(a > 0):\n",
    "        remainder = a % 10\n",
    "        revs_number = (revs_number * 10) + remainder\n",
    "        a = a // 10\n",
    "    return revs_number\n",
    "\n",
    "reverse_a = convert_int(a)\n",
    "print(reverse_a)"
   ]
  },
  {
   "cell_type": "markdown",
   "metadata": {},
   "source": [
    "### Q6. in any list, tell wether the numbers are in ascending order or not"
   ]
  },
  {
   "cell_type": "code",
   "execution_count": 6,
   "metadata": {},
   "outputs": [
    {
     "name": "stdout",
     "output_type": "stream",
     "text": [
      "1 2 3 4 5 6\n",
      "True\n"
     ]
    }
   ],
   "source": [
    "a = list(map(int, input().split())) # a = 1 2 3 4 5 6 format\n",
    "\n",
    "def sort_list(a):\n",
    "    flag = 0\n",
    "    i = 1\n",
    "    while i < len(a):\n",
    "        if(a[i] < a[i - 1]):\n",
    "            flag = 1\n",
    "        i += 1\n",
    "    if (not flag):\n",
    "        print (\"True\")\n",
    "    else :\n",
    "        print (\"False\")\n",
    "        \n",
    "sort_list(a)"
   ]
  },
  {
   "cell_type": "markdown",
   "metadata": {},
   "source": [
    "### Q7. encode-decode"
   ]
  },
  {
   "cell_type": "code",
   "execution_count": 6,
   "metadata": {},
   "outputs": [
    {
     "name": "stdout",
     "output_type": "stream",
     "text": [
      "vjg ncba fqi lworgf qxgt vjg swkem dtqyp hqz"
     ]
    }
   ],
   "source": [
    "\n",
    "\"\"\"\n",
    "7. You are given a sentence, and want to shift each letter by 2 in alphabet to create a secret code. \n",
    "The sentence you want to encode is the lazy dog jumped \n",
    "over the quick brown fox and the output should be ’vjg ncba fqi lworgf qxgt vjg swkem dtqyp hqz’\n",
    "\"\"\"\n",
    "\n",
    "a = 'the lazy dog jumped over the quick brown fox'\n",
    "\n",
    "for i in a:\n",
    "    if type(i) == str:\n",
    "        if i == 'z':\n",
    "            v = ord('b')\n",
    "        elif i == 'y':\n",
    "            v = ord('a')\n",
    "        elif i == ' ':\n",
    "            v = ord(' ')\n",
    "        else:\n",
    "            v = ord(i)+2\n",
    "        print(chr(v),end='')"
   ]
  },
  {
   "cell_type": "markdown",
   "metadata": {},
   "source": [
    "### Q8. convert minutes to seconds"
   ]
  },
  {
   "cell_type": "code",
   "execution_count": 7,
   "metadata": {},
   "outputs": [
    {
     "name": "stdout",
     "output_type": "stream",
     "text": [
      "10\n",
      "600.0 seconds\n"
     ]
    }
   ],
   "source": [
    "a = float(input())  \n",
    "\n",
    "def min_sec(a):\n",
    "    return a*60\n",
    "\n",
    "min_sec = min_sec(a)\n",
    "print(min_sec, 'seconds')"
   ]
  },
  {
   "cell_type": "markdown",
   "metadata": {},
   "source": [
    "### Q9. Converts age in years to days"
   ]
  },
  {
   "cell_type": "code",
   "execution_count": 3,
   "metadata": {},
   "outputs": [
    {
     "name": "stdout",
     "output_type": "stream",
     "text": [
      "22\n",
      "8030\n"
     ]
    }
   ],
   "source": [
    "a = int(input())\n",
    "\n",
    "def age_yrs(a):\n",
    "    return a*365\n",
    "\n",
    "days = age_yrs(a)\n",
    "print(days)"
   ]
  },
  {
   "cell_type": "code",
   "execution_count": null,
   "metadata": {
    "collapsed": true
   },
   "outputs": [],
   "source": []
  }
 ],
 "metadata": {
  "kernelspec": {
   "display_name": "Python 3",
   "language": "python",
   "name": "python3"
  },
  "language_info": {
   "codemirror_mode": {
    "name": "ipython",
    "version": 3
   },
   "file_extension": ".py",
   "mimetype": "text/x-python",
   "name": "python",
   "nbconvert_exporter": "python",
   "pygments_lexer": "ipython3",
   "version": "3.6.1"
  }
 },
 "nbformat": 4,
 "nbformat_minor": 2
}
